{
 "cells": [
  {
   "cell_type": "code",
   "execution_count": 74,
   "id": "adc5b76e",
   "metadata": {},
   "outputs": [],
   "source": [
    "with open(\"SAMEPLAYER.txt\" ,'r') as f:\n",
    "    data = f.read()"
   ]
  },
  {
   "cell_type": "code",
   "execution_count": 75,
   "id": "5ed836f7",
   "metadata": {},
   "outputs": [],
   "source": [
    "tmp = data.split(\"\\n\")"
   ]
  },
  {
   "cell_type": "code",
   "execution_count": 76,
   "id": "d8bc1eda",
   "metadata": {},
   "outputs": [],
   "source": [
    "tmp = [i.split(\"\\t\") for i in tmp]"
   ]
  },
  {
   "cell_type": "code",
   "execution_count": 77,
   "id": "c9dfdd27",
   "metadata": {},
   "outputs": [],
   "source": [
    "tmp = tmp[:-1]"
   ]
  },
  {
   "cell_type": "code",
   "execution_count": 78,
   "id": "f8691c12",
   "metadata": {
    "scrolled": true
   },
   "outputs": [],
   "source": [
    "tmp = [[i[0], i[1], float(i[2])] if i[2] != '' else [i[0], i[1], 1] for i in tmp]"
   ]
  },
  {
   "cell_type": "code",
   "execution_count": 79,
   "id": "3a493ec9",
   "metadata": {},
   "outputs": [],
   "source": [
    "import pandas as pd\n",
    "tmp2 = pd.DataFrame(tmp)"
   ]
  },
  {
   "cell_type": "code",
   "execution_count": 80,
   "id": "409acf25",
   "metadata": {},
   "outputs": [
    {
     "data": {
      "text/plain": [
       "array([[<AxesSubplot:title={'center':'2'}>]], dtype=object)"
      ]
     },
     "execution_count": 80,
     "metadata": {},
     "output_type": "execute_result"
    },
    {
     "data": {
      "image/png": "[encoded data removed]",
      "text/plain": [
       "<Figure size 432x288 with 1 Axes>"
      ]
     },
     "metadata": {
      "needs_background": "light"
     },
     "output_type": "display_data"
    }
   ],
   "source": [
    "tmp2[[2]].hist()"
   ]
  },
  {
   "cell_type": "code",
   "execution_count": 81,
   "id": "16cbcf05",
   "metadata": {},
   "outputs": [
    {
     "data": {
      "text/plain": [
       "0.5682143867015839"
      ]
     },
     "execution_count": 81,
     "metadata": {},
     "output_type": "execute_result"
    }
   ],
   "source": [
    "import statistics\n",
    "statistics.median([i for i in list(tmp2[2]) if i != 1.0 ])"
   ]
  },
  {
   "cell_type": "code",
   "execution_count": null,
   "id": "e50cefb5",
   "metadata": {},
   "outputs": [],
   "source": []
  }
 ],
 "metadata": {
  "kernelspec": {
   "display_name": "Python 3",
   "language": "python",
   "name": "python3"
  },
  "language_info": {
   "codemirror_mode": {
    "name": "ipython",
    "version": 3
   },
   "file_extension": ".py",
   "mimetype": "text/x-python",
   "name": "python",
   "nbconvert_exporter": "python",
   "pygments_lexer": "ipython3",
   "version": "3.7.7"
  }
 },
 "nbformat": 4,
 "nbformat_minor": 5
}
