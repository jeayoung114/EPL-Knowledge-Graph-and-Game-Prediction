{
 "cells": [
  {
   "cell_type": "code",
   "execution_count": null,
   "id": "273bacae",
   "metadata": {},
   "outputs": [],
   "source": [
    "import jaydebeapi\n",
    "jclass = \"org.apache.jena.jdbc.JenaJDBC\"\n",
    "conn_string = \"jdbc:jena:tdb:location=/path/to/tdbstore\"\n",
    "conn = jaydebeapi.connect(jclass, conn_string)\n",
    "cursor = conn.cursor()\n",
    "query = \"\"\"\n",
    "SELECT DISTINCT ?a\n",
    "WHERE  {\n",
    "    ?a ?b ?b .\n",
    "}\n",
    "\"\"\"\n",
    "cursor.execute(query)\n",
    "# do something with the results\n",
    "cursor.close()\n",
    "conn.close()"
   ]
  }
 ],
 "metadata": {
  "kernelspec": {
   "display_name": "Python 3",
   "language": "python",
   "name": "python3"
  },
  "language_info": {
   "codemirror_mode": {
    "name": "ipython",
    "version": 3
   },
   "file_extension": ".py",
   "mimetype": "text/x-python",
   "name": "python",
   "nbconvert_exporter": "python",
   "pygments_lexer": "ipython3",
   "version": "3.7.7"
  }
 },
 "nbformat": 4,
 "nbformat_minor": 5
}
