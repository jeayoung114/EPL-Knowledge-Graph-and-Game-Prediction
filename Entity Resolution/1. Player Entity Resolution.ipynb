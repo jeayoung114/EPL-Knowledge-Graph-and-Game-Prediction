{
 "cells": [
  {
   "cell_type": "code",
   "execution_count": 1,
   "id": "0d6f2388",
   "metadata": {},
   "outputs": [
    {
     "name": "stdout",
     "output_type": "stream",
     "text": [
      "Defaulting to user installation because normal site-packages is not writeable\n",
      "Requirement already satisfied: strsimpy in /Users/jaeyoungkim/.local/lib/python3.7/site-packages (0.2.1)\n",
      "\u001b[33mWARNING: You are using pip version 21.1.2; however, version 21.3.1 is available.\n",
      "You should consider upgrading via the '/opt/anaconda3/envs/jaeyoung/bin/python -m pip install --upgrade pip' command.\u001b[0m\n"
     ]
    }
   ],
   "source": [
    "!pip install strsimpy\n",
    "from strsimpy.jaro_winkler import JaroWinkler\n",
    "from strsimpy.normalized_levenshtein import NormalizedLevenshtein\n",
    "\n",
    "import pandas as pd\n",
    "import numpy as np\n",
    "import json\n",
    "import fileinput\n",
    "from tqdm import tqdm\n",
    "import string\n",
    "import re\n",
    "import json\n",
    "\n"
   ]
  },
  {
   "cell_type": "code",
   "execution_count": 2,
   "id": "03afc974",
   "metadata": {},
   "outputs": [
    {
     "data": {
      "text/html": [
       "<div>\n",
       "<style scoped>\n",
       "    .dataframe tbody tr th:only-of-type {\n",
       "        vertical-align: middle;\n",
       "    }\n",
       "\n",
       "    .dataframe tbody tr th {\n",
       "        vertical-align: top;\n",
       "    }\n",
       "\n",
       "    .dataframe thead th {\n",
       "        text-align: right;\n",
       "    }\n",
       "</style>\n",
       "<table border=\"1\" class=\"dataframe\">\n",
       "  <thead>\n",
       "    <tr style=\"text-align: right;\">\n",
       "      <th></th>\n",
       "      <th>player_url</th>\n",
       "      <th>Name</th>\n",
       "      <th>Shirt Number</th>\n",
       "      <th>Age</th>\n",
       "      <th>Height</th>\n",
       "      <th>Nationality</th>\n",
       "      <th>Positions</th>\n",
       "      <th>Strengths</th>\n",
       "      <th>Weaknesses</th>\n",
       "      <th>Style_of_Play</th>\n",
       "      <th>Current Team</th>\n",
       "    </tr>\n",
       "  </thead>\n",
       "  <tbody>\n",
       "    <tr>\n",
       "      <th>0</th>\n",
       "      <td>https://www.whoscored.com/Players/4384/Show/Di...</td>\n",
       "      <td>Didier Drogba</td>\n",
       "      <td>11</td>\n",
       "      <td>43 years old (11-03-1978)</td>\n",
       "      <td>189cm</td>\n",
       "      <td>Ivory Coast</td>\n",
       "      <td>Forward</td>\n",
       "      <td>[Long shots, Direct free-kicks, Finishing, Aer...</td>\n",
       "      <td>[Holding on to the ball, Passing, Discipline]</td>\n",
       "      <td>[Plays the ball off the ground often, Indirect...</td>\n",
       "      <td>NaN</td>\n",
       "    </tr>\n",
       "    <tr>\n",
       "      <th>1</th>\n",
       "      <td>https://www.whoscored.com/Players/8040/Show/Ce...</td>\n",
       "      <td>Cesc Fàbregas</td>\n",
       "      <td>4</td>\n",
       "      <td>34 years old (04-05-1987)</td>\n",
       "      <td>180cm</td>\n",
       "      <td>Spain</td>\n",
       "      <td>Forward</td>\n",
       "      <td>[Through balls, Taking set-pieces, Key passes,...</td>\n",
       "      <td>[Finishing, Tackling, Discipline]</td>\n",
       "      <td>[Plays the ball off the ground often, Does not...</td>\n",
       "      <td>Monaco</td>\n",
       "    </tr>\n",
       "    <tr>\n",
       "      <th>2</th>\n",
       "      <td>https://www.whoscored.com/Players/4564/Show/Ro...</td>\n",
       "      <td>Robin van Persie</td>\n",
       "      <td>10</td>\n",
       "      <td>38 years old (06-08-1983)</td>\n",
       "      <td>183cm</td>\n",
       "      <td>Netherlands</td>\n",
       "      <td>Forward</td>\n",
       "      <td>[Direct free-kicks, Long shots, Key passes, Dr...</td>\n",
       "      <td>[Tackling, Discipline, Defensive contribution]</td>\n",
       "      <td>[Likes to play short passes, Likes to dribble,...</td>\n",
       "      <td>NaN</td>\n",
       "    </tr>\n",
       "    <tr>\n",
       "      <th>3</th>\n",
       "      <td>https://www.whoscored.com/Players/109/Show/Luí...</td>\n",
       "      <td>Luís Boa Morte Pereira</td>\n",
       "      <td>35</td>\n",
       "      <td>44 years old (04-08-1977)</td>\n",
       "      <td>178cm</td>\n",
       "      <td>Portugal</td>\n",
       "      <td>Forward</td>\n",
       "      <td>NaN</td>\n",
       "      <td>NaN</td>\n",
       "      <td>NaN</td>\n",
       "      <td>NaN</td>\n",
       "    </tr>\n",
       "    <tr>\n",
       "      <th>4</th>\n",
       "      <td>https://www.whoscored.com/Players/48/Show/Fran...</td>\n",
       "      <td>Frank Lampard</td>\n",
       "      <td>8</td>\n",
       "      <td>43 years old (20-06-1978)</td>\n",
       "      <td>184cm</td>\n",
       "      <td>England</td>\n",
       "      <td>Midfielder (Centre)</td>\n",
       "      <td>[Finishing]</td>\n",
       "      <td>[Tackling, Passing]</td>\n",
       "      <td>[Likes to do layoffs, Does not dive into tackles]</td>\n",
       "      <td>NaN</td>\n",
       "    </tr>\n",
       "  </tbody>\n",
       "</table>\n",
       "</div>"
      ],
      "text/plain": [
       "                                          player_url                    Name  \\\n",
       "0  https://www.whoscored.com/Players/4384/Show/Di...           Didier Drogba   \n",
       "1  https://www.whoscored.com/Players/8040/Show/Ce...           Cesc Fàbregas   \n",
       "2  https://www.whoscored.com/Players/4564/Show/Ro...        Robin van Persie   \n",
       "3  https://www.whoscored.com/Players/109/Show/Luí...  Luís Boa Morte Pereira   \n",
       "4  https://www.whoscored.com/Players/48/Show/Fran...           Frank Lampard   \n",
       "\n",
       "  Shirt Number                        Age Height  Nationality  \\\n",
       "0           11  43 years old (11-03-1978)  189cm  Ivory Coast   \n",
       "1            4  34 years old (04-05-1987)  180cm        Spain   \n",
       "2           10  38 years old (06-08-1983)  183cm  Netherlands   \n",
       "3           35  44 years old (04-08-1977)  178cm     Portugal   \n",
       "4            8  43 years old (20-06-1978)  184cm      England   \n",
       "\n",
       "             Positions                                          Strengths  \\\n",
       "0              Forward  [Long shots, Direct free-kicks, Finishing, Aer...   \n",
       "1              Forward  [Through balls, Taking set-pieces, Key passes,...   \n",
       "2              Forward  [Direct free-kicks, Long shots, Key passes, Dr...   \n",
       "3              Forward                                                NaN   \n",
       "4  Midfielder (Centre)                                        [Finishing]   \n",
       "\n",
       "                                       Weaknesses  \\\n",
       "0   [Holding on to the ball, Passing, Discipline]   \n",
       "1               [Finishing, Tackling, Discipline]   \n",
       "2  [Tackling, Discipline, Defensive contribution]   \n",
       "3                                             NaN   \n",
       "4                             [Tackling, Passing]   \n",
       "\n",
       "                                       Style_of_Play Current Team  \n",
       "0  [Plays the ball off the ground often, Indirect...          NaN  \n",
       "1  [Plays the ball off the ground often, Does not...       Monaco  \n",
       "2  [Likes to play short passes, Likes to dribble,...          NaN  \n",
       "3                                                NaN          NaN  \n",
       "4  [Likes to do layoffs, Does not dive into tackles]          NaN  "
      ]
     },
     "execution_count": 2,
     "metadata": {},
     "output_type": "execute_result"
    }
   ],
   "source": [
    "who_player = pd.DataFrame()\n",
    "with fileinput.input(files=\"whoscored_crawler/player_info_whoscored.jl\") as file:\n",
    "    for line in file:\n",
    "        conv = json.loads(line)\n",
    "        who_player = who_player.append(conv, ignore_index=True)\n",
    "who_player.head()"
   ]
  },
  {
   "cell_type": "code",
   "execution_count": 3,
   "id": "ff1685af",
   "metadata": {},
   "outputs": [
    {
     "data": {
      "text/html": [
       "<div>\n",
       "<style scoped>\n",
       "    .dataframe tbody tr th:only-of-type {\n",
       "        vertical-align: middle;\n",
       "    }\n",
       "\n",
       "    .dataframe tbody tr th {\n",
       "        vertical-align: top;\n",
       "    }\n",
       "\n",
       "    .dataframe thead th {\n",
       "        text-align: right;\n",
       "    }\n",
       "</style>\n",
       "<table border=\"1\" class=\"dataframe\">\n",
       "  <thead>\n",
       "    <tr style=\"text-align: right;\">\n",
       "      <th></th>\n",
       "      <th>team_history</th>\n",
       "      <th>player_url</th>\n",
       "      <th>name</th>\n",
       "      <th>Born</th>\n",
       "      <th>Placeofbirth</th>\n",
       "      <th>Nationality</th>\n",
       "      <th>Height</th>\n",
       "      <th>Weight</th>\n",
       "      <th>Position(s)</th>\n",
       "      <th>Foot</th>\n",
       "      <th>Current_team_info</th>\n",
       "      <th>Homepage</th>\n",
       "      <th>sizeofshoe</th>\n",
       "    </tr>\n",
       "  </thead>\n",
       "  <tbody>\n",
       "    <tr>\n",
       "      <th>0</th>\n",
       "      <td>{'0': {'period': '07/2011 - 06/2012', 'team': ...</td>\n",
       "      <td>https://www.worldfootball.net/player_summary/m...</td>\n",
       "      <td>Michael Johnson</td>\n",
       "      <td>[24.02.1988]</td>\n",
       "      <td>[Urmston, England]</td>\n",
       "      <td>[England]</td>\n",
       "      <td>[183cm]</td>\n",
       "      <td>[79kg]</td>\n",
       "      <td>[DefensiveMidfielder]</td>\n",
       "      <td>[right]</td>\n",
       "      <td>NaN</td>\n",
       "      <td>NaN</td>\n",
       "      <td>NaN</td>\n",
       "    </tr>\n",
       "    <tr>\n",
       "      <th>1</th>\n",
       "      <td>{'0': {'period': '10/2017 - 06/2019', 'team': ...</td>\n",
       "      <td>https://www.worldfootball.net/player_summary/r...</td>\n",
       "      <td>Roger Johnson</td>\n",
       "      <td>[28.04.1983]</td>\n",
       "      <td>[Ashford, England]</td>\n",
       "      <td>[England]</td>\n",
       "      <td>[191cm]</td>\n",
       "      <td>[78kg]</td>\n",
       "      <td>[CentreBack]</td>\n",
       "      <td>[right]</td>\n",
       "      <td>NaN</td>\n",
       "      <td>NaN</td>\n",
       "      <td>NaN</td>\n",
       "    </tr>\n",
       "    <tr>\n",
       "      <th>2</th>\n",
       "      <td>{'1': {'period': '07/2020 - 08/2020', 'team': ...</td>\n",
       "      <td>https://www.worldfootball.net/player_summary/j...</td>\n",
       "      <td>Jake Jervis</td>\n",
       "      <td>[17.09.1991]</td>\n",
       "      <td>[Wolverhampton, England]</td>\n",
       "      <td>[England]</td>\n",
       "      <td>[191cm]</td>\n",
       "      <td>NaN</td>\n",
       "      <td>[RightWinger, CentreForward]</td>\n",
       "      <td>[right]</td>\n",
       "      <td>{'team_name': 'SJK Seinäjoki', 'country': 'Fin...</td>\n",
       "      <td>NaN</td>\n",
       "      <td>NaN</td>\n",
       "    </tr>\n",
       "    <tr>\n",
       "      <th>3</th>\n",
       "      <td>{'0': {'period': '01/2019 - 06/2019', 'team': ...</td>\n",
       "      <td>https://www.worldfootball.net/player_summary/p...</td>\n",
       "      <td>Paul Scharner</td>\n",
       "      <td>[11.03.1980]</td>\n",
       "      <td>[Scheibbs, Austria]</td>\n",
       "      <td>[Austria]</td>\n",
       "      <td>[191cm]</td>\n",
       "      <td>[81kg]</td>\n",
       "      <td>[CentreBack, DefensiveMidfielder]</td>\n",
       "      <td>[right]</td>\n",
       "      <td>NaN</td>\n",
       "      <td>[www.paulscharner.at]</td>\n",
       "      <td>NaN</td>\n",
       "    </tr>\n",
       "    <tr>\n",
       "      <th>4</th>\n",
       "      <td>{'0': {'period': '05/2013 - 06/2013', 'team': ...</td>\n",
       "      <td>https://www.worldfootball.net/player_summary/d...</td>\n",
       "      <td>David Bentley</td>\n",
       "      <td>[27.08.1984]</td>\n",
       "      <td>[Peterborough, England]</td>\n",
       "      <td>[England]</td>\n",
       "      <td>[175cm]</td>\n",
       "      <td>[68kg]</td>\n",
       "      <td>[RightMidfielder, RightWinger]</td>\n",
       "      <td>[right]</td>\n",
       "      <td>NaN</td>\n",
       "      <td>NaN</td>\n",
       "      <td>NaN</td>\n",
       "    </tr>\n",
       "  </tbody>\n",
       "</table>\n",
       "</div>"
      ],
      "text/plain": [
       "                                        team_history  \\\n",
       "0  {'0': {'period': '07/2011 - 06/2012', 'team': ...   \n",
       "1  {'0': {'period': '10/2017 - 06/2019', 'team': ...   \n",
       "2  {'1': {'period': '07/2020 - 08/2020', 'team': ...   \n",
       "3  {'0': {'period': '01/2019 - 06/2019', 'team': ...   \n",
       "4  {'0': {'period': '05/2013 - 06/2013', 'team': ...   \n",
       "\n",
       "                                          player_url             name  \\\n",
       "0  https://www.worldfootball.net/player_summary/m...  Michael Johnson   \n",
       "1  https://www.worldfootball.net/player_summary/r...    Roger Johnson   \n",
       "2  https://www.worldfootball.net/player_summary/j...      Jake Jervis   \n",
       "3  https://www.worldfootball.net/player_summary/p...    Paul Scharner   \n",
       "4  https://www.worldfootball.net/player_summary/d...    David Bentley   \n",
       "\n",
       "           Born              Placeofbirth Nationality   Height  Weight  \\\n",
       "0  [24.02.1988]        [Urmston, England]   [England]  [183cm]  [79kg]   \n",
       "1  [28.04.1983]        [Ashford, England]   [England]  [191cm]  [78kg]   \n",
       "2  [17.09.1991]  [Wolverhampton, England]   [England]  [191cm]     NaN   \n",
       "3  [11.03.1980]       [Scheibbs, Austria]   [Austria]  [191cm]  [81kg]   \n",
       "4  [27.08.1984]   [Peterborough, England]   [England]  [175cm]  [68kg]   \n",
       "\n",
       "                         Position(s)     Foot  \\\n",
       "0              [DefensiveMidfielder]  [right]   \n",
       "1                       [CentreBack]  [right]   \n",
       "2       [RightWinger, CentreForward]  [right]   \n",
       "3  [CentreBack, DefensiveMidfielder]  [right]   \n",
       "4     [RightMidfielder, RightWinger]  [right]   \n",
       "\n",
       "                                   Current_team_info               Homepage  \\\n",
       "0                                                NaN                    NaN   \n",
       "1                                                NaN                    NaN   \n",
       "2  {'team_name': 'SJK Seinäjoki', 'country': 'Fin...                    NaN   \n",
       "3                                                NaN  [www.paulscharner.at]   \n",
       "4                                                NaN                    NaN   \n",
       "\n",
       "  sizeofshoe  \n",
       "0        NaN  \n",
       "1        NaN  \n",
       "2        NaN  \n",
       "3        NaN  \n",
       "4        NaN  "
      ]
     },
     "execution_count": 3,
     "metadata": {},
     "output_type": "execute_result"
    }
   ],
   "source": [
    "world_player = pd.DataFrame()\n",
    "with fileinput.input(files=\"worldfootball_crawler/player_info_worldfootball.jl\") as file:\n",
    "    for line in file:\n",
    "        conv = json.loads(line)\n",
    "        world_player = world_player.append(conv, ignore_index=True)\n",
    "world_player.head()"
   ]
  },
  {
   "cell_type": "code",
   "execution_count": 4,
   "id": "b3483d23",
   "metadata": {},
   "outputs": [
    {
     "data": {
      "text/plain": [
       "2155"
      ]
     },
     "execution_count": 4,
     "metadata": {},
     "output_type": "execute_result"
    }
   ],
   "source": [
    "len(who_player)"
   ]
  },
  {
   "cell_type": "code",
   "execution_count": 5,
   "id": "603d5dda",
   "metadata": {},
   "outputs": [
    {
     "data": {
      "text/plain": [
       "2832"
      ]
     },
     "execution_count": 5,
     "metadata": {},
     "output_type": "execute_result"
    }
   ],
   "source": [
    "len(world_player)"
   ]
  },
  {
   "cell_type": "code",
   "execution_count": 6,
   "id": "0a2eeaac",
   "metadata": {
    "scrolled": true
   },
   "outputs": [
    {
     "data": {
      "text/plain": [
       "2155"
      ]
     },
     "execution_count": 6,
     "metadata": {},
     "output_type": "execute_result"
    }
   ],
   "source": [
    "                       \n",
    "len(who_player[\"player_url\"].drop_duplicates())"
   ]
  },
  {
   "cell_type": "code",
   "execution_count": null,
   "id": "d8039807",
   "metadata": {},
   "outputs": [],
   "source": []
  },
  {
   "cell_type": "markdown",
   "id": "be3396e3",
   "metadata": {},
   "source": [
    "## ID, Map Generation"
   ]
  },
  {
   "cell_type": "code",
   "execution_count": 7,
   "id": "06e8bad4",
   "metadata": {},
   "outputs": [
    {
     "data": {
      "text/plain": [
       "2832"
      ]
     },
     "execution_count": 7,
     "metadata": {},
     "output_type": "execute_result"
    }
   ],
   "source": [
    "len(world_player[\"player_url\"])"
   ]
  },
  {
   "cell_type": "code",
   "execution_count": 8,
   "id": "3bfc1071",
   "metadata": {
    "scrolled": true
   },
   "outputs": [
    {
     "data": {
      "text/plain": [
       "2832"
      ]
     },
     "execution_count": 8,
     "metadata": {},
     "output_type": "execute_result"
    }
   ],
   "source": [
    "len(world_player[\"player_url\"].drop_duplicates())"
   ]
  },
  {
   "cell_type": "code",
   "execution_count": 9,
   "id": "5ba52429",
   "metadata": {},
   "outputs": [
    {
     "data": {
      "text/plain": [
       "1    2812\n",
       "2      10\n",
       "Name: player_url, dtype: int64"
      ]
     },
     "execution_count": 9,
     "metadata": {},
     "output_type": "execute_result"
    }
   ],
   "source": [
    "world_player.groupby(\"name\").count()[\"player_url\"].value_counts()"
   ]
  },
  {
   "cell_type": "code",
   "execution_count": 10,
   "id": "47bec0a4",
   "metadata": {},
   "outputs": [],
   "source": [
    "id2player = dict()\n",
    "player2id = dict()\n",
    "\n",
    "for idx, player_url in enumerate(list(world_player[\"player_url\"].drop_duplicates())):\n",
    "    id2player[idx + 10**6] = player_url\n",
    "    player2id[player_url] = idx + 10**6\n",
    "\n",
    "for idx, player_url in enumerate(list(who_player[\"player_url\"].drop_duplicates())):\n",
    "    id2player[idx + 2*(10**6)] = player_url\n",
    "    player2id[player_url] = idx + 2 * (10**6)"
   ]
  },
  {
   "cell_type": "code",
   "execution_count": 11,
   "id": "16a1a8ce",
   "metadata": {},
   "outputs": [
    {
     "data": {
      "text/plain": [
       "2155"
      ]
     },
     "execution_count": 11,
     "metadata": {},
     "output_type": "execute_result"
    }
   ],
   "source": [
    "len(who_player[\"player_url\"])"
   ]
  },
  {
   "cell_type": "code",
   "execution_count": 12,
   "id": "084161a8",
   "metadata": {},
   "outputs": [
    {
     "data": {
      "text/plain": [
       "2155"
      ]
     },
     "execution_count": 12,
     "metadata": {},
     "output_type": "execute_result"
    }
   ],
   "source": [
    "len(who_player[\"player_url\"].drop_duplicates())"
   ]
  },
  {
   "cell_type": "code",
   "execution_count": 13,
   "id": "8ca26972",
   "metadata": {},
   "outputs": [
    {
     "data": {
      "text/plain": [
       "4987"
      ]
     },
     "execution_count": 13,
     "metadata": {},
     "output_type": "execute_result"
    }
   ],
   "source": [
    "len(id2player)"
   ]
  },
  {
   "cell_type": "code",
   "execution_count": 14,
   "id": "786df37a",
   "metadata": {},
   "outputs": [],
   "source": [
    "# id2who = dict()\n",
    "# who2id = dict()\n",
    "\n",
    "# for idx, player_url in enumerate(who_player[\"player_url\"].drop_duplicates()):\n",
    "#     id2who[idx + (10**6)*2] = player_url\n",
    "#     who2id[player_url] = idx + (10**6)*2"
   ]
  },
  {
   "cell_type": "markdown",
   "id": "990075aa",
   "metadata": {},
   "source": [
    "## Blocking"
   ]
  },
  {
   "cell_type": "code",
   "execution_count": 15,
   "id": "cbfc4bda",
   "metadata": {},
   "outputs": [],
   "source": [
    "def f(x):\n",
    "    if type(x) == float:\n",
    "        return 0\n",
    "    elif len(x[0])<15:\n",
    "        tmp = x[0].split(\".\")\n",
    "        return int(str(tmp[2]) + str(tmp[1]) + str(tmp[0]))\n",
    "    else:\n",
    "        tmp = x[0].split(\".\")\n",
    "        return int(str(tmp[2])[:4] + str(tmp[1]) + str(tmp[0]))\n",
    "world_player[\"birth_block\"] = world_player[\"Born\"].apply(f)"
   ]
  },
  {
   "cell_type": "code",
   "execution_count": 16,
   "id": "46fb9a68",
   "metadata": {},
   "outputs": [],
   "source": [
    "who_player[\"DOB\"] = who_player[\"Age\"].apply(lambda x : x.split(\" years old (\")[1][:-1])\n",
    "\n",
    "who_player[\"Age\"] = who_player[\"Age\"].apply(lambda x : x.split(\" years old (\")[0])"
   ]
  },
  {
   "cell_type": "code",
   "execution_count": 17,
   "id": "6a6cda55",
   "metadata": {},
   "outputs": [],
   "source": [
    "def f(x):\n",
    "    tmp = x.split(\"-\")\n",
    "    return int(str(tmp[2]) + str(tmp[1]) + str(tmp[0]))\n",
    "who_player[\"birth_block\"] = who_player[\"DOB\"].apply(f)"
   ]
  },
  {
   "cell_type": "code",
   "execution_count": null,
   "id": "72a0c491",
   "metadata": {},
   "outputs": [],
   "source": []
  },
  {
   "cell_type": "code",
   "execution_count": 18,
   "id": "dc122e3f",
   "metadata": {},
   "outputs": [],
   "source": [
    "who_player['player_id'] = who_player[\"player_url\"].apply(lambda x : player2id[x])\n",
    "world_player['player_id'] = world_player[\"player_url\"].apply(lambda x : player2id[x])"
   ]
  },
  {
   "cell_type": "code",
   "execution_count": 19,
   "id": "4d43e922",
   "metadata": {},
   "outputs": [],
   "source": [
    "who_birth = who_player[[\"player_id\", \"birth_block\"]]\n",
    "world_birth = world_player[[\"player_id\", \"birth_block\"]]\n",
    "birth_df = who_birth.append(world_birth)"
   ]
  },
  {
   "cell_type": "code",
   "execution_count": 20,
   "id": "4276d4df",
   "metadata": {
    "scrolled": true
   },
   "outputs": [],
   "source": [
    "# ## player_Block_obs.txt\n",
    "# with open(data_dir + \"playerBlock_obs.txt\", \"w\") as f:\n",
    "#     for idx, row in birth_df.iterrows():\n",
    "#         f.write(str(row[\"player_id\"]) + \"\\t\" + str(row[\"birth_block\"]) + \"\\n\")"
   ]
  },
  {
   "cell_type": "code",
   "execution_count": 21,
   "id": "9f730cd7",
   "metadata": {},
   "outputs": [
    {
     "data": {
      "text/html": [
       "<div>\n",
       "<style scoped>\n",
       "    .dataframe tbody tr th:only-of-type {\n",
       "        vertical-align: middle;\n",
       "    }\n",
       "\n",
       "    .dataframe tbody tr th {\n",
       "        vertical-align: top;\n",
       "    }\n",
       "\n",
       "    .dataframe thead th {\n",
       "        text-align: right;\n",
       "    }\n",
       "</style>\n",
       "<table border=\"1\" class=\"dataframe\">\n",
       "  <thead>\n",
       "    <tr style=\"text-align: right;\">\n",
       "      <th></th>\n",
       "      <th>player_id</th>\n",
       "      <th>birth_block</th>\n",
       "    </tr>\n",
       "  </thead>\n",
       "  <tbody>\n",
       "    <tr>\n",
       "      <th>0</th>\n",
       "      <td>2000000</td>\n",
       "      <td>19780311</td>\n",
       "    </tr>\n",
       "    <tr>\n",
       "      <th>1</th>\n",
       "      <td>2000001</td>\n",
       "      <td>19870504</td>\n",
       "    </tr>\n",
       "    <tr>\n",
       "      <th>2</th>\n",
       "      <td>2000002</td>\n",
       "      <td>19830806</td>\n",
       "    </tr>\n",
       "    <tr>\n",
       "      <th>3</th>\n",
       "      <td>2000003</td>\n",
       "      <td>19770804</td>\n",
       "    </tr>\n",
       "    <tr>\n",
       "      <th>4</th>\n",
       "      <td>2000004</td>\n",
       "      <td>19780620</td>\n",
       "    </tr>\n",
       "    <tr>\n",
       "      <th>...</th>\n",
       "      <td>...</td>\n",
       "      <td>...</td>\n",
       "    </tr>\n",
       "    <tr>\n",
       "      <th>2827</th>\n",
       "      <td>1002827</td>\n",
       "      <td>20010203</td>\n",
       "    </tr>\n",
       "    <tr>\n",
       "      <th>2828</th>\n",
       "      <td>1002828</td>\n",
       "      <td>19911123</td>\n",
       "    </tr>\n",
       "    <tr>\n",
       "      <th>2829</th>\n",
       "      <td>1002829</td>\n",
       "      <td>19910411</td>\n",
       "    </tr>\n",
       "    <tr>\n",
       "      <th>2830</th>\n",
       "      <td>1002830</td>\n",
       "      <td>19840922</td>\n",
       "    </tr>\n",
       "    <tr>\n",
       "      <th>2831</th>\n",
       "      <td>1002831</td>\n",
       "      <td>20040628</td>\n",
       "    </tr>\n",
       "  </tbody>\n",
       "</table>\n",
       "<p>4987 rows × 2 columns</p>\n",
       "</div>"
      ],
      "text/plain": [
       "      player_id  birth_block\n",
       "0       2000000     19780311\n",
       "1       2000001     19870504\n",
       "2       2000002     19830806\n",
       "3       2000003     19770804\n",
       "4       2000004     19780620\n",
       "...         ...          ...\n",
       "2827    1002827     20010203\n",
       "2828    1002828     19911123\n",
       "2829    1002829     19910411\n",
       "2830    1002830     19840922\n",
       "2831    1002831     20040628\n",
       "\n",
       "[4987 rows x 2 columns]"
      ]
     },
     "execution_count": 21,
     "metadata": {},
     "output_type": "execute_result"
    }
   ],
   "source": [
    "# birth_df.groupby(\"birth_block\").count().sort_values(by = \"player_id\", ascending = False)\n",
    "birth_df"
   ]
  },
  {
   "cell_type": "code",
   "execution_count": 22,
   "id": "25020b93",
   "metadata": {},
   "outputs": [],
   "source": [
    "world_name = world_player[[\"player_id\", \"name\"]]\n",
    "who_name = who_player[[\"player_id\", \"Name\"]].rename({\"Name\" : \"name\"}, axis =1 )\n",
    "name_df = world_name.append(who_name)"
   ]
  },
  {
   "cell_type": "code",
   "execution_count": 23,
   "id": "8f7cbbd0",
   "metadata": {},
   "outputs": [],
   "source": [
    "# ## player_name_obs.txt\n",
    "# with open(data_dir + \"playerName_obs.txt\", \"w\") as f:\n",
    "#     for idx, row in name_df.iterrows():\n",
    "#         f.write(str(row[\"player_id\"]) + \"\\t\" + str(row[\"name\"]) + \"\\n\")"
   ]
  },
  {
   "cell_type": "code",
   "execution_count": 24,
   "id": "a8375c9d",
   "metadata": {
    "scrolled": true
   },
   "outputs": [
    {
     "data": {
      "text/html": [
       "<div>\n",
       "<style scoped>\n",
       "    .dataframe tbody tr th:only-of-type {\n",
       "        vertical-align: middle;\n",
       "    }\n",
       "\n",
       "    .dataframe tbody tr th {\n",
       "        vertical-align: top;\n",
       "    }\n",
       "\n",
       "    .dataframe thead th {\n",
       "        text-align: right;\n",
       "    }\n",
       "</style>\n",
       "<table border=\"1\" class=\"dataframe\">\n",
       "  <thead>\n",
       "    <tr style=\"text-align: right;\">\n",
       "      <th></th>\n",
       "      <th>player_id</th>\n",
       "      <th>name</th>\n",
       "    </tr>\n",
       "  </thead>\n",
       "  <tbody>\n",
       "    <tr>\n",
       "      <th>0</th>\n",
       "      <td>1000000</td>\n",
       "      <td>Michael Johnson</td>\n",
       "    </tr>\n",
       "    <tr>\n",
       "      <th>1</th>\n",
       "      <td>1000001</td>\n",
       "      <td>Roger Johnson</td>\n",
       "    </tr>\n",
       "    <tr>\n",
       "      <th>2</th>\n",
       "      <td>1000002</td>\n",
       "      <td>Jake Jervis</td>\n",
       "    </tr>\n",
       "    <tr>\n",
       "      <th>3</th>\n",
       "      <td>1000003</td>\n",
       "      <td>Paul Scharner</td>\n",
       "    </tr>\n",
       "    <tr>\n",
       "      <th>4</th>\n",
       "      <td>1000004</td>\n",
       "      <td>David Bentley</td>\n",
       "    </tr>\n",
       "    <tr>\n",
       "      <th>...</th>\n",
       "      <td>...</td>\n",
       "      <td>...</td>\n",
       "    </tr>\n",
       "    <tr>\n",
       "      <th>2150</th>\n",
       "      <td>2002150</td>\n",
       "      <td>Joel Mumbongo</td>\n",
       "    </tr>\n",
       "    <tr>\n",
       "      <th>2151</th>\n",
       "      <td>2002151</td>\n",
       "      <td>Tyrese Francois</td>\n",
       "    </tr>\n",
       "    <tr>\n",
       "      <th>2152</th>\n",
       "      <td>2002152</td>\n",
       "      <td>Bailey Peacock-Farrell</td>\n",
       "    </tr>\n",
       "    <tr>\n",
       "      <th>2153</th>\n",
       "      <td>2002153</td>\n",
       "      <td>Allan Tchaptchet</td>\n",
       "    </tr>\n",
       "    <tr>\n",
       "      <th>2154</th>\n",
       "      <td>2002154</td>\n",
       "      <td>Alexandre Jankewitz</td>\n",
       "    </tr>\n",
       "  </tbody>\n",
       "</table>\n",
       "<p>4987 rows × 2 columns</p>\n",
       "</div>"
      ],
      "text/plain": [
       "      player_id                    name\n",
       "0       1000000         Michael Johnson\n",
       "1       1000001           Roger Johnson\n",
       "2       1000002             Jake Jervis\n",
       "3       1000003           Paul Scharner\n",
       "4       1000004           David Bentley\n",
       "...         ...                     ...\n",
       "2150    2002150           Joel Mumbongo\n",
       "2151    2002151         Tyrese Francois\n",
       "2152    2002152  Bailey Peacock-Farrell\n",
       "2153    2002153        Allan Tchaptchet\n",
       "2154    2002154     Alexandre Jankewitz\n",
       "\n",
       "[4987 rows x 2 columns]"
      ]
     },
     "execution_count": 24,
     "metadata": {},
     "output_type": "execute_result"
    }
   ],
   "source": [
    "name_df"
   ]
  },
  {
   "cell_type": "markdown",
   "id": "bb3afd35",
   "metadata": {},
   "source": [
    "# Matching"
   ]
  },
  {
   "cell_type": "code",
   "execution_count": 25,
   "id": "1c8beaed",
   "metadata": {
    "scrolled": true
   },
   "outputs": [],
   "source": [
    "tmp = pd.DataFrame(birth_df.groupby(\"birth_block\")[\"player_id\"].apply(list))\n",
    "match_dict =dict()\n",
    "match_dict2 = dict()\n",
    "id2name = name_df.set_index('player_id').to_dict()[\"name\"]\n",
    "Lev = NormalizedLevenshtein().similarity\n",
    "\n",
    "for idx, row in tmp.iterrows():\n",
    "    if idx != 0 and len(row.player_id)>1:\n",
    "        name_list_1 = []\n",
    "        name_list_2 = []\n",
    "        for idx in row.player_id:\n",
    "            if str(idx)[0] == \"1\":\n",
    "                name_list_1.append((idx,id2name[idx].lower()))\n",
    "            if str(idx)[0] == \"2\":\n",
    "                name_list_2.append((idx,id2name[idx].lower()))\n",
    "        if len(name_list_1) == 0 or len(name_list_2) == 0:\n",
    "            continue\n",
    "        else:\n",
    "            for (idx1, name1) in name_list_1:\n",
    "                for (idx2, name2) in name_list_2:\n",
    "                    if Lev(name1, name2) > 0.4:\n",
    "#                         if Lev(name1, name2) < 0.5:\n",
    "#                             print(name1 +\"\\t\" + name2 + \"\\t\" + str(Lev(name1, name2)))\n",
    "                        try:\n",
    "                            a = match_dict[idx1]\n",
    "                            if Lev(name1, name2) > Lev(name1, a[0][1]):\n",
    "                                match_dict[idx1] = [(idx2, name2)]\n",
    "                                match_dict2[idx2] = [(idx1, name1)]\n",
    "                        except:\n",
    "                            match_dict[idx1] = match_dict.get(idx1, []) + [(idx2, name2)]\n",
    "                            match_dict2[idx2] = match_dict2.get(idx2, []) + [(idx1, name1)]\n",
    "        \n",
    "            \n",
    "                        \n",
    "#                         match_dict[idx1] = match_dict.get(idx1, []) + [(idx2, name2)]\n",
    "#                         match_dict2[idx2] = match_dict2.get(idx2, []) + [(idx1, name1)]\n",
    "        \n",
    "        \n",
    "                        "
   ]
  },
  {
   "cell_type": "code",
   "execution_count": 26,
   "id": "a48e4cbd",
   "metadata": {},
   "outputs": [],
   "source": [
    "id_list1 = [i for i in list(id2player.keys()) if str(i)[0] == \"1\" and i in match_dict.keys()]"
   ]
  },
  {
   "cell_type": "code",
   "execution_count": 27,
   "id": "ad5e53e4",
   "metadata": {},
   "outputs": [],
   "source": [
    "id_list2 = [i for i in list(id2player.keys()) if str(i)[0] == \"2\" and i in match_dict2.keys()]"
   ]
  },
  {
   "cell_type": "code",
   "execution_count": 28,
   "id": "43daa49a",
   "metadata": {},
   "outputs": [],
   "source": [
    "from collections import Counter"
   ]
  },
  {
   "cell_type": "code",
   "execution_count": 29,
   "id": "da6b73bd",
   "metadata": {},
   "outputs": [],
   "source": [
    "tmp = []\n",
    "for i in list(match_dict.values()):\n",
    "    tmp+=i"
   ]
  },
  {
   "cell_type": "code",
   "execution_count": 30,
   "id": "95dc1c34",
   "metadata": {},
   "outputs": [
    {
     "data": {
      "text/plain": [
       "[((2001079, 'marc muniesa'), 2),\n",
       " ((2001668, 'charlie taylor'), 2),\n",
       " ((2001329, 'josé pozo'), 2),\n",
       " ((2001835, 'ryan sessegnon'), 2)]"
      ]
     },
     "execution_count": 30,
     "metadata": {},
     "output_type": "execute_result"
    }
   ],
   "source": [
    "[i for i in Counter(tmp).items() if i[1] == 2]"
   ]
  },
  {
   "cell_type": "code",
   "execution_count": 31,
   "id": "72090a12",
   "metadata": {},
   "outputs": [],
   "source": [
    "tmp = []\n",
    "for i in list(match_dict2.values()):\n",
    "    tmp+=i"
   ]
  },
  {
   "cell_type": "code",
   "execution_count": 32,
   "id": "fdf31939",
   "metadata": {},
   "outputs": [
    {
     "data": {
      "text/plain": [
       "[((1000504, 'jermaine jenas'), 2),\n",
       " ((1000994, 'marcus olsson'), 2),\n",
       " ((1000569, 'kieran gibbs'), 2),\n",
       " ((1000972, 'michael keane'), 2),\n",
       " ((1002212, 'jacob murphy'), 2)]"
      ]
     },
     "execution_count": 32,
     "metadata": {},
     "output_type": "execute_result"
    }
   ],
   "source": [
    "[i for i in Counter(tmp).items() if i[1] == 2]"
   ]
  },
  {
   "cell_type": "code",
   "execution_count": 33,
   "id": "725a3dcd",
   "metadata": {
    "scrolled": true
   },
   "outputs": [
    {
     "data": {
      "text/plain": [
       "1945"
      ]
     },
     "execution_count": 33,
     "metadata": {},
     "output_type": "execute_result"
    }
   ],
   "source": [
    "len(id_list1)"
   ]
  },
  {
   "cell_type": "code",
   "execution_count": 34,
   "id": "6a5005ae",
   "metadata": {},
   "outputs": [
    {
     "data": {
      "text/plain": [
       "1941"
      ]
     },
     "execution_count": 34,
     "metadata": {},
     "output_type": "execute_result"
    }
   ],
   "source": [
    "len(id_list2)"
   ]
  },
  {
   "cell_type": "code",
   "execution_count": 35,
   "id": "92c388b3",
   "metadata": {},
   "outputs": [
    {
     "data": {
      "text/plain": [
       "1945"
      ]
     },
     "execution_count": 35,
     "metadata": {},
     "output_type": "execute_result"
    }
   ],
   "source": [
    "len(match_dict)"
   ]
  },
  {
   "cell_type": "code",
   "execution_count": 36,
   "id": "59150c20",
   "metadata": {
    "scrolled": false
   },
   "outputs": [
    {
     "data": {
      "text/plain": [
       "[(2000222, [(1000344, 'tyrone mears'), (1000504, 'jermaine jenas')]),\n",
       " (2000207, [(1000473, 'martin olsson'), (1000994, 'marcus olsson')]),\n",
       " (2000018, [(1000036, 'ciaran clark'), (1000569, 'kieran gibbs')]),\n",
       " (2001079, [(1001342, 'muniesa'), (1002597, 'mark gillespie')]),\n",
       " (2000872, [(1000971, 'will keane'), (1000972, 'michael keane')]),\n",
       " (2001668, [(1001100, 'charles banya'), (1002217, 'charlie taylor')]),\n",
       " (2001187, [(1001343, 'josh murphy'), (1002212, 'jacob murphy')]),\n",
       " (2001329, [(1001527, 'josé pozo'), (1001741, 'josh doherty')]),\n",
       " (2001835, [(1002401, 'steven sessegnon'), (1002404, 'ryan sessegnon')])]"
      ]
     },
     "execution_count": 36,
     "metadata": {},
     "output_type": "execute_result"
    }
   ],
   "source": [
    "[i for i in match_dict2.items() if len(i[1])!=1]"
   ]
  },
  {
   "cell_type": "code",
   "execution_count": 37,
   "id": "b34d012a",
   "metadata": {
    "scrolled": true
   },
   "outputs": [
    {
     "data": {
      "text/plain": [
       "[]"
      ]
     },
     "execution_count": 37,
     "metadata": {},
     "output_type": "execute_result"
    }
   ],
   "source": [
    "k = [i for i in match_dict.items() if len(i[1])!=1]\n",
    "k"
   ]
  },
  {
   "cell_type": "code",
   "execution_count": 38,
   "id": "0f92592a",
   "metadata": {
    "scrolled": true
   },
   "outputs": [
    {
     "data": {
      "text/plain": [
       "1945"
      ]
     },
     "execution_count": 38,
     "metadata": {},
     "output_type": "execute_result"
    }
   ],
   "source": [
    "len(match_dict)"
   ]
  },
  {
   "cell_type": "code",
   "execution_count": 39,
   "id": "ebff68d7",
   "metadata": {},
   "outputs": [
    {
     "data": {
      "text/plain": [
       "2155"
      ]
     },
     "execution_count": 39,
     "metadata": {},
     "output_type": "execute_result"
    }
   ],
   "source": [
    "len(who_player[\"player_url\"].drop_duplicates())"
   ]
  },
  {
   "cell_type": "code",
   "execution_count": 40,
   "id": "64593d69",
   "metadata": {},
   "outputs": [
    {
     "data": {
      "text/plain": [
       "2832"
      ]
     },
     "execution_count": 40,
     "metadata": {},
     "output_type": "execute_result"
    }
   ],
   "source": [
    "len(world_player[\"player_url\"].drop_duplicates())"
   ]
  },
  {
   "cell_type": "code",
   "execution_count": 41,
   "id": "72df7158",
   "metadata": {
    "scrolled": false
   },
   "outputs": [
    {
     "data": {
      "text/plain": [
       "4987"
      ]
     },
     "execution_count": 41,
     "metadata": {},
     "output_type": "execute_result"
    }
   ],
   "source": [
    "len(player2id)"
   ]
  },
  {
   "cell_type": "code",
   "execution_count": 42,
   "id": "ad8ffda0",
   "metadata": {
    "scrolled": true
   },
   "outputs": [],
   "source": [
    "def f(x):\n",
    "    try:\n",
    "        return match_dict[x][0][0]\n",
    "    except:\n",
    "        return \"No match\"\n",
    "world_player[\"match_player_id\"] = world_player[\"player_id\"].apply(f)"
   ]
  },
  {
   "cell_type": "code",
   "execution_count": null,
   "id": "6a155b7b",
   "metadata": {},
   "outputs": [],
   "source": []
  },
  {
   "cell_type": "code",
   "execution_count": 43,
   "id": "9c81deaf",
   "metadata": {},
   "outputs": [
    {
     "data": {
      "text/html": [
       "<div>\n",
       "<style scoped>\n",
       "    .dataframe tbody tr th:only-of-type {\n",
       "        vertical-align: middle;\n",
       "    }\n",
       "\n",
       "    .dataframe tbody tr th {\n",
       "        vertical-align: top;\n",
       "    }\n",
       "\n",
       "    .dataframe thead th {\n",
       "        text-align: right;\n",
       "    }\n",
       "</style>\n",
       "<table border=\"1\" class=\"dataframe\">\n",
       "  <thead>\n",
       "    <tr style=\"text-align: right;\">\n",
       "      <th></th>\n",
       "      <th>team_history</th>\n",
       "      <th>player_url_x</th>\n",
       "      <th>name</th>\n",
       "      <th>Born</th>\n",
       "      <th>Placeofbirth</th>\n",
       "      <th>Nationality_x</th>\n",
       "      <th>Height_x</th>\n",
       "      <th>Weight</th>\n",
       "      <th>Position(s)</th>\n",
       "      <th>Foot</th>\n",
       "      <th>...</th>\n",
       "      <th>Height_y</th>\n",
       "      <th>Nationality_y</th>\n",
       "      <th>Positions</th>\n",
       "      <th>Strengths</th>\n",
       "      <th>Weaknesses</th>\n",
       "      <th>Style_of_Play</th>\n",
       "      <th>Current Team</th>\n",
       "      <th>DOB</th>\n",
       "      <th>birth_block_y</th>\n",
       "      <th>player_id_y</th>\n",
       "    </tr>\n",
       "  </thead>\n",
       "  <tbody>\n",
       "    <tr>\n",
       "      <th>0</th>\n",
       "      <td>{'0': {'period': '07/2011 - 06/2012', 'team': ...</td>\n",
       "      <td>https://www.worldfootball.net/player_summary/m...</td>\n",
       "      <td>Michael Johnson</td>\n",
       "      <td>[24.02.1988]</td>\n",
       "      <td>[Urmston, England]</td>\n",
       "      <td>[England]</td>\n",
       "      <td>[183cm]</td>\n",
       "      <td>[79kg]</td>\n",
       "      <td>[DefensiveMidfielder]</td>\n",
       "      <td>[right]</td>\n",
       "      <td>...</td>\n",
       "      <td>183cm</td>\n",
       "      <td>England</td>\n",
       "      <td>Midfielder</td>\n",
       "      <td>NaN</td>\n",
       "      <td>NaN</td>\n",
       "      <td>NaN</td>\n",
       "      <td>NaN</td>\n",
       "      <td>24-02-1988</td>\n",
       "      <td>19880224.0</td>\n",
       "      <td>2000534.0</td>\n",
       "    </tr>\n",
       "    <tr>\n",
       "      <th>1</th>\n",
       "      <td>{'0': {'period': '10/2017 - 06/2019', 'team': ...</td>\n",
       "      <td>https://www.worldfootball.net/player_summary/r...</td>\n",
       "      <td>Roger Johnson</td>\n",
       "      <td>[28.04.1983]</td>\n",
       "      <td>[Ashford, England]</td>\n",
       "      <td>[England]</td>\n",
       "      <td>[191cm]</td>\n",
       "      <td>[78kg]</td>\n",
       "      <td>[CentreBack]</td>\n",
       "      <td>[right]</td>\n",
       "      <td>...</td>\n",
       "      <td>191cm</td>\n",
       "      <td>England</td>\n",
       "      <td>Defender (Centre)</td>\n",
       "      <td>[Blocking the ball]</td>\n",
       "      <td>[Passing]</td>\n",
       "      <td>[Indirect set-piece threat, Likes to play long...</td>\n",
       "      <td>NaN</td>\n",
       "      <td>28-04-1983</td>\n",
       "      <td>19830428.0</td>\n",
       "      <td>2000086.0</td>\n",
       "    </tr>\n",
       "    <tr>\n",
       "      <th>2</th>\n",
       "      <td>{'1': {'period': '07/2020 - 08/2020', 'team': ...</td>\n",
       "      <td>https://www.worldfootball.net/player_summary/j...</td>\n",
       "      <td>Jake Jervis</td>\n",
       "      <td>[17.09.1991]</td>\n",
       "      <td>[Wolverhampton, England]</td>\n",
       "      <td>[England]</td>\n",
       "      <td>[191cm]</td>\n",
       "      <td>NaN</td>\n",
       "      <td>[RightWinger, CentreForward]</td>\n",
       "      <td>[right]</td>\n",
       "      <td>...</td>\n",
       "      <td>NaN</td>\n",
       "      <td>NaN</td>\n",
       "      <td>NaN</td>\n",
       "      <td>NaN</td>\n",
       "      <td>NaN</td>\n",
       "      <td>NaN</td>\n",
       "      <td>NaN</td>\n",
       "      <td>NaN</td>\n",
       "      <td>NaN</td>\n",
       "      <td>NaN</td>\n",
       "    </tr>\n",
       "    <tr>\n",
       "      <th>3</th>\n",
       "      <td>{'1': {'period': '07/2016 - 06/2019', 'team': ...</td>\n",
       "      <td>https://www.worldfootball.net/player_summary/j...</td>\n",
       "      <td>Jake Bidwell</td>\n",
       "      <td>[21.03.1993]</td>\n",
       "      <td>[Southport, England]</td>\n",
       "      <td>[England]</td>\n",
       "      <td>[183cm]</td>\n",
       "      <td>[80kg]</td>\n",
       "      <td>[LeftBack, LeftMidfielder]</td>\n",
       "      <td>[left]</td>\n",
       "      <td>...</td>\n",
       "      <td>NaN</td>\n",
       "      <td>NaN</td>\n",
       "      <td>NaN</td>\n",
       "      <td>NaN</td>\n",
       "      <td>NaN</td>\n",
       "      <td>NaN</td>\n",
       "      <td>NaN</td>\n",
       "      <td>NaN</td>\n",
       "      <td>NaN</td>\n",
       "      <td>NaN</td>\n",
       "    </tr>\n",
       "    <tr>\n",
       "      <th>4</th>\n",
       "      <td>{'0': {'period': '07/2013 - 06/2016', 'team': ...</td>\n",
       "      <td>https://www.worldfootball.net/player_summary/b...</td>\n",
       "      <td>Bosingwa</td>\n",
       "      <td>[24.08.1982]</td>\n",
       "      <td>[Mbandaka, CongoDR]</td>\n",
       "      <td>[Portugal, CongoDR]</td>\n",
       "      <td>[183cm]</td>\n",
       "      <td>[75kg]</td>\n",
       "      <td>[RightBack, RightMidfielder]</td>\n",
       "      <td>[right]</td>\n",
       "      <td>...</td>\n",
       "      <td>NaN</td>\n",
       "      <td>NaN</td>\n",
       "      <td>NaN</td>\n",
       "      <td>NaN</td>\n",
       "      <td>NaN</td>\n",
       "      <td>NaN</td>\n",
       "      <td>NaN</td>\n",
       "      <td>NaN</td>\n",
       "      <td>NaN</td>\n",
       "      <td>NaN</td>\n",
       "    </tr>\n",
       "    <tr>\n",
       "      <th>...</th>\n",
       "      <td>...</td>\n",
       "      <td>...</td>\n",
       "      <td>...</td>\n",
       "      <td>...</td>\n",
       "      <td>...</td>\n",
       "      <td>...</td>\n",
       "      <td>...</td>\n",
       "      <td>...</td>\n",
       "      <td>...</td>\n",
       "      <td>...</td>\n",
       "      <td>...</td>\n",
       "      <td>...</td>\n",
       "      <td>...</td>\n",
       "      <td>...</td>\n",
       "      <td>...</td>\n",
       "      <td>...</td>\n",
       "      <td>...</td>\n",
       "      <td>...</td>\n",
       "      <td>...</td>\n",
       "      <td>...</td>\n",
       "      <td>...</td>\n",
       "    </tr>\n",
       "    <tr>\n",
       "      <th>3041</th>\n",
       "      <td>NaN</td>\n",
       "      <td>NaN</td>\n",
       "      <td>NaN</td>\n",
       "      <td>NaN</td>\n",
       "      <td>NaN</td>\n",
       "      <td>NaN</td>\n",
       "      <td>NaN</td>\n",
       "      <td>NaN</td>\n",
       "      <td>NaN</td>\n",
       "      <td>NaN</td>\n",
       "      <td>...</td>\n",
       "      <td>190cm</td>\n",
       "      <td>Brazil</td>\n",
       "      <td>Defender (Centre)</td>\n",
       "      <td>[Passing]</td>\n",
       "      <td>[]</td>\n",
       "      <td>[Likes to play short passes, Commits fouls often]</td>\n",
       "      <td>Arsenal</td>\n",
       "      <td>19-12-1997</td>\n",
       "      <td>19971219.0</td>\n",
       "      <td>2002066.0</td>\n",
       "    </tr>\n",
       "    <tr>\n",
       "      <th>3042</th>\n",
       "      <td>NaN</td>\n",
       "      <td>NaN</td>\n",
       "      <td>NaN</td>\n",
       "      <td>NaN</td>\n",
       "      <td>NaN</td>\n",
       "      <td>NaN</td>\n",
       "      <td>NaN</td>\n",
       "      <td>NaN</td>\n",
       "      <td>NaN</td>\n",
       "      <td>NaN</td>\n",
       "      <td>...</td>\n",
       "      <td>178cm</td>\n",
       "      <td>Brazil</td>\n",
       "      <td>Midfielder (Left)</td>\n",
       "      <td>[Holding on to the ball, Tackling, Concentration]</td>\n",
       "      <td>[]</td>\n",
       "      <td>[Commits fouls often]</td>\n",
       "      <td>Wolverhampton Wanderers</td>\n",
       "      <td>19-02-1989</td>\n",
       "      <td>19890219.0</td>\n",
       "      <td>2002098.0</td>\n",
       "    </tr>\n",
       "    <tr>\n",
       "      <th>3043</th>\n",
       "      <td>NaN</td>\n",
       "      <td>NaN</td>\n",
       "      <td>NaN</td>\n",
       "      <td>NaN</td>\n",
       "      <td>NaN</td>\n",
       "      <td>NaN</td>\n",
       "      <td>NaN</td>\n",
       "      <td>NaN</td>\n",
       "      <td>NaN</td>\n",
       "      <td>NaN</td>\n",
       "      <td>...</td>\n",
       "      <td>190cm</td>\n",
       "      <td>NaN</td>\n",
       "      <td>Forward</td>\n",
       "      <td>[Long shots, Defensive contribution]</td>\n",
       "      <td>[Finishing, Aerial Duels, Holding on to the ball]</td>\n",
       "      <td>[Likes to dribble]</td>\n",
       "      <td>Burton</td>\n",
       "      <td>13-08-2003</td>\n",
       "      <td>20030813.0</td>\n",
       "      <td>2002099.0</td>\n",
       "    </tr>\n",
       "    <tr>\n",
       "      <th>3044</th>\n",
       "      <td>NaN</td>\n",
       "      <td>NaN</td>\n",
       "      <td>NaN</td>\n",
       "      <td>NaN</td>\n",
       "      <td>NaN</td>\n",
       "      <td>NaN</td>\n",
       "      <td>NaN</td>\n",
       "      <td>NaN</td>\n",
       "      <td>NaN</td>\n",
       "      <td>NaN</td>\n",
       "      <td>...</td>\n",
       "      <td>175cm</td>\n",
       "      <td>Croatia</td>\n",
       "      <td>Midfielder (Centre, Left)</td>\n",
       "      <td>[Tackling]</td>\n",
       "      <td>[]</td>\n",
       "      <td>[Gets fouled often, Likes to do layoffs, Likes...</td>\n",
       "      <td>Hajduk Split</td>\n",
       "      <td>29-08-1995</td>\n",
       "      <td>19950829.0</td>\n",
       "      <td>2002105.0</td>\n",
       "    </tr>\n",
       "    <tr>\n",
       "      <th>3045</th>\n",
       "      <td>NaN</td>\n",
       "      <td>NaN</td>\n",
       "      <td>NaN</td>\n",
       "      <td>NaN</td>\n",
       "      <td>NaN</td>\n",
       "      <td>NaN</td>\n",
       "      <td>NaN</td>\n",
       "      <td>NaN</td>\n",
       "      <td>NaN</td>\n",
       "      <td>NaN</td>\n",
       "      <td>...</td>\n",
       "      <td>172cm</td>\n",
       "      <td>Portugal</td>\n",
       "      <td>Attacking Midfielder (Centre)</td>\n",
       "      <td>[Long shots, Through balls, Passing, Taking se...</td>\n",
       "      <td>[Finishing]</td>\n",
       "      <td>[Likes to play short passes, Likes to shoot fr...</td>\n",
       "      <td>FC Porto</td>\n",
       "      <td>13-02-2000</td>\n",
       "      <td>20000213.0</td>\n",
       "      <td>2002113.0</td>\n",
       "    </tr>\n",
       "  </tbody>\n",
       "</table>\n",
       "<p>3046 rows × 30 columns</p>\n",
       "</div>"
      ],
      "text/plain": [
       "                                           team_history  \\\n",
       "0     {'0': {'period': '07/2011 - 06/2012', 'team': ...   \n",
       "1     {'0': {'period': '10/2017 - 06/2019', 'team': ...   \n",
       "2     {'1': {'period': '07/2020 - 08/2020', 'team': ...   \n",
       "3     {'1': {'period': '07/2016 - 06/2019', 'team': ...   \n",
       "4     {'0': {'period': '07/2013 - 06/2016', 'team': ...   \n",
       "...                                                 ...   \n",
       "3041                                                NaN   \n",
       "3042                                                NaN   \n",
       "3043                                                NaN   \n",
       "3044                                                NaN   \n",
       "3045                                                NaN   \n",
       "\n",
       "                                           player_url_x             name  \\\n",
       "0     https://www.worldfootball.net/player_summary/m...  Michael Johnson   \n",
       "1     https://www.worldfootball.net/player_summary/r...    Roger Johnson   \n",
       "2     https://www.worldfootball.net/player_summary/j...      Jake Jervis   \n",
       "3     https://www.worldfootball.net/player_summary/j...     Jake Bidwell   \n",
       "4     https://www.worldfootball.net/player_summary/b...         Bosingwa   \n",
       "...                                                 ...              ...   \n",
       "3041                                                NaN              NaN   \n",
       "3042                                                NaN              NaN   \n",
       "3043                                                NaN              NaN   \n",
       "3044                                                NaN              NaN   \n",
       "3045                                                NaN              NaN   \n",
       "\n",
       "              Born              Placeofbirth        Nationality_x Height_x  \\\n",
       "0     [24.02.1988]        [Urmston, England]            [England]  [183cm]   \n",
       "1     [28.04.1983]        [Ashford, England]            [England]  [191cm]   \n",
       "2     [17.09.1991]  [Wolverhampton, England]            [England]  [191cm]   \n",
       "3     [21.03.1993]      [Southport, England]            [England]  [183cm]   \n",
       "4     [24.08.1982]       [Mbandaka, CongoDR]  [Portugal, CongoDR]  [183cm]   \n",
       "...            ...                       ...                  ...      ...   \n",
       "3041           NaN                       NaN                  NaN      NaN   \n",
       "3042           NaN                       NaN                  NaN      NaN   \n",
       "3043           NaN                       NaN                  NaN      NaN   \n",
       "3044           NaN                       NaN                  NaN      NaN   \n",
       "3045           NaN                       NaN                  NaN      NaN   \n",
       "\n",
       "      Weight                   Position(s)     Foot  ... Height_y  \\\n",
       "0     [79kg]         [DefensiveMidfielder]  [right]  ...    183cm   \n",
       "1     [78kg]                  [CentreBack]  [right]  ...    191cm   \n",
       "2        NaN  [RightWinger, CentreForward]  [right]  ...      NaN   \n",
       "3     [80kg]    [LeftBack, LeftMidfielder]   [left]  ...      NaN   \n",
       "4     [75kg]  [RightBack, RightMidfielder]  [right]  ...      NaN   \n",
       "...      ...                           ...      ...  ...      ...   \n",
       "3041     NaN                           NaN      NaN  ...    190cm   \n",
       "3042     NaN                           NaN      NaN  ...    178cm   \n",
       "3043     NaN                           NaN      NaN  ...    190cm   \n",
       "3044     NaN                           NaN      NaN  ...    175cm   \n",
       "3045     NaN                           NaN      NaN  ...    172cm   \n",
       "\n",
       "     Nationality_y                      Positions  \\\n",
       "0          England                     Midfielder   \n",
       "1          England              Defender (Centre)   \n",
       "2              NaN                            NaN   \n",
       "3              NaN                            NaN   \n",
       "4              NaN                            NaN   \n",
       "...            ...                            ...   \n",
       "3041        Brazil              Defender (Centre)   \n",
       "3042        Brazil              Midfielder (Left)   \n",
       "3043           NaN                        Forward   \n",
       "3044       Croatia      Midfielder (Centre, Left)   \n",
       "3045      Portugal  Attacking Midfielder (Centre)   \n",
       "\n",
       "                                              Strengths  \\\n",
       "0                                                   NaN   \n",
       "1                                   [Blocking the ball]   \n",
       "2                                                   NaN   \n",
       "3                                                   NaN   \n",
       "4                                                   NaN   \n",
       "...                                                 ...   \n",
       "3041                                          [Passing]   \n",
       "3042  [Holding on to the ball, Tackling, Concentration]   \n",
       "3043               [Long shots, Defensive contribution]   \n",
       "3044                                         [Tackling]   \n",
       "3045  [Long shots, Through balls, Passing, Taking se...   \n",
       "\n",
       "                                             Weaknesses  \\\n",
       "0                                                   NaN   \n",
       "1                                             [Passing]   \n",
       "2                                                   NaN   \n",
       "3                                                   NaN   \n",
       "4                                                   NaN   \n",
       "...                                                 ...   \n",
       "3041                                                 []   \n",
       "3042                                                 []   \n",
       "3043  [Finishing, Aerial Duels, Holding on to the ball]   \n",
       "3044                                                 []   \n",
       "3045                                        [Finishing]   \n",
       "\n",
       "                                          Style_of_Play  \\\n",
       "0                                                   NaN   \n",
       "1     [Indirect set-piece threat, Likes to play long...   \n",
       "2                                                   NaN   \n",
       "3                                                   NaN   \n",
       "4                                                   NaN   \n",
       "...                                                 ...   \n",
       "3041  [Likes to play short passes, Commits fouls often]   \n",
       "3042                              [Commits fouls often]   \n",
       "3043                                 [Likes to dribble]   \n",
       "3044  [Gets fouled often, Likes to do layoffs, Likes...   \n",
       "3045  [Likes to play short passes, Likes to shoot fr...   \n",
       "\n",
       "                 Current Team         DOB birth_block_y player_id_y  \n",
       "0                         NaN  24-02-1988    19880224.0   2000534.0  \n",
       "1                         NaN  28-04-1983    19830428.0   2000086.0  \n",
       "2                         NaN         NaN           NaN         NaN  \n",
       "3                         NaN         NaN           NaN         NaN  \n",
       "4                         NaN         NaN           NaN         NaN  \n",
       "...                       ...         ...           ...         ...  \n",
       "3041                  Arsenal  19-12-1997    19971219.0   2002066.0  \n",
       "3042  Wolverhampton Wanderers  19-02-1989    19890219.0   2002098.0  \n",
       "3043                   Burton  13-08-2003    20030813.0   2002099.0  \n",
       "3044             Hajduk Split  29-08-1995    19950829.0   2002105.0  \n",
       "3045                 FC Porto  13-02-2000    20000213.0   2002113.0  \n",
       "\n",
       "[3046 rows x 30 columns]"
      ]
     },
     "execution_count": 43,
     "metadata": {},
     "output_type": "execute_result"
    }
   ],
   "source": [
    "# outer join in python pandas\n",
    "outer_join_df=pd.merge(world_player, who_player, left_on = \"match_player_id\", right_on = \"player_id\", how='outer')\n",
    "outer_join_df\n"
   ]
  },
  {
   "cell_type": "code",
   "execution_count": 44,
   "id": "578f57f9",
   "metadata": {},
   "outputs": [
    {
     "data": {
      "text/plain": [
       "team_history          214\n",
       "player_url_x          214\n",
       "name                  214\n",
       "Born                  216\n",
       "Placeofbirth          214\n",
       "Nationality_x         214\n",
       "Height_x              267\n",
       "Weight                374\n",
       "Position(s)           314\n",
       "Foot                  471\n",
       "Current_team_info    1275\n",
       "Homepage             2997\n",
       "sizeofshoe           3030\n",
       "birth_block_x         214\n",
       "player_id_x           214\n",
       "match_player_id       214\n",
       "player_url_y          887\n",
       "Name                  887\n",
       "Shirt Number          989\n",
       "Age                   887\n",
       "Height_y              921\n",
       "Nationality_y         917\n",
       "Positions             887\n",
       "Strengths            1168\n",
       "Weaknesses           1168\n",
       "Style_of_Play        1168\n",
       "Current Team         1721\n",
       "DOB                   887\n",
       "birth_block_y         887\n",
       "player_id_y           887\n",
       "dtype: int64"
      ]
     },
     "execution_count": 44,
     "metadata": {},
     "output_type": "execute_result"
    }
   ],
   "source": [
    "outer_join_df.isna().sum()"
   ]
  },
  {
   "cell_type": "code",
   "execution_count": 45,
   "id": "fb4bdbde",
   "metadata": {},
   "outputs": [],
   "source": [
    "outer_join_df.to_csv(\"player_join.csv\")"
   ]
  },
  {
   "cell_type": "code",
   "execution_count": 46,
   "id": "400fcd14",
   "metadata": {},
   "outputs": [],
   "source": [
    "##############"
   ]
  },
  {
   "cell_type": "code",
   "execution_count": null,
   "id": "5b242aca",
   "metadata": {},
   "outputs": [],
   "source": []
  },
  {
   "cell_type": "code",
   "execution_count": null,
   "id": "4d5fa0b5",
   "metadata": {},
   "outputs": [],
   "source": []
  },
  {
   "cell_type": "code",
   "execution_count": 91,
   "id": "103d015d",
   "metadata": {},
   "outputs": [],
   "source": [
    "## Name sim\n",
    "Lev = NormalizedLevenshtein().similarity\n",
    "with open(data_dir + \"simName_obs.txt\", \"w\") as f:\n",
    "    tmp = pd.DataFrame(birth_df.groupby(\"birth_block\")[\"player_id\"].apply(list))\n",
    "    for id_list in tmp[\"player_id\"]:\n",
    "        for idx1 in id_list:\n",
    "            for idx2 in id_list:\n",
    "                name1 = str(list(name_df[name_df[\"player_id\"] == int(idx1)][\"name\"])[0])\n",
    "                name2 = str(list(name_df[name_df[\"player_id\"] == int(idx2)][\"name\"])[0])\n",
    "                f.write(name1 + \"\\t\" + name2 + \"\\t\" + str(Lev(name1.lower(), name2.lower() )) + \"\\n\")\n",
    "\n",
    "with open(data_dir + \"simName_obs.txt\", \"r\") as f:\n",
    "    simName = f.read()\n",
    "\n",
    "with open(data_dir + \"simName_obs.txt\", \"w\") as f:\n",
    "    for i in set(simName.split(\"\\n\")):\n",
    "        if i != \"\":\n",
    "            f.write(i + \"\\n\")"
   ]
  },
  {
   "cell_type": "code",
   "execution_count": 89,
   "id": "9f4db388",
   "metadata": {},
   "outputs": [],
   "source": [
    "## target\n",
    "with open(data_dir + \"same_player_target.txt\", \"w\") as f:\n",
    "    tmp = pd.DataFrame(birth_df.groupby(\"birth_block\")[\"player_id\"].apply(list))\n",
    "    for id_list in tmp[\"player_id\"]:\n",
    "        for idx1 in id_list:\n",
    "            for idx2 in id_list:\n",
    "                f.write(str(int(idx1)) + \"\\t\" + str(int(idx2)) + \"\\n\")\n",
    "                \n",
    "with open(data_dir + \"same_player_target.txt\", \"r\") as f:\n",
    "    data = f.read()\n",
    "\n",
    "with open(data_dir + \"same_player_target.txt\", \"w\") as f:\n",
    "    for i in set(data.split(\"\\n\")):\n",
    "        if i != \"\":\n",
    "            f.write(i + \"\\n\")\n",
    "\n"
   ]
  },
  {
   "cell_type": "code",
   "execution_count": null,
   "id": "40adcd79",
   "metadata": {},
   "outputs": [],
   "source": []
  },
  {
   "cell_type": "code",
   "execution_count": null,
   "id": "7eb3105e",
   "metadata": {},
   "outputs": [],
   "source": []
  },
  {
   "cell_type": "code",
   "execution_count": null,
   "id": "be266a55",
   "metadata": {},
   "outputs": [],
   "source": []
  },
  {
   "cell_type": "code",
   "execution_count": 95,
   "id": "ece0b493",
   "metadata": {},
   "outputs": [
    {
     "data": {
      "text/plain": [
       "'https://www.worldfootball.net/player_summary/steven-pienaar/'"
      ]
     },
     "execution_count": 95,
     "metadata": {},
     "output_type": "execute_result"
    }
   ],
   "source": [
    "id2player[1001878]"
   ]
  },
  {
   "cell_type": "code",
   "execution_count": 94,
   "id": "a01189d9",
   "metadata": {},
   "outputs": [
    {
     "data": {
      "text/plain": [
       "'https://www.whoscored.com/Players/3553/Show/Steven-Pienaar'"
      ]
     },
     "execution_count": 94,
     "metadata": {},
     "output_type": "execute_result"
    }
   ],
   "source": [
    "id2player[2000048]"
   ]
  },
  {
   "cell_type": "code",
   "execution_count": 92,
   "id": "5436d619",
   "metadata": {},
   "outputs": [
    {
     "data": {
      "text/html": [
       "<div>\n",
       "<style scoped>\n",
       "    .dataframe tbody tr th:only-of-type {\n",
       "        vertical-align: middle;\n",
       "    }\n",
       "\n",
       "    .dataframe tbody tr th {\n",
       "        vertical-align: top;\n",
       "    }\n",
       "\n",
       "    .dataframe thead th {\n",
       "        text-align: right;\n",
       "    }\n",
       "</style>\n",
       "<table border=\"1\" class=\"dataframe\">\n",
       "  <thead>\n",
       "    <tr style=\"text-align: right;\">\n",
       "      <th></th>\n",
       "      <th>player_id</th>\n",
       "      <th>birth_block</th>\n",
       "    </tr>\n",
       "  </thead>\n",
       "  <tbody>\n",
       "    <tr>\n",
       "      <th>1878</th>\n",
       "      <td>1001878</td>\n",
       "      <td>19820317</td>\n",
       "    </tr>\n",
       "  </tbody>\n",
       "</table>\n",
       "</div>"
      ],
      "text/plain": [
       "      player_id  birth_block\n",
       "1878    1001878     19820317"
      ]
     },
     "execution_count": 92,
     "metadata": {},
     "output_type": "execute_result"
    }
   ],
   "source": [
    "birth_df[birth_df[\"player_id\"] == 1001878]"
   ]
  },
  {
   "cell_type": "code",
   "execution_count": 93,
   "id": "9af2b642",
   "metadata": {},
   "outputs": [
    {
     "data": {
      "text/html": [
       "<div>\n",
       "<style scoped>\n",
       "    .dataframe tbody tr th:only-of-type {\n",
       "        vertical-align: middle;\n",
       "    }\n",
       "\n",
       "    .dataframe tbody tr th {\n",
       "        vertical-align: top;\n",
       "    }\n",
       "\n",
       "    .dataframe thead th {\n",
       "        text-align: right;\n",
       "    }\n",
       "</style>\n",
       "<table border=\"1\" class=\"dataframe\">\n",
       "  <thead>\n",
       "    <tr style=\"text-align: right;\">\n",
       "      <th></th>\n",
       "      <th>player_id</th>\n",
       "      <th>birth_block</th>\n",
       "    </tr>\n",
       "  </thead>\n",
       "  <tbody>\n",
       "    <tr>\n",
       "      <th>48</th>\n",
       "      <td>2000048</td>\n",
       "      <td>19820317</td>\n",
       "    </tr>\n",
       "  </tbody>\n",
       "</table>\n",
       "</div>"
      ],
      "text/plain": [
       "    player_id  birth_block\n",
       "48    2000048     19820317"
      ]
     },
     "execution_count": 93,
     "metadata": {},
     "output_type": "execute_result"
    }
   ],
   "source": [
    "birth_df[birth_df[\"player_id\"] == 2000048]"
   ]
  },
  {
   "cell_type": "code",
   "execution_count": null,
   "id": "83d1b33c",
   "metadata": {},
   "outputs": [],
   "source": []
  },
  {
   "cell_type": "code",
   "execution_count": null,
   "id": "0ae99204",
   "metadata": {},
   "outputs": [],
   "source": []
  },
  {
   "cell_type": "code",
   "execution_count": null,
   "id": "b90244c5",
   "metadata": {},
   "outputs": [],
   "source": []
  },
  {
   "cell_type": "code",
   "execution_count": 18,
   "id": "ee53247b",
   "metadata": {},
   "outputs": [],
   "source": [
    "# tmp = world_player[[\"name\",\"player_url\"]]\n",
    "world_player[\"player_id\"] = world_player[\"player_url\"].apply(lambda x : player2id[x])\n",
    "who_player[\"player_id\"] = who_player[\"player_url\"].apply(lambda x : player2id[x])\n"
   ]
  },
  {
   "cell_type": "code",
   "execution_count": 20,
   "id": "b7bb2b0f",
   "metadata": {},
   "outputs": [],
   "source": [
    "## playerName_obs.txt\n",
    "with open(\"PSL_data/playerName_obs.txt\", \"w\") as f:\n",
    "    for idx, player in id2player.items():\n",
    "        f.write(str(idx) + \"\\t\" + player + \"\\n\")"
   ]
  },
  {
   "cell_type": "code",
   "execution_count": null,
   "id": "e31567b6",
   "metadata": {},
   "outputs": [],
   "source": []
  },
  {
   "cell_type": "code",
   "execution_count": 21,
   "id": "76448d23",
   "metadata": {},
   "outputs": [],
   "source": [
    "## player_Block_obs.txt\n",
    "with open(\"PSL_data/playerBlock_obs.txt\", \"w\") as f:\n",
    "    tmp = world_player[[\"player_id\", \"name\"]].drop_duplicates()\n",
    "    for idx, row in tmp.iterrows():\n",
    "        f.write(str(row[\"player_id\"]) + \"\\t\" + row[\"name\"] + \"\\n\")\n",
    "    tmp = who_player[[\"player_id\", \"player_block\"]].drop_duplicates()\n",
    "    for idx, row in tmp.iterrows():\n",
    "        f.write(str(row[\"player_id\"]) + \"\\t\" + row[\"player_block\"] + \"\\n\")"
   ]
  },
  {
   "cell_type": "code",
   "execution_count": 22,
   "id": "dbfb7ef5",
   "metadata": {},
   "outputs": [],
   "source": [
    "with open(\"PSL_data/playerBlock_obs.txt\", \"r\") as f:\n",
    "    dt = f.read()"
   ]
  },
  {
   "cell_type": "code",
   "execution_count": 23,
   "id": "56aaff03",
   "metadata": {},
   "outputs": [],
   "source": [
    "### one player more than two block...\n",
    "tmp = pd.DataFrame(pd.DataFrame([i.split(\"\\t\") for i in dt.split(\"\\n\")])[:-1].groupby(0)[1].apply(list))"
   ]
  },
  {
   "cell_type": "code",
   "execution_count": 24,
   "id": "29eb4bbc",
   "metadata": {},
   "outputs": [],
   "source": [
    "tmp[\"l\"] = tmp[1].apply(len)"
   ]
  },
  {
   "cell_type": "code",
   "execution_count": 25,
   "id": "44cbaddc",
   "metadata": {},
   "outputs": [
    {
     "data": {
      "text/plain": [
       "[['Bernard Diomède', 'Bernard'],\n",
       " ['Bojan Djordjic', 'Bojan'],\n",
       " ['Bojan Djordjic', 'Bojan'],\n",
       " ['Wesley Boyle', 'Wesley'],\n",
       " ['Adrian Cáceres', 'Adrián'],\n",
       " ['Bernard Lambourde', 'Bernard'],\n",
       " ['Lauren', 'Allan'],\n",
       " ['Émerson Thome', 'Emerson'],\n",
       " ['Méndez', 'Nathaniel Mendez-Laing'],\n",
       " ['Méndez', 'Álvaro'],\n",
       " ['Méndez', 'Gabriel'],\n",
       " ['Méndez', 'Juan'],\n",
       " ['Méndez', 'Marcelo'],\n",
       " ['Méndez', 'Fernando'],\n",
       " ['Méndez', 'Oscar'],\n",
       " ['Méndez', 'Gabriel'],\n",
       " ['Méndez', 'Eduardo'],\n",
       " ['Méndez', 'Joel'],\n",
       " ['Olivier Bernard', 'Bernard'],\n",
       " ['Marcelino', 'Núñez'],\n",
       " ['Alex Rae', 'Alex'],\n",
       " ['Alex Nyarko', 'Alex'],\n",
       " ['John Collins', 'Collins John'],\n",
       " ['John Collins', 'Collins John'],\n",
       " ['John Collins', 'Collins John'],\n",
       " ['Allan Johnston', 'Allan'],\n",
       " ['Juan', 'Juan Iturbe'],\n",
       " ['Juan', 'Juan Cuadrado'],\n",
       " ['Juan', 'Mata'],\n",
       " ['Juan', 'Cabral'],\n",
       " ['Juan', 'Núñez'],\n",
       " ['Ricardo Gardner', 'Ricardo'],\n",
       " ['Joel Kitamirike', 'Joel'],\n",
       " ['Bo Hansen', 'Martin Hansen'],\n",
       " ['Bruno Cheyrou', 'Bruno'],\n",
       " ['Gilberto Silva', 'Gilberto'],\n",
       " ['Gilberto Silva', 'Gilberto'],\n",
       " ['Jordão', 'Bruno Jordão'],\n",
       " ['Jordão', 'Bruno Jordão'],\n",
       " ['Jordão', 'Bruno Jordão'],\n",
       " ['Bernard Mendy', 'Bernard'],\n",
       " ['Ricardo', 'Ricardo Batista'],\n",
       " ['Ricardo', 'Ricardo Pereira'],\n",
       " ['Ricardo', 'Gomes'],\n",
       " ['Ricardo', 'Ricardo Álvarez'],\n",
       " ['Ricardo', 'Ricardo Quaresma'],\n",
       " ['Ricardo', 'Ricardo Fuller'],\n",
       " ['Ricardo', 'Ricardo Carvalho'],\n",
       " ['Ricardo', 'Ricardo Rocha'],\n",
       " ['Ricardo', 'Moreira'],\n",
       " ['Ricardo', 'Joel'],\n",
       " ['Ricardo', 'Ricardo Rocha'],\n",
       " ['Ricardo', 'Ricardo Rocha'],\n",
       " ['Rodrigo Beckham', 'Rodrigo'],\n",
       " ['Stuart Anderson', 'Anderson'],\n",
       " ['Adrian Deane', 'Adrián'],\n",
       " ['Adrian Mutu', 'Adrián'],\n",
       " ['Gabriel Heinze', 'Gabriel'],\n",
       " ['Hierro', 'Fernando'],\n",
       " ['Paulo Ferreira', 'Gomes'],\n",
       " ['Morientes', 'Fernando'],\n",
       " ['Júlio César', 'Moreira'],\n",
       " ['Júlio César', 'Núñez'],\n",
       " ['Núñez', 'Álvaro'],\n",
       " ['Núñez', 'Rodrigo'],\n",
       " ['Núñez', 'Fabricio'],\n",
       " ['Núñez', 'Oscar'],\n",
       " ['Núñez', 'Oscar'],\n",
       " ['Núñez', 'Gabriel'],\n",
       " ['Núñez', 'Eduardo'],\n",
       " ['Núñez', 'Anderson'],\n",
       " ['Núñez', 'Luis Alberto'],\n",
       " ['Tiago', 'Tiago Ilori'],\n",
       " ['Tiago', 'Moreira'],\n",
       " ['Tiago', 'Bruno'],\n",
       " ['Tiago', 'Gomes'],\n",
       " ['Tiago', 'Gomes'],\n",
       " ['Tiago', 'Bruno'],\n",
       " ['Tiago', 'Míchel'],\n",
       " ['Tiago', 'Gomes'],\n",
       " ['Tiago', 'Gomes'],\n",
       " ['Brandão', 'Evandro'],\n",
       " ['Brandão', 'Fabricio'],\n",
       " ['Gabriel Agbonlahor', 'Gabriel'],\n",
       " ['Alex Bruce', 'Alex'],\n",
       " ['Paul Anderson', 'Anderson'],\n",
       " ['Fábio Rochemback', 'Fábio'],\n",
       " ['Óscar Pérez', 'Oscar'],\n",
       " ['Óscar Pérez', 'Oscar'],\n",
       " ['Anderson', 'Keshi Anderson'],\n",
       " ['Anderson', 'Felipe Anderson'],\n",
       " ['Anderson', 'Russell Anderson'],\n",
       " ['Anderson', 'Myles Anderson'],\n",
       " ['Anderson', 'Elliot Anderson'],\n",
       " ['Anderson', 'Elliot Anderson'],\n",
       " ['Arbeloa', 'Álvaro'],\n",
       " ['Alex Campana', 'Alex'],\n",
       " ['Fábio Aurélio', 'Fábio'],\n",
       " ['Adrian Mariappa', 'Adrián'],\n",
       " ['Gabriel Paletta', 'Gabriel'],\n",
       " ['Gabriel Zakuani', 'Gabriel'],\n",
       " ['Alex', 'Alex Baptiste'],\n",
       " ['Alex', 'Sandro'],\n",
       " ['Alex', 'Alex Pearce'],\n",
       " ['Alex', 'Alex McCarthy'],\n",
       " ['Alex', 'Alex Pritchard'],\n",
       " ['Alex', 'Bruno'],\n",
       " ['Alex', 'Alex Smith'],\n",
       " ['Alex', 'Alex Smith'],\n",
       " ['Alex', 'Alex Smith'],\n",
       " ['Alex', 'Willian'],\n",
       " ['Eduardo', 'Eduardo Vargas'],\n",
       " ['Gilberto', 'Gomes'],\n",
       " ['Jonny Evans', 'Jonny'],\n",
       " ['Fernando Torres', 'Fernando'],\n",
       " ['Adrian Leijer', 'Adrián'],\n",
       " ['Rodrigo Possebon', 'Rodrigo'],\n",
       " ['Fabricio Coloccini', 'Fabricio'],\n",
       " ['Gomes', 'Claudio Gomes'],\n",
       " ['Gomes', 'Danilo'],\n",
       " ['Gomes', 'André Gomes'],\n",
       " ['Gomes', 'Angel Gomes'],\n",
       " ['Gomes', 'Thiago'],\n",
       " ['Gomes', 'Marcelo'],\n",
       " ['Gomes', 'Danilo'],\n",
       " ['Gomes', 'Fábio'],\n",
       " ['Gomes', 'Sandro'],\n",
       " ['Gomes', 'Adrián'],\n",
       " ['Gomes', 'Pelé'],\n",
       " ['Gomes', 'Claudio Gomes'],\n",
       " ['Gomes', 'Danilo'],\n",
       " ['Gomes', 'Sandro'],\n",
       " ['Fábio', 'Fabio Borini'],\n",
       " ['Fábio', 'Fabio Daprelà'],\n",
       " ['Fábio', 'Fábio Silva'],\n",
       " ['Fábio', 'Fábio Silva'],\n",
       " ['Fábio', 'Fabio Carvalho'],\n",
       " ['Joel Ward', 'Joel'],\n",
       " ['Gabriel Obertan', 'Gabriel'],\n",
       " ['Míchel', 'Míchel Salgado'],\n",
       " ['Míchel', 'Michel Vorm'],\n",
       " ['Míchel', 'Emerson'],\n",
       " ['Marcelo Moreno', 'Marcelo'],\n",
       " ['Marcelo Moreno', 'Marcelo'],\n",
       " ['Rodrigo', 'Bruno'],\n",
       " ['Sandro', 'Moreira'],\n",
       " ['Kyle Walker', 'Kyle Walker-Peters'],\n",
       " ['Scott Allan', 'Allan'],\n",
       " ['Bruno Andrade', 'Bruno'],\n",
       " ['Bruno Andrade', 'Bruno'],\n",
       " ['Bruno Perone', 'Bruno'],\n",
       " ['Bruno Ribeiro', 'Bruno'],\n",
       " ['Bruno Ribeiro', 'Bruno'],\n",
       " ['Bruno Ribeiro', 'Bruno'],\n",
       " ['Jonny Howson', 'Jonny'],\n",
       " ['Moreira', 'Bruno'],\n",
       " ['Orlandi', 'Roberto'],\n",
       " ['Joel Dixon', 'Joel'],\n",
       " ['Joel Dixon', 'Joel'],\n",
       " ['Joel', 'Joel Mumbongo'],\n",
       " ['Joel', 'Joël Veltman'],\n",
       " ['Joel', 'Joel Asoro'],\n",
       " ['Joel', 'Joel Matip'],\n",
       " ['Joel', 'Joel Campbell'],\n",
       " ['Joel', 'Joel Pereira'],\n",
       " ['Joel', 'Joel Coleman'],\n",
       " ['Joel', 'Joel Ekstrand'],\n",
       " ['Joel', 'Joel López'],\n",
       " ['Joel', 'Joel Pereira'],\n",
       " ['Oscar', 'Óscar Ustari'],\n",
       " ['Adrián', 'Fernando'],\n",
       " ['Adrián', 'Cañas'],\n",
       " ['Álvaro', 'Álvaro Negredo'],\n",
       " ['Álvaro', 'Morata'],\n",
       " ['Álvaro', 'Jurado'],\n",
       " ['Fernando Amorebieta', 'Fernando'],\n",
       " ['Luis Alberto', 'Alberto Moreno'],\n",
       " ['Luis Alberto', 'Cabral'],\n",
       " ['Soldado', 'Roberto'],\n",
       " ['Allan McGregor', 'Allan'],\n",
       " ['Willian', 'Willian José'],\n",
       " ['Gabriel Paulista', 'Gabriel'],\n",
       " ['Fernando', 'Llorente'],\n",
       " ['Fernando', 'Marcelo'],\n",
       " ['Fernando', 'Llorente'],\n",
       " ['Bernard Mensah', 'Bernard'],\n",
       " ['Bernard Mensah', 'Bernard'],\n",
       " ['Bernard Mensah', 'Bernard'],\n",
       " ['Jonny Maddison', 'Jonny'],\n",
       " ['Allan Nyom', 'Allan'],\n",
       " ['Roberto Firmino', 'Roberto'],\n",
       " ['Roberto Pereyra', 'Roberto'],\n",
       " ['Roberto Pereyra', 'Roberto'],\n",
       " ['Bruno', 'Bruno Fernandes'],\n",
       " ['Bruno', 'Bruno Fernandes'],\n",
       " ['Bruno', 'Marcelo'],\n",
       " ['Emerson', 'Emerson Hyndman'],\n",
       " ['Wesley Hoedt', 'Wesley'],\n",
       " ['Tom Allan', 'Allan'],\n",
       " ['Tom Allan', 'Allan'],\n",
       " ['Roberto', 'Thiago'],\n",
       " ['Allan Saint-Maximin', 'Allan'],\n",
       " ['Wesley', 'Wesley Fofana'],\n",
       " ['Wesley', 'Wesley Fofana'],\n",
       " ['Allan', 'Allan Tchaptchet'],\n",
       " ['Allan', 'Allan Tchaptchet'],\n",
       " ['Thiago', 'Thiago Silva'],\n",
       " ['Thiago', 'Thiago Silva'],\n",
       " ['Thiago', 'Thiago Silva']]"
      ]
     },
     "execution_count": 25,
     "metadata": {},
     "output_type": "execute_result"
    }
   ],
   "source": [
    "list(tmp[tmp[\"l\"] != 1][1])"
   ]
  },
  {
   "cell_type": "code",
   "execution_count": 26,
   "id": "a6e9fb23",
   "metadata": {},
   "outputs": [
    {
     "data": {
      "text/plain": [
       "15080"
      ]
     },
     "execution_count": 26,
     "metadata": {},
     "output_type": "execute_result"
    }
   ],
   "source": [
    "len(set([i.split(\"\\t\")[0] for i in dt.split(\"\\n\")]))"
   ]
  },
  {
   "cell_type": "code",
   "execution_count": 27,
   "id": "0c7e6560",
   "metadata": {},
   "outputs": [
    {
     "data": {
      "text/html": [
       "<div>\n",
       "<style scoped>\n",
       "    .dataframe tbody tr th:only-of-type {\n",
       "        vertical-align: middle;\n",
       "    }\n",
       "\n",
       "    .dataframe tbody tr th {\n",
       "        vertical-align: top;\n",
       "    }\n",
       "\n",
       "    .dataframe thead th {\n",
       "        text-align: right;\n",
       "    }\n",
       "</style>\n",
       "<table border=\"1\" class=\"dataframe\">\n",
       "  <thead>\n",
       "    <tr style=\"text-align: right;\">\n",
       "      <th></th>\n",
       "      <th>player_id</th>\n",
       "      <th>Born</th>\n",
       "      <th>Placeofbirth</th>\n",
       "    </tr>\n",
       "  </thead>\n",
       "  <tbody>\n",
       "    <tr>\n",
       "      <th>0</th>\n",
       "      <td>1000000</td>\n",
       "      <td>[03.02.1967]</td>\n",
       "      <td>[Kenilworth, England]</td>\n",
       "    </tr>\n",
       "    <tr>\n",
       "      <th>1</th>\n",
       "      <td>1000001</td>\n",
       "      <td>[29.08.1976]</td>\n",
       "      <td>[Dublin, Ireland]</td>\n",
       "    </tr>\n",
       "    <tr>\n",
       "      <th>2</th>\n",
       "      <td>1000002</td>\n",
       "      <td>[30.11.1983]</td>\n",
       "      <td>[Sydney, Australia]</td>\n",
       "    </tr>\n",
       "    <tr>\n",
       "      <th>3</th>\n",
       "      <td>1000003</td>\n",
       "      <td>[18.11.1980]</td>\n",
       "      <td>[Cambridge, England]</td>\n",
       "    </tr>\n",
       "    <tr>\n",
       "      <th>4</th>\n",
       "      <td>1000004</td>\n",
       "      <td>[28.02.1974]</td>\n",
       "      <td>[Birmingham, England]</td>\n",
       "    </tr>\n",
       "    <tr>\n",
       "      <th>...</th>\n",
       "      <td>...</td>\n",
       "      <td>...</td>\n",
       "      <td>...</td>\n",
       "    </tr>\n",
       "    <tr>\n",
       "      <th>4355</th>\n",
       "      <td>1004355</td>\n",
       "      <td>[08.11.2001]</td>\n",
       "      <td>[Petersfield, England]</td>\n",
       "    </tr>\n",
       "    <tr>\n",
       "      <th>4356</th>\n",
       "      <td>1004356</td>\n",
       "      <td>[03.02.2001]</td>\n",
       "      <td>[Preston, England]</td>\n",
       "    </tr>\n",
       "    <tr>\n",
       "      <th>4357</th>\n",
       "      <td>1004357</td>\n",
       "      <td>[08.10.1997]</td>\n",
       "      <td>[Poole, England]</td>\n",
       "    </tr>\n",
       "    <tr>\n",
       "      <th>4358</th>\n",
       "      <td>1004358</td>\n",
       "      <td>[23.11.1991]</td>\n",
       "      <td>[PortoCalvo, Brazil]</td>\n",
       "    </tr>\n",
       "    <tr>\n",
       "      <th>4359</th>\n",
       "      <td>1004359</td>\n",
       "      <td>[22.09.1984]</td>\n",
       "      <td>[RiodeJaneiro, Brazil]</td>\n",
       "    </tr>\n",
       "  </tbody>\n",
       "</table>\n",
       "<p>4360 rows × 3 columns</p>\n",
       "</div>"
      ],
      "text/plain": [
       "      player_id          Born            Placeofbirth\n",
       "0       1000000  [03.02.1967]   [Kenilworth, England]\n",
       "1       1000001  [29.08.1976]       [Dublin, Ireland]\n",
       "2       1000002  [30.11.1983]     [Sydney, Australia]\n",
       "3       1000003  [18.11.1980]    [Cambridge, England]\n",
       "4       1000004  [28.02.1974]   [Birmingham, England]\n",
       "...         ...           ...                     ...\n",
       "4355    1004355  [08.11.2001]  [Petersfield, England]\n",
       "4356    1004356  [03.02.2001]      [Preston, England]\n",
       "4357    1004357  [08.10.1997]        [Poole, England]\n",
       "4358    1004358  [23.11.1991]    [PortoCalvo, Brazil]\n",
       "4359    1004359  [22.09.1984]  [RiodeJaneiro, Brazil]\n",
       "\n",
       "[4360 rows x 3 columns]"
      ]
     },
     "execution_count": 27,
     "metadata": {},
     "output_type": "execute_result"
    }
   ],
   "source": [
    "world_player[['player_id', 'Born', 'Placeofbirth']]"
   ]
  },
  {
   "cell_type": "code",
   "execution_count": 28,
   "id": "0b5d959d",
   "metadata": {},
   "outputs": [
    {
     "data": {
      "text/plain": [
       "['https://www.worldfootball.net/player_summary/ugo-ehiogu/',\n",
       " 'https://www.worldfootball.net/player_summary/gary-speed/',\n",
       " 'https://www.worldfootball.net/player_summary/dean-richards/',\n",
       " 'https://www.worldfootball.net/player_summary/jlloyd-samuel/',\n",
       " 'https://www.worldfootball.net/player_summary/jimmy-davis/',\n",
       " 'https://www.worldfootball.net/player_summary/alan-miller/',\n",
       " 'https://www.worldfootball.net/player_summary/goran-bunjevcevic/',\n",
       " 'https://www.worldfootball.net/player_summary/marc-vivien-foe/',\n",
       " 'https://www.worldfootball.net/player_summary/peter-whittingham/',\n",
       " 'https://www.worldfootball.net/player_summary/reyes/',\n",
       " 'https://www.worldfootball.net/player_summary/papa-bouba-diop/',\n",
       " 'https://www.worldfootball.net/player_summary/vaclav-drobny/',\n",
       " 'https://www.worldfootball.net/player_summary/marton-fueloep/',\n",
       " 'https://www.worldfootball.net/player_summary/liam-miller/',\n",
       " 'https://www.worldfootball.net/player_summary/valery-mezague/',\n",
       " 'https://www.worldfootball.net/player_summary/miki-roque/',\n",
       " 'https://www.worldfootball.net/player_summary/besian-idrizaj/',\n",
       " 'https://www.worldfootball.net/player_summary/williams-martinez/',\n",
       " 'https://www.worldfootball.net/player_summary/pavel-srnicek/',\n",
       " 'https://www.worldfootball.net/player_summary/luton-shelton/',\n",
       " 'https://www.worldfootball.net/player_summary/christian-benitez/',\n",
       " 'https://www.worldfootball.net/player_summary/steve-gohouri/',\n",
       " 'https://www.worldfootball.net/player_summary/dylan-tombides/',\n",
       " 'https://www.worldfootball.net/player_summary/cheick-tiote/',\n",
       " 'https://www.worldfootball.net/player_summary/dionatan-teixeira/']"
      ]
     },
     "execution_count": 28,
     "metadata": {},
     "output_type": "execute_result"
    }
   ],
   "source": [
    "def f(x):\n",
    "    if type(x) == float:\n",
    "        return 0\n",
    "    else:\n",
    "        return len(x[0])\n",
    "list(world_player[world_player[\"Born\"].apply(f)>15][\"player_url\"])"
   ]
  },
  {
   "cell_type": "code",
   "execution_count": 29,
   "id": "f5f2e7fe",
   "metadata": {},
   "outputs": [],
   "source": [
    "def f(x):\n",
    "    if type(x) == float:\n",
    "        return 0\n",
    "    elif len(x[0])<15:\n",
    "        tmp = x[0].split(\".\")\n",
    "        return int(str(tmp[2]) + str(tmp[1]) + str(tmp[0]))\n",
    "    else:\n",
    "        tmp = x[0].split(\".\")\n",
    "        return int(str(tmp[2])[:4] + str(tmp[1]) + str(tmp[0]))\n",
    "world_player['Born'] = world_player['Born'].apply(f)"
   ]
  },
  {
   "cell_type": "code",
   "execution_count": 30,
   "id": "0474b82a",
   "metadata": {},
   "outputs": [],
   "source": [
    "def f(x):\n",
    "    if type(x) == float:\n",
    "        return 0\n",
    "    if x == None:\n",
    "        return 0\n",
    "    else:\n",
    "        tmp = x.split(\"-\")\n",
    "        return int(str(tmp[2]) + str(tmp[1]) + str(tmp[0]))\n",
    "\n",
    "\n",
    "who_player[\"DOB\"] = who_player[\"DOB\"].apply(f)"
   ]
  },
  {
   "cell_type": "code",
   "execution_count": 31,
   "id": "c3539f15",
   "metadata": {},
   "outputs": [],
   "source": [
    "tmp1 = world_player[[\"player_id\", \"Born\"]]\n",
    "tmp1 = tmp1.rename({\"Born\" : \"DOB\"}, axis = 1)\n",
    "tmp2 = who_player[[\"player_id\", \"DOB\"]]"
   ]
  },
  {
   "cell_type": "code",
   "execution_count": 32,
   "id": "52aaa0e1",
   "metadata": {},
   "outputs": [],
   "source": [
    "dob = tmp1.append(tmp2)"
   ]
  },
  {
   "cell_type": "code",
   "execution_count": 33,
   "id": "0ce33df8",
   "metadata": {},
   "outputs": [],
   "source": [
    "birth_id2birth = dict()\n",
    "birth2birth_id = dict()\n",
    "for idx, birth in enumerate(dob[\"DOB\"].drop_duplicates()):\n",
    "    birth_id2birth[idx] = birth\n",
    "    birth2birth_id[birth] = idx"
   ]
  },
  {
   "cell_type": "code",
   "execution_count": 34,
   "id": "41f6d78c",
   "metadata": {},
   "outputs": [],
   "source": [
    "dob[\"birth_id\"] = dob[\"DOB\"].apply(lambda x : birth2birth_id[x])"
   ]
  },
  {
   "cell_type": "code",
   "execution_count": 35,
   "id": "7b516392",
   "metadata": {},
   "outputs": [],
   "source": [
    "## DOBName_obs.txt\n",
    "tmp = dob[[\"birth_id\", \"DOB\"]].drop_duplicates()\n",
    "with open(\"PSL_data/birthName_obs.txt\", \"w\") as f:\n",
    "    for idx, row in tmp.iterrows():\n",
    "        f.write(str(row.birth_id) + \"\\t\" + str(row[\"DOB\"]) + \"\\n\")"
   ]
  },
  {
   "cell_type": "code",
   "execution_count": 52,
   "id": "fca85c39",
   "metadata": {},
   "outputs": [],
   "source": [
    "## DOBof_obs.txt\n",
    "with open(\"PSL_data/ofDOB_obs.txt\", \"w\") as f:\n",
    "    for idx, row in dob.drop_duplicates().iterrows():\n",
    "#         f.write(str(row.player_id) + \"\\t\" + str(row.birth_id) + \"\\n\")\n",
    "        f.write(str(row.birth_id) + \"\\t\" + str(row.player_id) + \"\\n\")\n"
   ]
  },
  {
   "cell_type": "code",
   "execution_count": 37,
   "id": "715241ac",
   "metadata": {},
   "outputs": [],
   "source": [
    "##simName_obs.txt\n",
    "with open(\"PSL_data/playerBlock_obs.txt\", \"r\") as f:\n",
    "    players = f.read()"
   ]
  },
  {
   "cell_type": "code",
   "execution_count": 38,
   "id": "730aa2e9",
   "metadata": {
    "scrolled": true
   },
   "outputs": [],
   "source": [
    "block = pd.DataFrame([i.split(\"\\t\") for i in players.split(\"\\n\")][:-1], columns = [\"id\", \"block\"])"
   ]
  },
  {
   "cell_type": "code",
   "execution_count": 39,
   "id": "410576b6",
   "metadata": {},
   "outputs": [],
   "source": [
    "# list(who_player[who_player[\"player_id\"] == int(idx2)][\"Name\"])[0]"
   ]
  },
  {
   "cell_type": "code",
   "execution_count": 40,
   "id": "9958a26b",
   "metadata": {},
   "outputs": [],
   "source": [
    "total_player = who_player.rename({\"Name\" : \"name\"}, axis = 1).append(world_player)"
   ]
  },
  {
   "cell_type": "code",
   "execution_count": null,
   "id": "7bbb75b2",
   "metadata": {
    "scrolled": true
   },
   "outputs": [],
   "source": []
  },
  {
   "cell_type": "code",
   "execution_count": 42,
   "id": "f77b4661",
   "metadata": {},
   "outputs": [],
   "source": [
    "Lev = NormalizedLevenshtein().similarity\n",
    "with open(\"PSL_data/simName_obs.txt\", \"w\") as f:\n",
    "    tmp = pd.DataFrame(block.groupby(\"block\")[\"id\"].apply(list))\n",
    "    for id_list in tmp[\"id\"]:\n",
    "\n",
    "        for idx1 in id_list:\n",
    "            for idx2 in id_list:\n",
    "                f.write(str(int(idx1)) + \"\\t\" + str(int(idx2)) + \"\\t\" + str(Lev(list(total_player[total_player[\"player_id\"] == int(idx2)][\"name\"])[0], list(total_player[total_player[\"player_id\"] == int(idx1)][\"name\"])[0]) ) + \"\\n\")\n",
    "\n"
   ]
  },
  {
   "cell_type": "code",
   "execution_count": 43,
   "id": "ce9d7b49",
   "metadata": {},
   "outputs": [],
   "source": [
    "simName = pd.read_csv(\"PSL_data/simName_obs.txt\", header = None, sep = \"\\t\")\n",
    "simName = simName.drop_duplicates()\n",
    "with open(\"PSL_data/simName_obs.txt\", \"w\") as f:\n",
    "    for idx, row in simName.iterrows():\n",
    "        f.write(str(int(row[0])) + \"\\t\" + str(int(row[1])) + \"\\t\" + str(row[2]) + \"\\n\")"
   ]
  },
  {
   "cell_type": "code",
   "execution_count": 44,
   "id": "ae05d254",
   "metadata": {},
   "outputs": [],
   "source": [
    "##simDOB_obs.txt\n",
    "def g(a, b):\n",
    "    if a == 1562 or b == 1562:\n",
    "        return 0.5\n",
    "    elif a == b:\n",
    "        return 1.0\n",
    "    else:\n",
    "        return 0.0"
   ]
  },
  {
   "cell_type": "code",
   "execution_count": 45,
   "id": "857dbafd",
   "metadata": {},
   "outputs": [],
   "source": [
    "with open(\"PSL_data/simDOB_obs.txt\", \"w\") as f:\n",
    "    tmp = pd.DataFrame(block.groupby(\"block\")[\"id\"].apply(list))\n",
    "    for id_list in tmp[\"id\"]:\n",
    "\n",
    "        for idx1 in id_list:\n",
    "            for idx2 in id_list:\n",
    "                birth_id1 = int(list(dob[dob[\"player_id\"]==int(idx1)][\"birth_id\"])[0])\n",
    "                birth_id2 = int(list(dob[dob[\"player_id\"]==int(idx2)][\"birth_id\"])[0])\n",
    "                f.write(str(birth_id1) + \"\\t\" + str(birth_id2) + \"\\t\" + str(g(birth_id1, birth_id2)) + \"\\n\")\n"
   ]
  },
  {
   "cell_type": "code",
   "execution_count": 46,
   "id": "9d7014cd",
   "metadata": {},
   "outputs": [],
   "source": [
    "simdob = pd.read_csv(\"PSL_data/simDOB_obs.txt\", header = None, sep = \"\\t\")"
   ]
  },
  {
   "cell_type": "code",
   "execution_count": 47,
   "id": "e4bd9a37",
   "metadata": {},
   "outputs": [],
   "source": [
    "simdob = simdob.drop_duplicates()"
   ]
  },
  {
   "cell_type": "code",
   "execution_count": 48,
   "id": "14ae85a0",
   "metadata": {},
   "outputs": [
    {
     "data": {
      "text/html": [
       "<div>\n",
       "<style scoped>\n",
       "    .dataframe tbody tr th:only-of-type {\n",
       "        vertical-align: middle;\n",
       "    }\n",
       "\n",
       "    .dataframe tbody tr th {\n",
       "        vertical-align: top;\n",
       "    }\n",
       "\n",
       "    .dataframe thead th {\n",
       "        text-align: right;\n",
       "    }\n",
       "</style>\n",
       "<table border=\"1\" class=\"dataframe\">\n",
       "  <thead>\n",
       "    <tr style=\"text-align: right;\">\n",
       "      <th></th>\n",
       "      <th>0</th>\n",
       "      <th>1</th>\n",
       "      <th>2</th>\n",
       "    </tr>\n",
       "  </thead>\n",
       "  <tbody>\n",
       "    <tr>\n",
       "      <th>0</th>\n",
       "      <td>1625</td>\n",
       "      <td>1625</td>\n",
       "      <td>1.0</td>\n",
       "    </tr>\n",
       "    <tr>\n",
       "      <th>1</th>\n",
       "      <td>1625</td>\n",
       "      <td>81</td>\n",
       "      <td>0.0</td>\n",
       "    </tr>\n",
       "    <tr>\n",
       "      <th>3</th>\n",
       "      <td>1625</td>\n",
       "      <td>1560</td>\n",
       "      <td>0.0</td>\n",
       "    </tr>\n",
       "    <tr>\n",
       "      <th>4</th>\n",
       "      <td>81</td>\n",
       "      <td>1625</td>\n",
       "      <td>0.0</td>\n",
       "    </tr>\n",
       "    <tr>\n",
       "      <th>5</th>\n",
       "      <td>81</td>\n",
       "      <td>81</td>\n",
       "      <td>1.0</td>\n",
       "    </tr>\n",
       "    <tr>\n",
       "      <th>...</th>\n",
       "      <td>...</td>\n",
       "      <td>...</td>\n",
       "      <td>...</td>\n",
       "    </tr>\n",
       "    <tr>\n",
       "      <th>973968</th>\n",
       "      <td>3390</td>\n",
       "      <td>3390</td>\n",
       "      <td>1.0</td>\n",
       "    </tr>\n",
       "    <tr>\n",
       "      <th>973972</th>\n",
       "      <td>312</td>\n",
       "      <td>312</td>\n",
       "      <td>1.0</td>\n",
       "    </tr>\n",
       "    <tr>\n",
       "      <th>973976</th>\n",
       "      <td>234</td>\n",
       "      <td>234</td>\n",
       "      <td>1.0</td>\n",
       "    </tr>\n",
       "    <tr>\n",
       "      <th>973978</th>\n",
       "      <td>1546</td>\n",
       "      <td>1546</td>\n",
       "      <td>1.0</td>\n",
       "    </tr>\n",
       "    <tr>\n",
       "      <th>973981</th>\n",
       "      <td>3524</td>\n",
       "      <td>3524</td>\n",
       "      <td>1.0</td>\n",
       "    </tr>\n",
       "  </tbody>\n",
       "</table>\n",
       "<p>674689 rows × 3 columns</p>\n",
       "</div>"
      ],
      "text/plain": [
       "           0     1    2\n",
       "0       1625  1625  1.0\n",
       "1       1625    81  0.0\n",
       "3       1625  1560  0.0\n",
       "4         81  1625  0.0\n",
       "5         81    81  1.0\n",
       "...      ...   ...  ...\n",
       "973968  3390  3390  1.0\n",
       "973972   312   312  1.0\n",
       "973976   234   234  1.0\n",
       "973978  1546  1546  1.0\n",
       "973981  3524  3524  1.0\n",
       "\n",
       "[674689 rows x 3 columns]"
      ]
     },
     "execution_count": 48,
     "metadata": {},
     "output_type": "execute_result"
    }
   ],
   "source": [
    "simdob"
   ]
  },
  {
   "cell_type": "code",
   "execution_count": 49,
   "id": "387aff55",
   "metadata": {
    "scrolled": true
   },
   "outputs": [],
   "source": [
    "with open(\"PSL_data/simDOB_obs.txt\", \"w\") as f:\n",
    "    for idx, row in simdob.iterrows():\n",
    "        f.write(str(int(row[0])) + \"\\t\" + str(int(row[1])) + \"\\t\" + str(row[2]) + \"\\n\")\n",
    "    "
   ]
  },
  {
   "cell_type": "code",
   "execution_count": 50,
   "id": "d523bcc5",
   "metadata": {},
   "outputs": [],
   "source": [
    "####"
   ]
  },
  {
   "cell_type": "code",
   "execution_count": 62,
   "id": "c86f0632",
   "metadata": {},
   "outputs": [],
   "source": [
    "with open(\"PSL_data/samePlayer_target_obs.txt\", \"w\") as f:\n",
    "    tmp = pd.DataFrame(block.groupby(\"block\")[\"id\"].apply(list))\n",
    "    for id_list in tmp[\"id\"]:\n",
    "        if len(id_list)>=2:\n",
    "            list_1 = []\n",
    "            list_2 = []\n",
    "            for idx in id_list:\n",
    "                if idx[0] == '1':\n",
    "                    list_1.append(idx)\n",
    "                if idx[0] == '2':\n",
    "                    list_2.append(idx)\n",
    "\n",
    "            for idx1 in list_1:\n",
    "                for idx2 in list_2:\n",
    "                    f.write(idx1 + \"\\t\" + idx2 + \"\\n\" )\n"
   ]
  },
  {
   "cell_type": "code",
   "execution_count": 56,
   "id": "8457ac36",
   "metadata": {},
   "outputs": [
    {
     "data": {
      "text/plain": [
       "['1001832', '2003648', '2003649', '2003650']"
      ]
     },
     "execution_count": 56,
     "metadata": {},
     "output_type": "execute_result"
    }
   ],
   "source": [
    "id_list"
   ]
  },
  {
   "cell_type": "code",
   "execution_count": 60,
   "id": "ed9a0828",
   "metadata": {},
   "outputs": [
    {
     "data": {
      "text/plain": [
       "['2003650']"
      ]
     },
     "execution_count": 60,
     "metadata": {},
     "output_type": "execute_result"
    }
   ],
   "source": [
    "id_list[3:]"
   ]
  },
  {
   "cell_type": "code",
   "execution_count": 63,
   "id": "5c96d852",
   "metadata": {},
   "outputs": [],
   "source": [
    "tmp = pd.DataFrame(block.groupby(\"block\")[\"id\"].apply(list))"
   ]
  },
  {
   "cell_type": "code",
   "execution_count": 64,
   "id": "14e07948",
   "metadata": {},
   "outputs": [
    {
     "data": {
      "text/html": [
       "<div>\n",
       "<style scoped>\n",
       "    .dataframe tbody tr th:only-of-type {\n",
       "        vertical-align: middle;\n",
       "    }\n",
       "\n",
       "    .dataframe tbody tr th {\n",
       "        vertical-align: top;\n",
       "    }\n",
       "\n",
       "    .dataframe thead th {\n",
       "        text-align: right;\n",
       "    }\n",
       "</style>\n",
       "<table border=\"1\" class=\"dataframe\">\n",
       "  <thead>\n",
       "    <tr style=\"text-align: right;\">\n",
       "      <th></th>\n",
       "      <th>id</th>\n",
       "    </tr>\n",
       "    <tr>\n",
       "      <th>block</th>\n",
       "      <th></th>\n",
       "    </tr>\n",
       "  </thead>\n",
       "  <tbody>\n",
       "    <tr>\n",
       "      <th>Aaron Brown</th>\n",
       "      <td>[1001832, 2003648, 2003649, 2003650]</td>\n",
       "    </tr>\n",
       "    <tr>\n",
       "      <th>Aaron Connolly</th>\n",
       "      <td>[1003638, 2008303, 2008304, 2008305]</td>\n",
       "    </tr>\n",
       "    <tr>\n",
       "      <th>Aaron Cresswell</th>\n",
       "      <td>[1003072, 2007126]</td>\n",
       "    </tr>\n",
       "    <tr>\n",
       "      <th>Aaron Doran</th>\n",
       "      <td>[1001982, 2003803, 2003804]</td>\n",
       "    </tr>\n",
       "    <tr>\n",
       "      <th>Aaron Hughes</th>\n",
       "      <td>[1000475, 2000606]</td>\n",
       "    </tr>\n",
       "    <tr>\n",
       "      <th>...</th>\n",
       "      <td>...</td>\n",
       "    </tr>\n",
       "    <tr>\n",
       "      <th>İlkay Gündoğan</th>\n",
       "      <td>[1003513]</td>\n",
       "    </tr>\n",
       "    <tr>\n",
       "      <th>Ľubomir Michalík</th>\n",
       "      <td>[1001734]</td>\n",
       "    </tr>\n",
       "    <tr>\n",
       "      <th>Ľubomír Šatka</th>\n",
       "      <td>[1002940]</td>\n",
       "    </tr>\n",
       "    <tr>\n",
       "      <th>Łukasz Fabiański</th>\n",
       "      <td>[1001840]</td>\n",
       "    </tr>\n",
       "    <tr>\n",
       "      <th>Žan Luk Leban</th>\n",
       "      <td>[1004267]</td>\n",
       "    </tr>\n",
       "  </tbody>\n",
       "</table>\n",
       "<p>4337 rows × 1 columns</p>\n",
       "</div>"
      ],
      "text/plain": [
       "                                                    id\n",
       "block                                                 \n",
       "Aaron Brown       [1001832, 2003648, 2003649, 2003650]\n",
       "Aaron Connolly    [1003638, 2008303, 2008304, 2008305]\n",
       "Aaron Cresswell                     [1003072, 2007126]\n",
       "Aaron Doran                [1001982, 2003803, 2003804]\n",
       "Aaron Hughes                        [1000475, 2000606]\n",
       "...                                                ...\n",
       "İlkay Gündoğan                               [1003513]\n",
       "Ľubomir Michalík                             [1001734]\n",
       "Ľubomír Šatka                                [1002940]\n",
       "Łukasz Fabiański                             [1001840]\n",
       "Žan Luk Leban                                [1004267]\n",
       "\n",
       "[4337 rows x 1 columns]"
      ]
     },
     "execution_count": 64,
     "metadata": {},
     "output_type": "execute_result"
    }
   ],
   "source": [
    "tmp"
   ]
  },
  {
   "cell_type": "code",
   "execution_count": 53,
   "id": "4af38099",
   "metadata": {
    "scrolled": true
   },
   "outputs": [
    {
     "data": {
      "text/plain": [
       "player_block        0\n",
       "player_url          0\n",
       "Name                0\n",
       "Shirt Number     6602\n",
       "Age              1161\n",
       "Height           3753\n",
       "Nationality         0\n",
       "Positions        1609\n",
       "Strengths        8087\n",
       "Weaknesses       8087\n",
       "Style_of_Play    8087\n",
       "Current Team     8527\n",
       "DOB                 0\n",
       "player_id           0\n",
       "dtype: int64"
      ]
     },
     "execution_count": 53,
     "metadata": {},
     "output_type": "execute_result"
    }
   ],
   "source": [
    "who_player.isna().sum()"
   ]
  },
  {
   "cell_type": "code",
   "execution_count": null,
   "id": "f450bf76",
   "metadata": {},
   "outputs": [],
   "source": []
  },
  {
   "cell_type": "code",
   "execution_count": 69,
   "id": "e9fff4f4",
   "metadata": {},
   "outputs": [
    {
     "data": {
      "text/plain": [
       "'https://www.whoscored.com/Players/339830/Show/Ben-Clark'"
      ]
     },
     "execution_count": 69,
     "metadata": {},
     "output_type": "execute_result"
    }
   ],
   "source": [
    "who_player[who_player[\"DOB\"] == 0][\"player_url\"][23]\n"
   ]
  },
  {
   "cell_type": "code",
   "execution_count": null,
   "id": "555c67a5",
   "metadata": {},
   "outputs": [],
   "source": []
  },
  {
   "cell_type": "code",
   "execution_count": null,
   "id": "d560ea4d",
   "metadata": {},
   "outputs": [],
   "source": []
  },
  {
   "cell_type": "code",
   "execution_count": 84,
   "id": "37a47570",
   "metadata": {
    "scrolled": false
   },
   "outputs": [
    {
     "name": "stderr",
     "output_type": "stream",
     "text": [
      "/Users/jaeyoungkim/.local/lib/python3.7/site-packages/ipykernel_launcher.py:2: SettingWithCopyWarning: \n",
      "A value is trying to be set on a copy of a slice from a DataFrame.\n",
      "Try using .loc[row_indexer,col_indexer] = value instead\n",
      "\n",
      "See the caveats in the documentation: https://pandas.pydata.org/pandas-docs/stable/user_guide/indexing.html#returning-a-view-versus-a-copy\n",
      "  \n"
     ]
    }
   ],
   "source": [
    "tmp = who_player[[\"player_block\", \"player_url\"]]\n",
    "tmp[\"player_id\"] = tmp[\"player_url\"].apply(lambda x : who2id[x])"
   ]
  },
  {
   "cell_type": "code",
   "execution_count": 89,
   "id": "85489b03",
   "metadata": {},
   "outputs": [
    {
     "data": {
      "text/html": [
       "<div>\n",
       "<style scoped>\n",
       "    .dataframe tbody tr th:only-of-type {\n",
       "        vertical-align: middle;\n",
       "    }\n",
       "\n",
       "    .dataframe tbody tr th {\n",
       "        vertical-align: top;\n",
       "    }\n",
       "\n",
       "    .dataframe thead th {\n",
       "        text-align: right;\n",
       "    }\n",
       "</style>\n",
       "<table border=\"1\" class=\"dataframe\">\n",
       "  <thead>\n",
       "    <tr style=\"text-align: right;\">\n",
       "      <th></th>\n",
       "      <th>player_block</th>\n",
       "      <th>player_url</th>\n",
       "      <th>Name</th>\n",
       "      <th>Shirt Number</th>\n",
       "      <th>Age</th>\n",
       "      <th>Height</th>\n",
       "      <th>Nationality</th>\n",
       "      <th>Positions</th>\n",
       "      <th>Strengths</th>\n",
       "      <th>Weaknesses</th>\n",
       "      <th>Style_of_Play</th>\n",
       "      <th>Current Team</th>\n",
       "      <th>DOB</th>\n",
       "    </tr>\n",
       "  </thead>\n",
       "  <tbody>\n",
       "    <tr>\n",
       "      <th>0</th>\n",
       "      <td>David Carney</td>\n",
       "      <td>https://www.whoscored.com/Players/13253/Show/D...</td>\n",
       "      <td>David Carney</td>\n",
       "      <td>17</td>\n",
       "      <td>37</td>\n",
       "      <td>181cm</td>\n",
       "      <td>Australia</td>\n",
       "      <td>Defender (Left)</td>\n",
       "      <td>[]</td>\n",
       "      <td>[Concentration, Aerial Duels, Passing, Holding...</td>\n",
       "      <td>[Plays the ball off the ground often, Likes to...</td>\n",
       "      <td>NaN</td>\n",
       "      <td>30-11-1983</td>\n",
       "    </tr>\n",
       "    <tr>\n",
       "      <th>1</th>\n",
       "      <td>Stephen Carr</td>\n",
       "      <td>https://www.whoscored.com/Players/1354/Show/St...</td>\n",
       "      <td>Stephen Carr</td>\n",
       "      <td>2</td>\n",
       "      <td>45</td>\n",
       "      <td>175cm</td>\n",
       "      <td>Ireland</td>\n",
       "      <td>Defender (Right)</td>\n",
       "      <td>NaN</td>\n",
       "      <td>NaN</td>\n",
       "      <td>NaN</td>\n",
       "      <td>NaN</td>\n",
       "      <td>29-08-1976</td>\n",
       "    </tr>\n",
       "    <tr>\n",
       "      <th>2</th>\n",
       "      <td>Jamie Carragher</td>\n",
       "      <td>https://www.whoscored.com/Players/1329/Show/Ja...</td>\n",
       "      <td>Jamie Carragher</td>\n",
       "      <td>23</td>\n",
       "      <td>43</td>\n",
       "      <td>185cm</td>\n",
       "      <td>England</td>\n",
       "      <td>Defender (Centre)</td>\n",
       "      <td>[Passing]</td>\n",
       "      <td>[Aerial Duels, Tackling]</td>\n",
       "      <td>[Does not dive into tackles]</td>\n",
       "      <td>NaN</td>\n",
       "      <td>28-01-1978</td>\n",
       "    </tr>\n",
       "    <tr>\n",
       "      <th>3</th>\n",
       "      <td>Michael Carrick</td>\n",
       "      <td>https://www.whoscored.com/Players/2115/Show/Mi...</td>\n",
       "      <td>Michael Carrick</td>\n",
       "      <td>16</td>\n",
       "      <td>40</td>\n",
       "      <td>188cm</td>\n",
       "      <td>England</td>\n",
       "      <td>Midfielder (Centre)</td>\n",
       "      <td>[Passing, Concentration]</td>\n",
       "      <td>[]</td>\n",
       "      <td>[Likes to shoot from distance, Does not dive i...</td>\n",
       "      <td>NaN</td>\n",
       "      <td>28-07-1981</td>\n",
       "    </tr>\n",
       "    <tr>\n",
       "      <th>4</th>\n",
       "      <td>Lee Carsley</td>\n",
       "      <td>https://www.whoscored.com/Players/114/Show/Lee...</td>\n",
       "      <td>Lee Carsley</td>\n",
       "      <td>26</td>\n",
       "      <td>47</td>\n",
       "      <td>175cm</td>\n",
       "      <td>Ireland</td>\n",
       "      <td>Midfielder (Centre)</td>\n",
       "      <td>NaN</td>\n",
       "      <td>NaN</td>\n",
       "      <td>NaN</td>\n",
       "      <td>NaN</td>\n",
       "      <td>28-02-1974</td>\n",
       "    </tr>\n",
       "    <tr>\n",
       "      <th>...</th>\n",
       "      <td>...</td>\n",
       "      <td>...</td>\n",
       "      <td>...</td>\n",
       "      <td>...</td>\n",
       "      <td>...</td>\n",
       "      <td>...</td>\n",
       "      <td>...</td>\n",
       "      <td>...</td>\n",
       "      <td>...</td>\n",
       "      <td>...</td>\n",
       "      <td>...</td>\n",
       "      <td>...</td>\n",
       "      <td>...</td>\n",
       "    </tr>\n",
       "    <tr>\n",
       "      <th>10923</th>\n",
       "      <td>George Wickens</td>\n",
       "      <td>https://www.whoscored.com/Players/363440/Show/...</td>\n",
       "      <td>George Wickens</td>\n",
       "      <td>NaN</td>\n",
       "      <td>None</td>\n",
       "      <td>NaN</td>\n",
       "      <td>England</td>\n",
       "      <td>NaN</td>\n",
       "      <td>NaN</td>\n",
       "      <td>NaN</td>\n",
       "      <td>NaN</td>\n",
       "      <td>Wealdstone</td>\n",
       "      <td>None</td>\n",
       "    </tr>\n",
       "    <tr>\n",
       "      <th>10924</th>\n",
       "      <td>Thiago Silva</td>\n",
       "      <td>https://www.whoscored.com/Players/28550/Show/T...</td>\n",
       "      <td>Thiago Emiliano da Silva</td>\n",
       "      <td>6</td>\n",
       "      <td>37</td>\n",
       "      <td>183cm</td>\n",
       "      <td>Brazil</td>\n",
       "      <td>Defender (Centre)</td>\n",
       "      <td>[Passing, Concentration]</td>\n",
       "      <td>[Discipline, Tackling]</td>\n",
       "      <td>[Does not dive into tackles]</td>\n",
       "      <td>Chelsea</td>\n",
       "      <td>22-09-1984</td>\n",
       "    </tr>\n",
       "    <tr>\n",
       "      <th>10925</th>\n",
       "      <td>Thiago Silva</td>\n",
       "      <td>https://www.whoscored.com/Players/392670/Show/...</td>\n",
       "      <td>Thiago Silva</td>\n",
       "      <td>NaN</td>\n",
       "      <td>None</td>\n",
       "      <td>NaN</td>\n",
       "      <td>Brazil</td>\n",
       "      <td>NaN</td>\n",
       "      <td>NaN</td>\n",
       "      <td>NaN</td>\n",
       "      <td>NaN</td>\n",
       "      <td>NaN</td>\n",
       "      <td>None</td>\n",
       "    </tr>\n",
       "    <tr>\n",
       "      <th>10926</th>\n",
       "      <td>Thiago Silva</td>\n",
       "      <td>https://www.whoscored.com/Players/91117/Show/T...</td>\n",
       "      <td>Thiago da Silva</td>\n",
       "      <td>NaN</td>\n",
       "      <td>38</td>\n",
       "      <td>174cm</td>\n",
       "      <td>Brazil</td>\n",
       "      <td>Midfielder</td>\n",
       "      <td>NaN</td>\n",
       "      <td>NaN</td>\n",
       "      <td>NaN</td>\n",
       "      <td>NaN</td>\n",
       "      <td>22-06-1983</td>\n",
       "    </tr>\n",
       "    <tr>\n",
       "      <th>10927</th>\n",
       "      <td>Willian José</td>\n",
       "      <td>https://www.whoscored.com/Players/77636/Show/W...</td>\n",
       "      <td>Willian José Da Silva</td>\n",
       "      <td>12</td>\n",
       "      <td>29</td>\n",
       "      <td>189cm</td>\n",
       "      <td>Brazil</td>\n",
       "      <td>Forward</td>\n",
       "      <td>[Holding on to the ball]</td>\n",
       "      <td>[]</td>\n",
       "      <td>[Likes to play long balls, Indirect set-piece ...</td>\n",
       "      <td>Real Betis</td>\n",
       "      <td>23-11-1991</td>\n",
       "    </tr>\n",
       "  </tbody>\n",
       "</table>\n",
       "<p>10928 rows × 13 columns</p>\n",
       "</div>"
      ],
      "text/plain": [
       "          player_block                                         player_url  \\\n",
       "0         David Carney  https://www.whoscored.com/Players/13253/Show/D...   \n",
       "1         Stephen Carr  https://www.whoscored.com/Players/1354/Show/St...   \n",
       "2      Jamie Carragher  https://www.whoscored.com/Players/1329/Show/Ja...   \n",
       "3      Michael Carrick  https://www.whoscored.com/Players/2115/Show/Mi...   \n",
       "4          Lee Carsley  https://www.whoscored.com/Players/114/Show/Lee...   \n",
       "...                ...                                                ...   \n",
       "10923   George Wickens  https://www.whoscored.com/Players/363440/Show/...   \n",
       "10924     Thiago Silva  https://www.whoscored.com/Players/28550/Show/T...   \n",
       "10925     Thiago Silva  https://www.whoscored.com/Players/392670/Show/...   \n",
       "10926     Thiago Silva  https://www.whoscored.com/Players/91117/Show/T...   \n",
       "10927     Willian José  https://www.whoscored.com/Players/77636/Show/W...   \n",
       "\n",
       "                           Name Shirt Number   Age Height Nationality  \\\n",
       "0                  David Carney           17    37  181cm   Australia   \n",
       "1                  Stephen Carr            2    45  175cm     Ireland   \n",
       "2               Jamie Carragher           23    43  185cm     England   \n",
       "3               Michael Carrick           16    40  188cm     England   \n",
       "4                   Lee Carsley           26    47  175cm     Ireland   \n",
       "...                         ...          ...   ...    ...         ...   \n",
       "10923            George Wickens          NaN  None    NaN     England   \n",
       "10924  Thiago Emiliano da Silva            6    37  183cm      Brazil   \n",
       "10925              Thiago Silva          NaN  None    NaN      Brazil   \n",
       "10926           Thiago da Silva          NaN    38  174cm      Brazil   \n",
       "10927     Willian José Da Silva           12    29  189cm      Brazil   \n",
       "\n",
       "                 Positions                 Strengths  \\\n",
       "0          Defender (Left)                        []   \n",
       "1         Defender (Right)                       NaN   \n",
       "2        Defender (Centre)                 [Passing]   \n",
       "3      Midfielder (Centre)  [Passing, Concentration]   \n",
       "4      Midfielder (Centre)                       NaN   \n",
       "...                    ...                       ...   \n",
       "10923                  NaN                       NaN   \n",
       "10924    Defender (Centre)  [Passing, Concentration]   \n",
       "10925                  NaN                       NaN   \n",
       "10926           Midfielder                       NaN   \n",
       "10927              Forward  [Holding on to the ball]   \n",
       "\n",
       "                                              Weaknesses  \\\n",
       "0      [Concentration, Aerial Duels, Passing, Holding...   \n",
       "1                                                    NaN   \n",
       "2                               [Aerial Duels, Tackling]   \n",
       "3                                                     []   \n",
       "4                                                    NaN   \n",
       "...                                                  ...   \n",
       "10923                                                NaN   \n",
       "10924                             [Discipline, Tackling]   \n",
       "10925                                                NaN   \n",
       "10926                                                NaN   \n",
       "10927                                                 []   \n",
       "\n",
       "                                           Style_of_Play Current Team  \\\n",
       "0      [Plays the ball off the ground often, Likes to...          NaN   \n",
       "1                                                    NaN          NaN   \n",
       "2                           [Does not dive into tackles]          NaN   \n",
       "3      [Likes to shoot from distance, Does not dive i...          NaN   \n",
       "4                                                    NaN          NaN   \n",
       "...                                                  ...          ...   \n",
       "10923                                                NaN   Wealdstone   \n",
       "10924                       [Does not dive into tackles]      Chelsea   \n",
       "10925                                                NaN          NaN   \n",
       "10926                                                NaN          NaN   \n",
       "10927  [Likes to play long balls, Indirect set-piece ...   Real Betis   \n",
       "\n",
       "              DOB  \n",
       "0      30-11-1983  \n",
       "1      29-08-1976  \n",
       "2      28-01-1978  \n",
       "3      28-07-1981  \n",
       "4      28-02-1974  \n",
       "...           ...  \n",
       "10923        None  \n",
       "10924  22-09-1984  \n",
       "10925        None  \n",
       "10926  22-06-1983  \n",
       "10927  23-11-1991  \n",
       "\n",
       "[10928 rows x 13 columns]"
      ]
     },
     "execution_count": 89,
     "metadata": {},
     "output_type": "execute_result"
    }
   ],
   "source": [
    "who_player"
   ]
  },
  {
   "cell_type": "code",
   "execution_count": 88,
   "id": "6a2ac836",
   "metadata": {
    "scrolled": false
   },
   "outputs": [
    {
     "data": {
      "text/html": [
       "<div>\n",
       "<style scoped>\n",
       "    .dataframe tbody tr th:only-of-type {\n",
       "        vertical-align: middle;\n",
       "    }\n",
       "\n",
       "    .dataframe tbody tr th {\n",
       "        vertical-align: top;\n",
       "    }\n",
       "\n",
       "    .dataframe thead th {\n",
       "        text-align: right;\n",
       "    }\n",
       "</style>\n",
       "<table border=\"1\" class=\"dataframe\">\n",
       "  <thead>\n",
       "    <tr style=\"text-align: right;\">\n",
       "      <th></th>\n",
       "      <th>player_block</th>\n",
       "      <th>player_url</th>\n",
       "      <th>player_id</th>\n",
       "    </tr>\n",
       "  </thead>\n",
       "  <tbody>\n",
       "    <tr>\n",
       "      <th>1243</th>\n",
       "      <td>Bruno Cheyrou</td>\n",
       "      <td>https://www.whoscored.com/Players/1445/Show/Br...</td>\n",
       "      <td>1242</td>\n",
       "    </tr>\n",
       "    <tr>\n",
       "      <th>8177</th>\n",
       "      <td>Bruno</td>\n",
       "      <td>https://www.whoscored.com/Players/1445/Show/Br...</td>\n",
       "      <td>1242</td>\n",
       "    </tr>\n",
       "  </tbody>\n",
       "</table>\n",
       "</div>"
      ],
      "text/plain": [
       "       player_block                                         player_url  \\\n",
       "1243  Bruno Cheyrou  https://www.whoscored.com/Players/1445/Show/Br...   \n",
       "8177          Bruno  https://www.whoscored.com/Players/1445/Show/Br...   \n",
       "\n",
       "      player_id  \n",
       "1243       1242  \n",
       "8177       1242  "
      ]
     },
     "execution_count": 88,
     "metadata": {},
     "output_type": "execute_result"
    }
   ],
   "source": [
    "tmp[tmp[\"player_id\"] == 1242]"
   ]
  },
  {
   "cell_type": "code",
   "execution_count": 91,
   "id": "bb9080f3",
   "metadata": {},
   "outputs": [
    {
     "data": {
      "text/plain": [
       "1242     2\n",
       "2307     2\n",
       "3858     2\n",
       "5685     2\n",
       "3683     2\n",
       "        ..\n",
       "3634     1\n",
       "3635     1\n",
       "3636     1\n",
       "3637     1\n",
       "10718    1\n",
       "Name: player_id, Length: 10719, dtype: int64"
      ]
     },
     "execution_count": 91,
     "metadata": {},
     "output_type": "execute_result"
    }
   ],
   "source": [
    "tmp[\"player_id\"].value_counts()"
   ]
  },
  {
   "cell_type": "code",
   "execution_count": null,
   "id": "6ceaebe1",
   "metadata": {},
   "outputs": [],
   "source": []
  },
  {
   "cell_type": "code",
   "execution_count": null,
   "id": "d77330ad",
   "metadata": {},
   "outputs": [],
   "source": []
  },
  {
   "cell_type": "code",
   "execution_count": null,
   "id": "1a5096c3",
   "metadata": {},
   "outputs": [],
   "source": []
  },
  {
   "cell_type": "code",
   "execution_count": null,
   "id": "8edd07bc",
   "metadata": {},
   "outputs": [],
   "source": []
  },
  {
   "cell_type": "code",
   "execution_count": 77,
   "id": "9457c41f",
   "metadata": {},
   "outputs": [],
   "source": [
    "# a = JaroWinkler().similarity\n",
    "a = NormalizedLevenshtein().similarity"
   ]
  },
  {
   "cell_type": "code",
   "execution_count": 112,
   "id": "0df758b6",
   "metadata": {},
   "outputs": [
    {
     "data": {
      "text/html": [
       "<div>\n",
       "<style scoped>\n",
       "    .dataframe tbody tr th:only-of-type {\n",
       "        vertical-align: middle;\n",
       "    }\n",
       "\n",
       "    .dataframe tbody tr th {\n",
       "        vertical-align: top;\n",
       "    }\n",
       "\n",
       "    .dataframe thead th {\n",
       "        text-align: right;\n",
       "    }\n",
       "</style>\n",
       "<table border=\"1\" class=\"dataframe\">\n",
       "  <thead>\n",
       "    <tr style=\"text-align: right;\">\n",
       "      <th></th>\n",
       "      <th>0</th>\n",
       "      <th>1</th>\n",
       "    </tr>\n",
       "  </thead>\n",
       "  <tbody>\n",
       "    <tr>\n",
       "      <th>0</th>\n",
       "      <td>0</td>\n",
       "      <td>19760829</td>\n",
       "    </tr>\n",
       "    <tr>\n",
       "      <th>1</th>\n",
       "      <td>1</td>\n",
       "      <td>19831130</td>\n",
       "    </tr>\n",
       "    <tr>\n",
       "      <th>2</th>\n",
       "      <td>2</td>\n",
       "      <td>19670203</td>\n",
       "    </tr>\n",
       "    <tr>\n",
       "      <th>3</th>\n",
       "      <td>3</td>\n",
       "      <td>19740228</td>\n",
       "    </tr>\n",
       "    <tr>\n",
       "      <th>4</th>\n",
       "      <td>4</td>\n",
       "      <td>19700730</td>\n",
       "    </tr>\n",
       "    <tr>\n",
       "      <th>...</th>\n",
       "      <td>...</td>\n",
       "      <td>...</td>\n",
       "    </tr>\n",
       "    <tr>\n",
       "      <th>6326</th>\n",
       "      <td>6326</td>\n",
       "      <td>19910804</td>\n",
       "    </tr>\n",
       "    <tr>\n",
       "      <th>6327</th>\n",
       "      <td>6327</td>\n",
       "      <td>19890824</td>\n",
       "    </tr>\n",
       "    <tr>\n",
       "      <th>6328</th>\n",
       "      <td>6328</td>\n",
       "      <td>19890430</td>\n",
       "    </tr>\n",
       "    <tr>\n",
       "      <th>6329</th>\n",
       "      <td>6329</td>\n",
       "      <td>20020407</td>\n",
       "    </tr>\n",
       "    <tr>\n",
       "      <th>6330</th>\n",
       "      <td>6330</td>\n",
       "      <td>19830319</td>\n",
       "    </tr>\n",
       "  </tbody>\n",
       "</table>\n",
       "<p>6331 rows × 2 columns</p>\n",
       "</div>"
      ],
      "text/plain": [
       "         0         1\n",
       "0        0  19760829\n",
       "1        1  19831130\n",
       "2        2  19670203\n",
       "3        3  19740228\n",
       "4        4  19700730\n",
       "...    ...       ...\n",
       "6326  6326  19910804\n",
       "6327  6327  19890824\n",
       "6328  6328  19890430\n",
       "6329  6329  20020407\n",
       "6330  6330  19830319\n",
       "\n",
       "[6331 rows x 2 columns]"
      ]
     },
     "execution_count": 112,
     "metadata": {},
     "output_type": "execute_result"
    }
   ],
   "source": [
    "pd.read_csv(\"PSL_data/birthName_obs.txt\", header = None, sep =\"\\t\")"
   ]
  },
  {
   "cell_type": "code",
   "execution_count": 129,
   "id": "e82db5d9",
   "metadata": {},
   "outputs": [],
   "source": [
    "ofdob = pd.read_csv(\"PSL_data/ofDOB_obs.txt\", header = None, sep =\"\\t\")"
   ]
  },
  {
   "cell_type": "code",
   "execution_count": 131,
   "id": "6851bd13",
   "metadata": {},
   "outputs": [
    {
     "data": {
      "text/html": [
       "<div>\n",
       "<style scoped>\n",
       "    .dataframe tbody tr th:only-of-type {\n",
       "        vertical-align: middle;\n",
       "    }\n",
       "\n",
       "    .dataframe tbody tr th {\n",
       "        vertical-align: top;\n",
       "    }\n",
       "\n",
       "    .dataframe thead th {\n",
       "        text-align: right;\n",
       "    }\n",
       "</style>\n",
       "<table border=\"1\" class=\"dataframe\">\n",
       "  <thead>\n",
       "    <tr style=\"text-align: right;\">\n",
       "      <th></th>\n",
       "      <th>0</th>\n",
       "      <th>1</th>\n",
       "    </tr>\n",
       "  </thead>\n",
       "  <tbody>\n",
       "    <tr>\n",
       "      <th>0</th>\n",
       "      <td>1000000</td>\n",
       "      <td>0</td>\n",
       "    </tr>\n",
       "    <tr>\n",
       "      <th>1</th>\n",
       "      <td>1000001</td>\n",
       "      <td>1</td>\n",
       "    </tr>\n",
       "    <tr>\n",
       "      <th>2</th>\n",
       "      <td>1000002</td>\n",
       "      <td>2</td>\n",
       "    </tr>\n",
       "    <tr>\n",
       "      <th>3</th>\n",
       "      <td>1000003</td>\n",
       "      <td>3</td>\n",
       "    </tr>\n",
       "    <tr>\n",
       "      <th>4</th>\n",
       "      <td>1000004</td>\n",
       "      <td>4</td>\n",
       "    </tr>\n",
       "    <tr>\n",
       "      <th>...</th>\n",
       "      <td>...</td>\n",
       "      <td>...</td>\n",
       "    </tr>\n",
       "    <tr>\n",
       "      <th>15279</th>\n",
       "      <td>2010714</td>\n",
       "      <td>1562</td>\n",
       "    </tr>\n",
       "    <tr>\n",
       "      <th>15280</th>\n",
       "      <td>2010715</td>\n",
       "      <td>2456</td>\n",
       "    </tr>\n",
       "    <tr>\n",
       "      <th>15281</th>\n",
       "      <td>2010716</td>\n",
       "      <td>4329</td>\n",
       "    </tr>\n",
       "    <tr>\n",
       "      <th>15282</th>\n",
       "      <td>2010717</td>\n",
       "      <td>1562</td>\n",
       "    </tr>\n",
       "    <tr>\n",
       "      <th>15283</th>\n",
       "      <td>2010718</td>\n",
       "      <td>1562</td>\n",
       "    </tr>\n",
       "  </tbody>\n",
       "</table>\n",
       "<p>15080 rows × 2 columns</p>\n",
       "</div>"
      ],
      "text/plain": [
       "             0     1\n",
       "0      1000000     0\n",
       "1      1000001     1\n",
       "2      1000002     2\n",
       "3      1000003     3\n",
       "4      1000004     4\n",
       "...        ...   ...\n",
       "15279  2010714  1562\n",
       "15280  2010715  2456\n",
       "15281  2010716  4329\n",
       "15282  2010717  1562\n",
       "15283  2010718  1562\n",
       "\n",
       "[15080 rows x 2 columns]"
      ]
     },
     "execution_count": 131,
     "metadata": {},
     "output_type": "execute_result"
    }
   ],
   "source": [
    "ofdob.drop_duplicates()"
   ]
  },
  {
   "cell_type": "code",
   "execution_count": 117,
   "id": "70fe6da2",
   "metadata": {},
   "outputs": [
    {
     "data": {
      "text/html": [
       "<div>\n",
       "<style scoped>\n",
       "    .dataframe tbody tr th:only-of-type {\n",
       "        vertical-align: middle;\n",
       "    }\n",
       "\n",
       "    .dataframe tbody tr th {\n",
       "        vertical-align: top;\n",
       "    }\n",
       "\n",
       "    .dataframe thead th {\n",
       "        text-align: right;\n",
       "    }\n",
       "</style>\n",
       "<table border=\"1\" class=\"dataframe\">\n",
       "  <thead>\n",
       "    <tr style=\"text-align: right;\">\n",
       "      <th></th>\n",
       "      <th>0</th>\n",
       "      <th>1</th>\n",
       "    </tr>\n",
       "  </thead>\n",
       "  <tbody>\n",
       "    <tr>\n",
       "      <th>0</th>\n",
       "      <td>1000000</td>\n",
       "      <td>https://www.worldfootball.net/player_summary/s...</td>\n",
       "    </tr>\n",
       "    <tr>\n",
       "      <th>1</th>\n",
       "      <td>1000001</td>\n",
       "      <td>https://www.worldfootball.net/player_summary/d...</td>\n",
       "    </tr>\n",
       "    <tr>\n",
       "      <th>2</th>\n",
       "      <td>1000002</td>\n",
       "      <td>https://www.worldfootball.net/player_summary/t...</td>\n",
       "    </tr>\n",
       "    <tr>\n",
       "      <th>3</th>\n",
       "      <td>1000003</td>\n",
       "      <td>https://www.worldfootball.net/player_summary/l...</td>\n",
       "    </tr>\n",
       "    <tr>\n",
       "      <th>4</th>\n",
       "      <td>1000004</td>\n",
       "      <td>https://www.worldfootball.net/player_summary/p...</td>\n",
       "    </tr>\n",
       "    <tr>\n",
       "      <th>...</th>\n",
       "      <td>...</td>\n",
       "      <td>...</td>\n",
       "    </tr>\n",
       "    <tr>\n",
       "      <th>15075</th>\n",
       "      <td>2010714</td>\n",
       "      <td>https://www.whoscored.com/Players/357131/Show/...</td>\n",
       "    </tr>\n",
       "    <tr>\n",
       "      <th>15076</th>\n",
       "      <td>2010715</td>\n",
       "      <td>https://www.whoscored.com/Players/358777/Show/...</td>\n",
       "    </tr>\n",
       "    <tr>\n",
       "      <th>15077</th>\n",
       "      <td>2010716</td>\n",
       "      <td>https://www.whoscored.com/Players/375312/Show/...</td>\n",
       "    </tr>\n",
       "    <tr>\n",
       "      <th>15078</th>\n",
       "      <td>2010717</td>\n",
       "      <td>https://www.whoscored.com/Players/376166/Show/...</td>\n",
       "    </tr>\n",
       "    <tr>\n",
       "      <th>15079</th>\n",
       "      <td>2010718</td>\n",
       "      <td>https://www.whoscored.com/Players/363440/Show/...</td>\n",
       "    </tr>\n",
       "  </tbody>\n",
       "</table>\n",
       "<p>15080 rows × 2 columns</p>\n",
       "</div>"
      ],
      "text/plain": [
       "             0                                                  1\n",
       "0      1000000  https://www.worldfootball.net/player_summary/s...\n",
       "1      1000001  https://www.worldfootball.net/player_summary/d...\n",
       "2      1000002  https://www.worldfootball.net/player_summary/t...\n",
       "3      1000003  https://www.worldfootball.net/player_summary/l...\n",
       "4      1000004  https://www.worldfootball.net/player_summary/p...\n",
       "...        ...                                                ...\n",
       "15075  2010714  https://www.whoscored.com/Players/357131/Show/...\n",
       "15076  2010715  https://www.whoscored.com/Players/358777/Show/...\n",
       "15077  2010716  https://www.whoscored.com/Players/375312/Show/...\n",
       "15078  2010717  https://www.whoscored.com/Players/376166/Show/...\n",
       "15079  2010718  https://www.whoscored.com/Players/363440/Show/...\n",
       "\n",
       "[15080 rows x 2 columns]"
      ]
     },
     "execution_count": 117,
     "metadata": {},
     "output_type": "execute_result"
    }
   ],
   "source": [
    "pd.read_csv(\"PSL_data/playerName_obs.txt\", header = None, sep =\"\\t\")\n"
   ]
  },
  {
   "cell_type": "code",
   "execution_count": 121,
   "id": "82255112",
   "metadata": {},
   "outputs": [
    {
     "data": {
      "text/html": [
       "<div>\n",
       "<style scoped>\n",
       "    .dataframe tbody tr th:only-of-type {\n",
       "        vertical-align: middle;\n",
       "    }\n",
       "\n",
       "    .dataframe tbody tr th {\n",
       "        vertical-align: top;\n",
       "    }\n",
       "\n",
       "    .dataframe thead th {\n",
       "        text-align: right;\n",
       "    }\n",
       "</style>\n",
       "<table border=\"1\" class=\"dataframe\">\n",
       "  <thead>\n",
       "    <tr style=\"text-align: right;\">\n",
       "      <th></th>\n",
       "      <th>0</th>\n",
       "      <th>1</th>\n",
       "    </tr>\n",
       "  </thead>\n",
       "  <tbody>\n",
       "    <tr>\n",
       "      <th>0</th>\n",
       "      <td>1000000</td>\n",
       "      <td>Stephen Carr</td>\n",
       "    </tr>\n",
       "    <tr>\n",
       "      <th>1</th>\n",
       "      <td>1000001</td>\n",
       "      <td>David Carney</td>\n",
       "    </tr>\n",
       "    <tr>\n",
       "      <th>2</th>\n",
       "      <td>1000002</td>\n",
       "      <td>Tim Flowers</td>\n",
       "    </tr>\n",
       "    <tr>\n",
       "      <th>3</th>\n",
       "      <td>1000003</td>\n",
       "      <td>Lee Carsley</td>\n",
       "    </tr>\n",
       "    <tr>\n",
       "      <th>4</th>\n",
       "      <td>1000004</td>\n",
       "      <td>Patrice Carteron</td>\n",
       "    </tr>\n",
       "    <tr>\n",
       "      <th>...</th>\n",
       "      <td>...</td>\n",
       "      <td>...</td>\n",
       "    </tr>\n",
       "    <tr>\n",
       "      <th>15284</th>\n",
       "      <td>2010718</td>\n",
       "      <td>George Wickens</td>\n",
       "    </tr>\n",
       "    <tr>\n",
       "      <th>15285</th>\n",
       "      <td>2010600</td>\n",
       "      <td>Thiago Silva</td>\n",
       "    </tr>\n",
       "    <tr>\n",
       "      <th>15286</th>\n",
       "      <td>2010707</td>\n",
       "      <td>Thiago Silva</td>\n",
       "    </tr>\n",
       "    <tr>\n",
       "      <th>15287</th>\n",
       "      <td>2010712</td>\n",
       "      <td>Thiago Silva</td>\n",
       "    </tr>\n",
       "    <tr>\n",
       "      <th>15288</th>\n",
       "      <td>2006842</td>\n",
       "      <td>Willian José</td>\n",
       "    </tr>\n",
       "  </tbody>\n",
       "</table>\n",
       "<p>15289 rows × 2 columns</p>\n",
       "</div>"
      ],
      "text/plain": [
       "             0                 1\n",
       "0      1000000      Stephen Carr\n",
       "1      1000001      David Carney\n",
       "2      1000002       Tim Flowers\n",
       "3      1000003       Lee Carsley\n",
       "4      1000004  Patrice Carteron\n",
       "...        ...               ...\n",
       "15284  2010718    George Wickens\n",
       "15285  2010600      Thiago Silva\n",
       "15286  2010707      Thiago Silva\n",
       "15287  2010712      Thiago Silva\n",
       "15288  2006842      Willian José\n",
       "\n",
       "[15289 rows x 2 columns]"
      ]
     },
     "execution_count": 121,
     "metadata": {},
     "output_type": "execute_result"
    }
   ],
   "source": [
    "pd.read_csv(\"PSL_data/playerBlock_obs.txt\", header = None, sep =\"\\t\")\n"
   ]
  },
  {
   "cell_type": "code",
   "execution_count": 128,
   "id": "e2de9a21",
   "metadata": {},
   "outputs": [
    {
     "data": {
      "text/plain": [
       "'https://www.whoscored.com/Players/77308/Show/Fabio-Silva'"
      ]
     },
     "execution_count": 128,
     "metadata": {},
     "output_type": "execute_result"
    }
   ],
   "source": [
    "id2player[2004159]"
   ]
  },
  {
   "cell_type": "code",
   "execution_count": 127,
   "id": "91d7b383",
   "metadata": {},
   "outputs": [
    {
     "data": {
      "text/plain": [
       "19830913"
      ]
     },
     "execution_count": 127,
     "metadata": {},
     "output_type": "execute_result"
    }
   ],
   "source": [
    "birth_id2birth[1105]"
   ]
  },
  {
   "cell_type": "code",
   "execution_count": 58,
   "id": "26cf63d0",
   "metadata": {},
   "outputs": [],
   "source": [
    "##simName_obs.txt\n",
    "with open(\"PSL_data/samePlayer_target_obs.txt\", \"r\") as f:\n",
    "    targets = f.read()"
   ]
  },
  {
   "cell_type": "code",
   "execution_count": 61,
   "id": "cbdbb00d",
   "metadata": {},
   "outputs": [
    {
     "data": {
      "text/plain": [
       "'https://www.whoscored.com/Players/265/Show/Lauren'"
      ]
     },
     "execution_count": 61,
     "metadata": {},
     "output_type": "execute_result"
    }
   ],
   "source": [
    "id2player[2000256]"
   ]
  },
  {
   "cell_type": "code",
   "execution_count": 62,
   "id": "dff97b22",
   "metadata": {},
   "outputs": [
    {
     "data": {
      "text/plain": [
       "'https://www.whoscored.com/Players/350282/Show/Lauren-Luke-Junior'"
      ]
     },
     "execution_count": 62,
     "metadata": {},
     "output_type": "execute_result"
    }
   ],
   "source": [
    "id2player[2000263]"
   ]
  },
  {
   "cell_type": "code",
   "execution_count": null,
   "id": "f0f68496",
   "metadata": {},
   "outputs": [],
   "source": []
  }
 ],
 "metadata": {
  "kernelspec": {
   "display_name": "Python 3",
   "language": "python",
   "name": "python3"
  },
  "language_info": {
   "codemirror_mode": {
    "name": "ipython",
    "version": 3
   },
   "file_extension": ".py",
   "mimetype": "text/x-python",
   "name": "python",
   "nbconvert_exporter": "python",
   "pygments_lexer": "ipython3",
   "version": "3.7.7"
  }
 },
 "nbformat": 4,
 "nbformat_minor": 5
}
