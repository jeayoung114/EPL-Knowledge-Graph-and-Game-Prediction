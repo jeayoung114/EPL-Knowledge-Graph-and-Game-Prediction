{
 "cells": [
  {
   "cell_type": "code",
   "execution_count": 1,
   "id": "2b4ffd5f",
   "metadata": {},
   "outputs": [],
   "source": [
    "import pandas as pd\n",
    "import json\n",
    "import fileinput\n",
    "import re\n",
    "import time\n",
    "from bs4 import BeautifulSoup as Soup\n",
    "from selenium import webdriver\n",
    "import time\n",
    "import re\n",
    "from tqdm import tqdm\n",
    "from selenium import webdriver\n",
    "from webdriver_manager.chrome import ChromeDriverManager\n",
    "\n",
    "from selenium.webdriver.common.by import By\n",
    "from selenium.webdriver.support.ui import WebDriverWait\n",
    "from selenium.webdriver.support import expected_conditions as EC\n",
    "\n",
    "\n",
    "from selenium.webdriver.support.ui import Select"
   ]
  },
  {
   "cell_type": "code",
   "execution_count": 145,
   "id": "e8710dfe",
   "metadata": {},
   "outputs": [],
   "source": [
    "tot_player_url = []\n",
    "tot_team_url = []"
   ]
  },
  {
   "cell_type": "code",
   "execution_count": 4,
   "id": "f3f559e0",
   "metadata": {},
   "outputs": [],
   "source": [
    "def to0(x):\n",
    "    if x == \"-\":\n",
    "        return 0\n",
    "    return x"
   ]
  },
  {
   "cell_type": "code",
   "execution_count": 155,
   "id": "e7e66a45",
   "metadata": {
    "scrolled": true
   },
   "outputs": [
    {
     "name": "stderr",
     "output_type": "stream",
     "text": [
      "\n",
      "\n",
      "====== WebDriver manager ======\n",
      "Current google-chrome version is 96.0.4664\n",
      "Get LATEST chromedriver version for 96.0.4664 google-chrome\n"
     ]
    },
    {
     "name": "stdout",
     "output_type": "stream",
     "text": [
      "CPU times: user 3 µs, sys: 1e+03 ns, total: 4 µs\n",
      "Wall time: 7.87 µs\n"
     ]
    },
    {
     "name": "stderr",
     "output_type": "stream",
     "text": [
      "Driver [/Users/jaeyoungkim/.wdm/drivers/chromedriver/mac64/96.0.4664.45/chromedriver] found in cache\n"
     ]
    }
   ],
   "source": [
    "%time\n",
    "start_url = \"https://www.whoscored.com/Regions/252/Tournaments/2/England-Premier-League\"\n",
    "\n",
    "start_time = time.time()\n",
    "driver = webdriver.Chrome(ChromeDriverManager().install())\n",
    "with open(\"player_whoscored.jl\", 'a') as f:\n",
    "    # time.sleep(1)\n",
    "    driver.get(start_url)\n",
    "    seasons = [str(i) + \"/\" + str(i+1) for i in range(2014, 2021)]\n",
    "    # season = seasons[0]\n",
    "    for season in seasons:\n",
    "            sel = Select(driver.find_element_by_xpath(\"//select[@name='seasons']\"))\n",
    "            sel.select_by_visible_text(season)\n",
    "\n",
    "#             time.sleep(10)\n",
    "#             buttons = driver.find_elements_by_xpath(\"//*[contains(text(), 'Player Statistics')]\")\n",
    "            WebDriverWait(driver, 10).until(EC.element_to_be_clickable((By.XPATH, \"//*[contains(text(), 'Player Statistics')]\"))).click()\n",
    "#             buttons[0].click()\n",
    "#             time.sleep(10)\n",
    "            \n",
    "#             buttons = driver.find_elements_by_xpath(\"//*[contains(text(), 'All players')]\")\n",
    "            WebDriverWait(driver, 10).until(EC.element_to_be_clickable((By.XPATH, \"//*[contains(text(), 'All players')]\"))).click()\n",
    "#             buttons[0].click()\n",
    "#             time.sleep(10)\n",
    "            page = Soup(driver.page_source, features='html.parser')\n",
    "\n",
    "\n",
    "            while True:\n",
    "                time.sleep(1)\n",
    "                page = Soup(driver.page_source, features='html.parser')\n",
    "                players = page.find_all(\"table\")[0].find_all(\"tr\")[1:]\n",
    "                for player in players:\n",
    "                    res_dict = dict()\n",
    "                    res_dict[\"season\"] = season\n",
    "                    tmp = [to0(i) for i in player.get_text(separator = \"\\t\").split(\"\\t\") if i != \"\" and i != \" \"]\n",
    "                    a1, name, team, age, position, a3, a4, a5,a6, Apps, Mins, Goals, Assists, yel, red, SpG, Pass_per, AerialsWon, MotM, Rating   = tmp\n",
    "                    res_dict[\"name\"] = name\n",
    "                    res_dict[\"player_url\"] = 'https://www.whoscored.com' + player.find(\"a\")[\"href\"]\n",
    "                    tot_player_url.append('https://www.whoscored.com' + player.find(\"a\")[\"href\"])\n",
    "                    tot_team_url.append('https://www.whoscored.com' + player.find_all(\"a\")[1][\"href\"])\n",
    "                    res_dict[\"team\"] = team\n",
    "                    res_dict[\"team_url\"] = 'https://www.whoscored.com' + player.find_all(\"a\")[1][\"href\"]\n",
    "                    res_dict[\"age\"] = age\n",
    "                    res_dict[\"position\"] = position\n",
    "                    res_dict[\"Apps\"] = Apps\n",
    "                    res_dict[\"Mins\"] = Mins\n",
    "                    res_dict[\"Goals\"] = Goals\n",
    "                    res_dict[\"Assists\"] = Assists\n",
    "                    res_dict[\"yel\"] = yel\n",
    "                    res_dict[\"red\"] = red\n",
    "                    res_dict[\"SpG\"] = SpG\n",
    "                    res_dict[\"Pass_per\"] = Pass_per\n",
    "                    res_dict[\"AerialsWon\"] = AerialsWon\n",
    "                    res_dict[\"MotM\"] = MotM\n",
    "                    res_dict[\"Rating\"] = Rating\n",
    "                    f.write(json.dumps(res_dict) +'\\n')\n",
    "                #######\n",
    "                try :\n",
    "                    WebDriverWait(driver, 10).until(EC.element_to_be_clickable((By.XPATH, \"//a[@id='next' and @class='option  clickable ']\"))).click()\n",
    "                except :\n",
    "                    a = 1\n",
    "                    break\n",
    "\n",
    "\n",
    "\n",
    "\n",
    "    # driver.find_elements_by_xpath(\"//select[@class='Player Statistics']\")[0].click()\n"
   ]
  },
  {
   "cell_type": "code",
   "execution_count": 158,
   "id": "049e787e",
   "metadata": {},
   "outputs": [
    {
     "data": {
      "text/plain": [
       "2157"
      ]
     },
     "execution_count": 158,
     "metadata": {},
     "output_type": "execute_result"
    }
   ],
   "source": [
    "len(set(tot_player_url))"
   ]
  },
  {
   "cell_type": "code",
   "execution_count": null,
   "id": "2177425b",
   "metadata": {},
   "outputs": [],
   "source": []
  },
  {
   "cell_type": "code",
   "execution_count": null,
   "id": "2c309ac1",
   "metadata": {},
   "outputs": [],
   "source": []
  },
  {
   "cell_type": "code",
   "execution_count": null,
   "id": "f2e981a6",
   "metadata": {},
   "outputs": [],
   "source": []
  },
  {
   "cell_type": "code",
   "execution_count": 254,
   "id": "122129be",
   "metadata": {},
   "outputs": [],
   "source": [
    "total_player_link = []"
   ]
  },
  {
   "cell_type": "code",
   "execution_count": 2,
   "id": "01533b0e",
   "metadata": {
    "scrolled": true
   },
   "outputs": [
    {
     "ename": "SyntaxError",
     "evalue": "invalid syntax (3470798577.py, line 68)",
     "output_type": "error",
     "traceback": [
      "\u001b[0;36m  File \u001b[0;32m\"/var/folders/27/fcv785895zb4wczv3dzgn3gh0000gn/T/ipykernel_50686/3470798577.py\"\u001b[0;36m, line \u001b[0;32m68\u001b[0m\n\u001b[0;31m    `````````````\u001b[0m\n\u001b[0m    ^\u001b[0m\n\u001b[0;31mSyntaxError\u001b[0m\u001b[0;31m:\u001b[0m invalid syntax\n"
     ]
    }
   ],
   "source": [
    "%time\n",
    "\n",
    "total_search_link = set(tot_player_url)\n",
    "\n",
    "with open('player_info_whoscored.jl', 'a') as f:\n",
    "    start_time = time.time()\n",
    "    driver = webdriver.Chrome(ChromeDriverManager().install())\n",
    "    for url in tqdm(total_search_link):\n",
    "        time.sleep(1)\n",
    "        driver.get(url)\n",
    "        page = Soup(driver.page_source, features='html.parser')\n",
    "        \n",
    "        links = []\n",
    "        try:\n",
    "            for link in page.table.find_all('a'):\n",
    "                links.append(link.get('href'))\n",
    "            links = [\"https://www.whoscored.com\" + i for i in links if \"Players\" in i]\n",
    "        except:\n",
    "            continue\n",
    "\n",
    "        for link in links:\n",
    "            res_dict = dict()\n",
    "#             res_dict[\"player_block\"] = name\n",
    "            res_dict[\"player_url\"] = link\n",
    "            driver.get(link)\n",
    "\n",
    "            page = Soup(driver.page_source, features='html.parser')\n",
    "            ## summary\n",
    "            table = page.find('div', 'col12-lg-10 col12-m-10 col12-s-9 col12-xs-8')\n",
    "\n",
    "            tmp = [i.split(\":\") for i in table.text.split(\"\\n\") if i != \"\" and i !=  '        ']\n",
    "\n",
    "            flatten_list = [j.strip() for sub in tmp for j in sub]\n",
    "\n",
    "            flatten_list = [i for i in flatten_list if i != \"\"]\n",
    "\n",
    "            key_list = [\"Name\", \"Current Team\", \"Shirt Number\", \"Age\", \"Height\", \"Nationality\", \"Positions\"]\n",
    "            for i in flatten_list:\n",
    "                if i in key_list:\n",
    "                    key = i\n",
    "                elif i != '':\n",
    "                    res_dict[key] = i\n",
    "\n",
    "\n",
    "            ## weak strong\n",
    "            \n",
    "            table = page.find(\"div\", \"sws-content character-card singular\")\n",
    "            try:\n",
    "                character = table.text.split(\"\\n\\n\")\n",
    "            except:\n",
    "                f.write(json.dumps(res_dict) +'\\n')\n",
    "                continue\n",
    "\n",
    "            strong = []\n",
    "            weak = []\n",
    "            play_style = []\n",
    "            for i in character:\n",
    "                if \".com\" not in i and \"Style of Play\" not in i and \"Strengths\" not in i and \"Weaknesses\" not in i and i != \"\":\n",
    "                    if \"Strong\" in i:\n",
    "                        strong.append(i.strip())\n",
    "                    elif \"Weak\" in i:\n",
    "                        weak.append(i.strip())\n",
    "                    else:\n",
    "                        play_style.append(i.strip())\n",
    "\n",
    "\n",
    "            strong = [i.split(\"\\n\")[0] for i in strong]\n",
    "            weak = [i.split(\"\\n\")[0] for i in weak]\n",
    "\n",
    "            res_dict[\"Strengths\"] = strong\n",
    "            res_dict[\"Weaknesses\"] = weak\n",
    "            res_dict[\"Style_of_Play\"] = play_style\n",
    "            \n",
    "            f.write(json.dumps(res_dict) +'\\n')\n",
    "            "
   ]
  },
  {
   "cell_type": "markdown",
   "id": "e703a2ef",
   "metadata": {},
   "source": [
    "## Team Crawl"
   ]
  },
  {
   "cell_type": "code",
   "execution_count": 14,
   "id": "a4ee9aff",
   "metadata": {},
   "outputs": [
    {
     "name": "stderr",
     "output_type": "stream",
     "text": [
      "\n",
      "\n",
      "====== WebDriver manager ======\n",
      "Current google-chrome version is 96.0.4664\n",
      "Get LATEST chromedriver version for 96.0.4664 google-chrome\n",
      "Driver [/Users/jaeyoungkim/.wdm/drivers/chromedriver/mac64/96.0.4664.45/chromedriver] found in cache\n"
     ]
    },
    {
     "name": "stdout",
     "output_type": "stream",
     "text": [
      "CPU times: user 3 µs, sys: 1 µs, total: 4 µs\n",
      "Wall time: 8.34 µs\n"
     ]
    }
   ],
   "source": [
    "%time\n",
    "start_url = \"https://www.whoscored.com/Regions/252/Tournaments/2/England-Premier-League\"\n",
    "\n",
    "start_time = time.time()\n",
    "driver = webdriver.Chrome(ChromeDriverManager().install())\n",
    "with open(\"team_whoscored.jl\", 'a') as f:\n",
    "    # time.sleep(1)\n",
    "    driver.get(start_url)\n",
    "    seasons = [str(i) + \"/\" + str(i+1) for i in range(2009, 2021)]\n",
    "    # season = seasons[0]\n",
    "    for season in seasons:\n",
    "            sel = Select(driver.find_element_by_xpath(\"//select[@name='seasons']\"))\n",
    "            sel.select_by_visible_text(season)\n",
    "\n",
    "\n",
    "            WebDriverWait(driver, 10).until(EC.element_to_be_clickable((By.XPATH, \"//*[contains(text(), 'Team Statistics')]\"))).click()\n",
    "            time.sleep(3)\n",
    "            page = Soup(driver.page_source, features='html.parser')\n",
    "            teams = page.find_all(\"table\")[0].find_all(\"tr\")[1:]\n",
    "            for team in teams:\n",
    "                res_dict = dict()\n",
    "                res_dict[\"season\"] = season\n",
    "                tmp = [to0(i) for i in team.get_text(separator = \"\\t\").split(\"\\t\") if i != \"\" and i != \" \"]\n",
    "                team_name, goals, shots_per_game, yellow, red, possessions_per, pass_per, Aerialswon, Rating   = tmp\n",
    "                res_dict[\"name\"] = team_name.split(\". \")[1]\n",
    "                res_dict[\"goals\"] = goals\n",
    "                res_dict[\"team_url\"] = 'https://www.whoscored.com' + team.find(\"a\")[\"href\"]\n",
    "                res_dict[\"shots_per_game\"] = shots_per_game\n",
    "                res_dict[\"yellow\"] = yellow\n",
    "                res_dict[\"red\"] = red\n",
    "                res_dict[\"possessions_per\"] = possessions_per\n",
    "                res_dict[\"pass_per\"] = pass_per\n",
    "                res_dict[\"Aerialswon\"] = Aerialswon\n",
    "                res_dict[\"Rating\"] = Rating\n",
    "                f.write(json.dumps(res_dict) +'\\n')\n"
   ]
  },
  {
   "cell_type": "code",
   "execution_count": 9,
   "id": "6ee07e53",
   "metadata": {},
   "outputs": [
    {
     "data": {
      "text/plain": [
       "'/Teams/15/Show/England-Chelsea'"
      ]
     },
     "execution_count": 9,
     "metadata": {},
     "output_type": "execute_result"
    }
   ],
   "source": [
    "team.find(\"a\")[\"href\"]"
   ]
  },
  {
   "cell_type": "code",
   "execution_count": null,
   "id": "3d0220fe",
   "metadata": {},
   "outputs": [],
   "source": []
  },
  {
   "cell_type": "code",
   "execution_count": null,
   "id": "412e2825",
   "metadata": {},
   "outputs": [],
   "source": []
  },
  {
   "cell_type": "markdown",
   "id": "4de1edaf",
   "metadata": {},
   "source": [
    "## Game crawl"
   ]
  },
  {
   "cell_type": "code",
   "execution_count": 104,
   "id": "4dc7e833",
   "metadata": {},
   "outputs": [
    {
     "name": "stderr",
     "output_type": "stream",
     "text": [
      "100%|███████████████████████████████████████████| 22/22 [31:30<00:00, 85.95s/it]"
     ]
    },
    {
     "name": "stdout",
     "output_type": "stream",
     "text": [
      "Completed!!\n",
      "Time consumed :  1911.4299278259277\n"
     ]
    },
    {
     "name": "stderr",
     "output_type": "stream",
     "text": [
      "\n"
     ]
    }
   ],
   "source": [
    "start_time = time.time()\n",
    "\n",
    "## collect all game urls\n",
    "game_urls = []\n",
    "driver = webdriver.Chrome(executable_path='/Users/jaeyoungkim/Desktop/usc/DSCI - 558/project/Untitled Folder/chromedriver')\n",
    "\n",
    "driver.get(\"https://www.whoscored.com/Regions/252/Tournaments/2/Seasons/3853/England-Premier-League\")\n",
    "\n",
    "page = Soup(driver.page_source, features='html.parser')\n",
    "game_urls = []\n",
    "season_list = [str(2000+i) + \"/\" + str(2000+i+1) for i in range(22)]\n",
    "\n",
    "## for all season\n",
    "for season in tqdm(season_list):\n",
    "    select = Select(driver.find_element_by_id('seasons'))\n",
    "\n",
    "    select.select_by_visible_text(season)\n",
    "\n",
    "\n",
    "\n",
    "\n",
    "\n",
    "    ### crawl all game url of season\n",
    "    while True:\n",
    "        page = Soup(driver.page_source, features='html.parser')\n",
    "\n",
    "        table = page.find_all(\"a\", 'stacked-match-link result-1')\n",
    "        for i in table:\n",
    "            game_urls.append(i.get(\"href\"))\n",
    "        time.sleep(2)\n",
    "        try:\n",
    "            button = driver.find_element_by_css_selector(\"div[class='option-datepicker'] a[class='previous button ui-state-default rc-l is-default']\")\n",
    "            button.click()\n",
    "\n",
    "\n",
    "        except:\n",
    "            break\n",
    "\n",
    "print(\"Completed!!\")\n",
    "print(\"Time consumed : \", time.time() - start_time)\n"
   ]
  },
  {
   "cell_type": "code",
   "execution_count": 106,
   "id": "8d768225",
   "metadata": {},
   "outputs": [
    {
     "data": {
      "text/plain": [
       "8135"
      ]
     },
     "execution_count": 106,
     "metadata": {},
     "output_type": "execute_result"
    }
   ],
   "source": [
    "len(game_urls)"
   ]
  },
  {
   "cell_type": "code",
   "execution_count": 105,
   "id": "4fef25ec",
   "metadata": {},
   "outputs": [],
   "source": [
    "textfile = open(\"game_urls.txt\", \"w\")\n",
    "for element in game_urls:\n",
    "    textfile.write(element + \"\\n\")\n",
    "textfile.close()"
   ]
  },
  {
   "cell_type": "code",
   "execution_count": 506,
   "id": "bb35f5e9",
   "metadata": {},
   "outputs": [],
   "source": [
    "with open(\"game_urls.txt\", \"r\") as f:\n",
    "    game_urls = f.read()\n",
    "\n",
    "game_urls = game_urls.split(\"\\n\")\n",
    "\n",
    "game_urls = game_urls[:-1]"
   ]
  },
  {
   "cell_type": "code",
   "execution_count": 793,
   "id": "1f909963",
   "metadata": {},
   "outputs": [
    {
     "data": {
      "text/plain": [
       "'2000'"
      ]
     },
     "execution_count": 793,
     "metadata": {},
     "output_type": "execute_result"
    }
   ],
   "source": [
    "url.split(\"-\")[3]"
   ]
  },
  {
   "cell_type": "code",
   "execution_count": 795,
   "id": "46749810",
   "metadata": {
    "scrolled": true
   },
   "outputs": [
    {
     "name": "stderr",
     "output_type": "stream",
     "text": [
      "100%|████████████████████████████████████| 8135/8135 [13:25:35<00:00,  5.94s/it]\n"
     ]
    }
   ],
   "source": [
    "start_time = time.time()\n",
    "\n",
    "driver = webdriver.Chrome(executable_path='/Users/jaeyoungkim/Desktop/usc/DSCI - 558/project/Untitled Folder/chromedriver')\n",
    "\n",
    "# driver.get(\"https://www.whoscored.com/Matches/34119/Show/England-Premier-League-2001-2002-Chelsea-Aston-Villa\")\n",
    "with open(\"games_whoscored.jl\", \"w\") as f:\n",
    "    for url in tqdm(game_urls):\n",
    "        if int(url.split(\"-\")[3]) > 2009:\n",
    "            res_dict = dict()\n",
    "        # driver.get(\"https://www.whoscored.com/Matches/1549539/Preview/England-Premier-League-2021-2022-Brentford-Arsenal\")\n",
    "            driver.get(\"https://www.whoscored.com\" + url)\n",
    "            try:\n",
    "                driver.find_element_by_xpath('//a[text()=\"Preview\"]').click()\n",
    "                time.sleep(2)\n",
    "                page = Soup(driver.page_source, features='html.parser')\n",
    "\n",
    "                res_dict = dict()\n",
    "                res_dict[\"game_url\"] =\"https://www.whoscored.com\" + url\n",
    "                res_dict[\"season\"] = url.split(\"-\")[3] + \"/\" + url.split(\"-\")[4]\n",
    "\n",
    "\n",
    "\n",
    "                tmp1 = page.title.text.strip().split(\"-\")\n",
    "                home_team = tmp1[0][:-2]\n",
    "                away_team = tmp1[1][2:]\n",
    "                season = tmp1[2].split(\" \")[3]\n",
    "                res_dict[\"home_team\"] = home_team\n",
    "                res_dict[\"away_tema\"] = away_team\n",
    "                res_dict[\"score\"] = score\n",
    "                res_dict['season'] = season\n",
    "\n",
    "                tmp = page.find_all(\"div\", \"info-block cleared\")[-1]\n",
    "                tmp = tmp.find_all(\"dd\")\n",
    "                tmp = [i.text for i in tmp]\n",
    "\n",
    "                kickoff = tmp[0]\n",
    "                date = tmp[1]\n",
    "                res_dict[\"time\"] = kickoff\n",
    "                res_dict[\"date\"] = date\n",
    "\n",
    "                tmp = page.find_all(\"span\", \"formation-label\")\n",
    "                tmp = [i.text for i in tmp]\n",
    "                home_team_formation = tmp[0]\n",
    "                away_team_formation = tmp[1]\n",
    "                res_dict[\"home_team_formation\"] = home_team_formation\n",
    "                res_dict[\"away_team_formation\"] = away_team_formation   \n",
    "            except:\n",
    "                tmp = page.find(\"div\", \"teams-score-info\").find_all(\"span\")\n",
    "                tmp = [i.text for i in tmp]\n",
    "                home_team = tmp[0]\n",
    "                away_team = tmp[4]\n",
    "                score = tmp[2]\n",
    "                res_dict[\"home_team\"] = home_team\n",
    "                res_dict[\"away_tema\"] = away_team\n",
    "                res_dict[\"score\"] = score\n",
    "\n",
    "                tmp = page.find_all(\"div\", \"info-block cleared\")[-1]\n",
    "                tmp = tmp.find_all(\"dd\")\n",
    "                tmp = [i.text for i in tmp]\n",
    "\n",
    "                kickoff = tmp[0]\n",
    "                date = tmp[1]\n",
    "                res_dict[\"time\"] = kickoff\n",
    "                res_dict[\"date\"] = date\n",
    "                try:\n",
    "                    tmp = page.find_all(\"span\", \"formation-label\")\n",
    "                    tmp = [i.text for i in tmp]\n",
    "                    home_team_formation = tmp[0]\n",
    "                    away_team_formation = tmp[1]\n",
    "                    res_dict[\"home_team_formation\"] = home_team_formation\n",
    "                    res_dict[\"away_team_formation\"] = away_team_formation\n",
    "                except:\n",
    "                    a = 1\n",
    "\n",
    "            try:\n",
    "                driver.find_element_by_xpath('//a[text()=\"Head to Head\"]').click()\n",
    "            except:\n",
    "                continue\n",
    "            try:\n",
    "                driver.find_element_by_xpath('//a[text()=\"Player Statistics\"]').click()\n",
    "            except:\n",
    "                continue\n",
    "            time.sleep(2)\n",
    "            page = Soup(driver.page_source, features='html.parser')\n",
    "            home_team_players = json.loads(str(page).split(\"homePlayers\")[1].split(\"awayPlayers\")[0][14:-16])\n",
    "            away_team_players = json.loads(str(page).split(\"homePlayers\")[1].split(\"awayPlayers\")[1].split(\"\\')\\n        };\\n\")[0][14:])\n",
    "\n",
    "            res_dict[\"home_team_players\"] = home_team_players\n",
    "            res_dict[\"away_team_players\"] = away_team_players\n",
    "            f.write(json.dumps(res_dict))\n",
    "\n"
   ]
  }
 ],
 "metadata": {
  "kernelspec": {
   "display_name": "Python 3",
   "language": "python",
   "name": "python3"
  },
  "language_info": {
   "codemirror_mode": {
    "name": "ipython",
    "version": 3
   },
   "file_extension": ".py",
   "mimetype": "text/x-python",
   "name": "python",
   "nbconvert_exporter": "python",
   "pygments_lexer": "ipython3",
   "version": "3.7.7"
  }
 },
 "nbformat": 4,
 "nbformat_minor": 5
}
