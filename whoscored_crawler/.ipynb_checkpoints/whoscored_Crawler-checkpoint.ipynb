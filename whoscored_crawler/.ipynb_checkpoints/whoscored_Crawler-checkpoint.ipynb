{
 "cells": [
  {
   "cell_type": "code",
   "execution_count": 1,
   "id": "2b4ffd5f",
   "metadata": {},
   "outputs": [],
   "source": [
    "import pandas as pd\n",
    "import json\n",
    "import fileinput\n",
    "import re\n",
    "import time\n",
    "from bs4 import BeautifulSoup as Soup\n",
    "from selenium import webdriver\n",
    "import time\n",
    "import re\n",
    "from tqdm import tqdm\n",
    "from selenium import webdriver\n",
    "from webdriver_manager.chrome import ChromeDriverManager\n",
    "\n",
    "from selenium.webdriver.common.by import By\n",
    "from selenium.webdriver.support.ui import WebDriverWait\n",
    "from selenium.webdriver.support import expected_conditions as EC\n",
    "\n",
    "\n",
    "from selenium.webdriver.support.ui import Select"
   ]
  },
  {
   "cell_type": "code",
   "execution_count": 145,
   "id": "e8710dfe",
   "metadata": {},
   "outputs": [],
   "source": [
    "tot_player_url = []\n",
    "tot_team_url = []"
   ]
  },
  {
   "cell_type": "code",
   "execution_count": 4,
   "id": "f3f559e0",
   "metadata": {},
   "outputs": [],
   "source": [
    "def to0(x):\n",
    "    if x == \"-\":\n",
    "        return 0\n",
    "    return x"
   ]
  },
  {
   "cell_type": "code",
   "execution_count": 155,
   "id": "e7e66a45",
   "metadata": {
    "scrolled": true
   },
   "outputs": [
    {
     "name": "stderr",
     "output_type": "stream",
     "text": [
      "\n",
      "\n",
      "====== WebDriver manager ======\n",
      "Current google-chrome version is 96.0.4664\n",
      "Get LATEST chromedriver version for 96.0.4664 google-chrome\n"
     ]
    },
    {
     "name": "stdout",
     "output_type": "stream",
     "text": [
      "CPU times: user 3 µs, sys: 1e+03 ns, total: 4 µs\n",
      "Wall time: 7.87 µs\n"
     ]
    },
    {
     "name": "stderr",
     "output_type": "stream",
     "text": [
      "Driver [/Users/jaeyoungkim/.wdm/drivers/chromedriver/mac64/96.0.4664.45/chromedriver] found in cache\n"
     ]
    }
   ],
   "source": [
    "%time\n",
    "start_url = \"https://www.whoscored.com/Regions/252/Tournaments/2/England-Premier-League\"\n",
    "\n",
    "start_time = time.time()\n",
    "driver = webdriver.Chrome(ChromeDriverManager().install())\n",
    "with open(\"player_whoscored.jl\", 'a') as f:\n",
    "    # time.sleep(1)\n",
    "    driver.get(start_url)\n",
    "    seasons = [str(i) + \"/\" + str(i+1) for i in range(2014, 2021)]\n",
    "    # season = seasons[0]\n",
    "    for season in seasons:\n",
    "            sel = Select(driver.find_element_by_xpath(\"//select[@name='seasons']\"))\n",
    "            sel.select_by_visible_text(season)\n",
    "\n",
    "#             time.sleep(10)\n",
    "#             buttons = driver.find_elements_by_xpath(\"//*[contains(text(), 'Player Statistics')]\")\n",
    "            WebDriverWait(driver, 10).until(EC.element_to_be_clickable((By.XPATH, \"//*[contains(text(), 'Player Statistics')]\"))).click()\n",
    "#             buttons[0].click()\n",
    "#             time.sleep(10)\n",
    "            \n",
    "#             buttons = driver.find_elements_by_xpath(\"//*[contains(text(), 'All players')]\")\n",
    "            WebDriverWait(driver, 10).until(EC.element_to_be_clickable((By.XPATH, \"//*[contains(text(), 'All players')]\"))).click()\n",
    "#             buttons[0].click()\n",
    "#             time.sleep(10)\n",
    "            page = Soup(driver.page_source, features='html.parser')\n",
    "\n",
    "\n",
    "            while True:\n",
    "                time.sleep(1)\n",
    "                page = Soup(driver.page_source, features='html.parser')\n",
    "                players = page.find_all(\"table\")[0].find_all(\"tr\")[1:]\n",
    "                for player in players:\n",
    "                    res_dict = dict()\n",
    "                    res_dict[\"season\"] = season\n",
    "                    tmp = [to0(i) for i in player.get_text(separator = \"\\t\").split(\"\\t\") if i != \"\" and i != \" \"]\n",
    "                    a1, name, team, age, position, a3, a4, a5,a6, Apps, Mins, Goals, Assists, yel, red, SpG, Pass_per, AerialsWon, MotM, Rating   = tmp\n",
    "                    res_dict[\"name\"] = name\n",
    "                    res_dict[\"player_url\"] = 'https://www.whoscored.com' + player.find(\"a\")[\"href\"]\n",
    "                    tot_player_url.append('https://www.whoscored.com' + player.find(\"a\")[\"href\"])\n",
    "                    tot_team_url.append('https://www.whoscored.com' + player.find_all(\"a\")[1][\"href\"])\n",
    "                    res_dict[\"team\"] = team\n",
    "                    res_dict[\"team_url\"] = 'https://www.whoscored.com' + player.find_all(\"a\")[1][\"href\"]\n",
    "                    res_dict[\"age\"] = age\n",
    "                    res_dict[\"position\"] = position\n",
    "                    res_dict[\"Apps\"] = Apps\n",
    "                    res_dict[\"Mins\"] = Mins\n",
    "                    res_dict[\"Goals\"] = Goals\n",
    "                    res_dict[\"Assists\"] = Assists\n",
    "                    res_dict[\"yel\"] = yel\n",
    "                    res_dict[\"red\"] = red\n",
    "                    res_dict[\"SpG\"] = SpG\n",
    "                    res_dict[\"Pass_per\"] = Pass_per\n",
    "                    res_dict[\"AerialsWon\"] = AerialsWon\n",
    "                    res_dict[\"MotM\"] = MotM\n",
    "                    res_dict[\"Rating\"] = Rating\n",
    "                    f.write(json.dumps(res_dict) +'\\n')\n",
    "                #######\n",
    "                try :\n",
    "                    WebDriverWait(driver, 10).until(EC.element_to_be_clickable((By.XPATH, \"//a[@id='next' and @class='option  clickable ']\"))).click()\n",
    "                except :\n",
    "                    a = 1\n",
    "                    break\n",
    "\n",
    "\n",
    "\n",
    "\n",
    "    # driver.find_elements_by_xpath(\"//select[@class='Player Statistics']\")[0].click()\n"
   ]
  },
  {
   "cell_type": "code",
   "execution_count": 158,
   "id": "049e787e",
   "metadata": {},
   "outputs": [
    {
     "data": {
      "text/plain": [
       "2157"
      ]
     },
     "execution_count": 158,
     "metadata": {},
     "output_type": "execute_result"
    }
   ],
   "source": [
    "len(set(tot_player_url))"
   ]
  },
  {
   "cell_type": "code",
   "execution_count": 4,
   "id": "2177425b",
   "metadata": {},
   "outputs": [
    {
     "data": {
      "text/html": [
       "<div>\n",
       "<style scoped>\n",
       "    .dataframe tbody tr th:only-of-type {\n",
       "        vertical-align: middle;\n",
       "    }\n",
       "\n",
       "    .dataframe tbody tr th {\n",
       "        vertical-align: top;\n",
       "    }\n",
       "\n",
       "    .dataframe thead th {\n",
       "        text-align: right;\n",
       "    }\n",
       "</style>\n",
       "<table border=\"1\" class=\"dataframe\">\n",
       "  <thead>\n",
       "    <tr style=\"text-align: right;\">\n",
       "      <th></th>\n",
       "      <th>season</th>\n",
       "      <th>name</th>\n",
       "      <th>player_url</th>\n",
       "      <th>team</th>\n",
       "      <th>team_url</th>\n",
       "      <th>age</th>\n",
       "      <th>position</th>\n",
       "      <th>Apps</th>\n",
       "      <th>Mins</th>\n",
       "      <th>Goals</th>\n",
       "      <th>Assists</th>\n",
       "      <th>yel</th>\n",
       "      <th>red</th>\n",
       "      <th>SpG</th>\n",
       "      <th>Pass_per</th>\n",
       "      <th>AerialsWon</th>\n",
       "      <th>MotM</th>\n",
       "      <th>Rating</th>\n",
       "    </tr>\n",
       "  </thead>\n",
       "  <tbody>\n",
       "    <tr>\n",
       "      <th>0</th>\n",
       "      <td>2009/2010</td>\n",
       "      <td>Didier Drogba</td>\n",
       "      <td>https://www.whoscored.com/Players/4384/Show/Di...</td>\n",
       "      <td>Chelsea,</td>\n",
       "      <td>https://www.whoscored.com/Teams/15/Show/Englan...</td>\n",
       "      <td>43</td>\n",
       "      <td>,  FW</td>\n",
       "      <td>31(1)</td>\n",
       "      <td>2775</td>\n",
       "      <td>29</td>\n",
       "      <td>10</td>\n",
       "      <td>7</td>\n",
       "      <td>0.0</td>\n",
       "      <td>5.6</td>\n",
       "      <td>59.7</td>\n",
       "      <td>1.8</td>\n",
       "      <td>13</td>\n",
       "      <td>8.32</td>\n",
       "    </tr>\n",
       "    <tr>\n",
       "      <th>1</th>\n",
       "      <td>2009/2010</td>\n",
       "      <td>Cesc Fàbregas</td>\n",
       "      <td>https://www.whoscored.com/Players/8040/Show/Ce...</td>\n",
       "      <td>Arsenal,</td>\n",
       "      <td>https://www.whoscored.com/Teams/13/Show/Englan...</td>\n",
       "      <td>34</td>\n",
       "      <td>,  M(CL),FW</td>\n",
       "      <td>26(1)</td>\n",
       "      <td>2194</td>\n",
       "      <td>15</td>\n",
       "      <td>13</td>\n",
       "      <td>5</td>\n",
       "      <td>0.0</td>\n",
       "      <td>3.2</td>\n",
       "      <td>79.3</td>\n",
       "      <td>0.5</td>\n",
       "      <td>11</td>\n",
       "      <td>8.25</td>\n",
       "    </tr>\n",
       "    <tr>\n",
       "      <th>2</th>\n",
       "      <td>2009/2010</td>\n",
       "      <td>Robin van Persie</td>\n",
       "      <td>https://www.whoscored.com/Players/4564/Show/Ro...</td>\n",
       "      <td>Arsenal,</td>\n",
       "      <td>https://www.whoscored.com/Teams/13/Show/Englan...</td>\n",
       "      <td>38</td>\n",
       "      <td>,  AM(C),FW</td>\n",
       "      <td>14(2)</td>\n",
       "      <td>1256</td>\n",
       "      <td>9</td>\n",
       "      <td>7</td>\n",
       "      <td>3</td>\n",
       "      <td>0.0</td>\n",
       "      <td>4.8</td>\n",
       "      <td>79.7</td>\n",
       "      <td>0.9</td>\n",
       "      <td>2</td>\n",
       "      <td>8.07</td>\n",
       "    </tr>\n",
       "    <tr>\n",
       "      <th>3</th>\n",
       "      <td>2009/2010</td>\n",
       "      <td>Luís Boa Morte</td>\n",
       "      <td>https://www.whoscored.com/Players/109/Show/Luí...</td>\n",
       "      <td>West Ham,</td>\n",
       "      <td>https://www.whoscored.com/Teams/29/Show/Englan...</td>\n",
       "      <td>44</td>\n",
       "      <td>,  AM(C),FW</td>\n",
       "      <td>1</td>\n",
       "      <td>64</td>\n",
       "      <td>1</td>\n",
       "      <td>0</td>\n",
       "      <td>1</td>\n",
       "      <td>0.0</td>\n",
       "      <td>2</td>\n",
       "      <td>81</td>\n",
       "      <td>0</td>\n",
       "      <td>0</td>\n",
       "      <td>8.01</td>\n",
       "    </tr>\n",
       "    <tr>\n",
       "      <th>4</th>\n",
       "      <td>2009/2010</td>\n",
       "      <td>Frank Lampard</td>\n",
       "      <td>https://www.whoscored.com/Players/48/Show/Fran...</td>\n",
       "      <td>Chelsea,</td>\n",
       "      <td>https://www.whoscored.com/Teams/15/Show/Englan...</td>\n",
       "      <td>43</td>\n",
       "      <td>,  M(C)</td>\n",
       "      <td>36</td>\n",
       "      <td>3220</td>\n",
       "      <td>22</td>\n",
       "      <td>14</td>\n",
       "      <td>0</td>\n",
       "      <td>0.0</td>\n",
       "      <td>3.9</td>\n",
       "      <td>81</td>\n",
       "      <td>0.1</td>\n",
       "      <td>2</td>\n",
       "      <td>7.95</td>\n",
       "    </tr>\n",
       "  </tbody>\n",
       "</table>\n",
       "</div>"
      ],
      "text/plain": [
       "      season              name  \\\n",
       "0  2009/2010     Didier Drogba   \n",
       "1  2009/2010     Cesc Fàbregas   \n",
       "2  2009/2010  Robin van Persie   \n",
       "3  2009/2010    Luís Boa Morte   \n",
       "4  2009/2010     Frank Lampard   \n",
       "\n",
       "                                          player_url        team  \\\n",
       "0  https://www.whoscored.com/Players/4384/Show/Di...   Chelsea,    \n",
       "1  https://www.whoscored.com/Players/8040/Show/Ce...   Arsenal,    \n",
       "2  https://www.whoscored.com/Players/4564/Show/Ro...   Arsenal,    \n",
       "3  https://www.whoscored.com/Players/109/Show/Luí...  West Ham,    \n",
       "4  https://www.whoscored.com/Players/48/Show/Fran...   Chelsea,    \n",
       "\n",
       "                                            team_url age       position  \\\n",
       "0  https://www.whoscored.com/Teams/15/Show/Englan...  43        ,  FW     \n",
       "1  https://www.whoscored.com/Teams/13/Show/Englan...  34  ,  M(CL),FW     \n",
       "2  https://www.whoscored.com/Teams/13/Show/Englan...  38  ,  AM(C),FW     \n",
       "3  https://www.whoscored.com/Teams/29/Show/Englan...  44  ,  AM(C),FW     \n",
       "4  https://www.whoscored.com/Teams/15/Show/Englan...  43      ,  M(C)     \n",
       "\n",
       "    Apps  Mins Goals Assists yel  red  SpG Pass_per AerialsWon MotM Rating  \n",
       "0  31(1)  2775    29      10   7  0.0  5.6     59.7        1.8   13   8.32  \n",
       "1  26(1)  2194    15      13   5  0.0  3.2     79.3        0.5   11   8.25  \n",
       "2  14(2)  1256     9       7   3  0.0  4.8     79.7        0.9    2   8.07  \n",
       "3      1    64     1       0   1  0.0    2       81          0    0   8.01  \n",
       "4     36  3220    22      14   0  0.0  3.9       81        0.1    2   7.95  "
      ]
     },
     "execution_count": 4,
     "metadata": {},
     "output_type": "execute_result"
    }
   ],
   "source": [
    "who_player = pd.DataFrame()\n",
    "with fileinput.input(files=\"player_whoscored.jl\") as file:\n",
    "    for line in file:\n",
    "        conv = json.loads(line)\n",
    "        who_player = who_player.append(conv, ignore_index=True)\n",
    "who_player.head()"
   ]
  },
  {
   "cell_type": "code",
   "execution_count": 5,
   "id": "2c309ac1",
   "metadata": {},
   "outputs": [
    {
     "data": {
      "text/plain": [
       "0       https://www.whoscored.com/Players/4384/Show/Di...\n",
       "1       https://www.whoscored.com/Players/8040/Show/Ce...\n",
       "2       https://www.whoscored.com/Players/4564/Show/Ro...\n",
       "3       https://www.whoscored.com/Players/109/Show/Luí...\n",
       "4       https://www.whoscored.com/Players/48/Show/Fran...\n",
       "                              ...                        \n",
       "6996    https://www.whoscored.com/Players/341419/Show/...\n",
       "7000    https://www.whoscored.com/Players/382367/Show/...\n",
       "7005    https://www.whoscored.com/Players/300567/Show/...\n",
       "7006    https://www.whoscored.com/Players/409246/Show/...\n",
       "7008    https://www.whoscored.com/Players/395769/Show/...\n",
       "Name: player_url, Length: 2155, dtype: object"
      ]
     },
     "execution_count": 5,
     "metadata": {},
     "output_type": "execute_result"
    }
   ],
   "source": [
    "who_player[\"player_url\"].drop_duplicates()"
   ]
  },
  {
   "cell_type": "code",
   "execution_count": null,
   "id": "f2e981a6",
   "metadata": {},
   "outputs": [],
   "source": []
  },
  {
   "cell_type": "code",
   "execution_count": 11,
   "id": "122129be",
   "metadata": {},
   "outputs": [
    {
     "data": {
      "text/plain": [
       "2155"
      ]
     },
     "execution_count": 11,
     "metadata": {},
     "output_type": "execute_result"
    }
   ],
   "source": [
    "len(total_search_link)"
   ]
  },
  {
   "cell_type": "code",
   "execution_count": 13,
   "id": "01533b0e",
   "metadata": {
    "scrolled": true
   },
   "outputs": [
    {
     "name": "stderr",
     "output_type": "stream",
     "text": [
      "\n",
      "\n",
      "====== WebDriver manager ======\n",
      "Current google-chrome version is 96.0.4664\n",
      "Get LATEST chromedriver version for 96.0.4664 google-chrome\n"
     ]
    },
    {
     "name": "stdout",
     "output_type": "stream",
     "text": [
      "CPU times: user 5 µs, sys: 1e+03 ns, total: 6 µs\n",
      "Wall time: 11.2 µs\n"
     ]
    },
    {
     "name": "stderr",
     "output_type": "stream",
     "text": [
      "Driver [/Users/jaeyoungkim/.wdm/drivers/chromedriver/mac64/96.0.4664.45/chromedriver] found in cache\n",
      "100%|████████████████████████████████████| 2155/2155 [1:25:00<00:00,  2.37s/it]\n"
     ]
    }
   ],
   "source": [
    "%time\n",
    "\n",
    "total_search_link = list(who_player[\"player_url\"].drop_duplicates())\n",
    "\n",
    "with open('player_info_whoscored.jl', 'a') as f:\n",
    "    start_time = time.time()\n",
    "    driver = webdriver.Chrome(ChromeDriverManager().install())\n",
    "    for url in tqdm(total_search_link):\n",
    "        \n",
    "        driver.get(url)\n",
    "        page = Soup(driver.page_source, features='html.parser')\n",
    "        time.sleep(1)\n",
    "        \n",
    "#         links = []\n",
    "#         try:\n",
    "#             for link in page.table.find_all('a'):\n",
    "#                 links.append(link.get('href'))\n",
    "#             links = [\"https://www.whoscored.com\" + i for i in links if \"Players\" in i]\n",
    "#         except:\n",
    "#             continue\n",
    "\n",
    "#         for link in links:\n",
    "        res_dict = dict()\n",
    "#             res_dict[\"player_block\"] = name\n",
    "        res_dict[\"player_url\"] = url\n",
    "#         driver.get(url)\n",
    "\n",
    "        page = Soup(driver.page_source, features='html.parser')\n",
    "        ## summary\n",
    "        table = page.find('div', 'col12-lg-10 col12-m-10 col12-s-9 col12-xs-8')\n",
    "\n",
    "        tmp = [i.split(\":\") for i in table.text.split(\"\\n\") if i != \"\" and i !=  '        ']\n",
    "\n",
    "        flatten_list = [j.strip() for sub in tmp for j in sub]\n",
    "\n",
    "        flatten_list = [i for i in flatten_list if i != \"\"]\n",
    "\n",
    "        key_list = [\"Name\", \"Current Team\", \"Shirt Number\", \"Age\", \"Height\", \"Nationality\", \"Positions\"]\n",
    "        for i in flatten_list:\n",
    "            if i in key_list:\n",
    "                key = i\n",
    "            elif i != '':\n",
    "                res_dict[key] = i\n",
    "\n",
    "\n",
    "        ## weak strong\n",
    "\n",
    "        table = page.find(\"div\", \"sws-content character-card singular\")\n",
    "        try:\n",
    "            character = table.text.split(\"\\n\\n\")\n",
    "        except:\n",
    "            f.write(json.dumps(res_dict) +'\\n')\n",
    "            continue\n",
    "\n",
    "        strong = []\n",
    "        weak = []\n",
    "        play_style = []\n",
    "        for i in character:\n",
    "            if \".com\" not in i and \"Style of Play\" not in i and \"Strengths\" not in i and \"Weaknesses\" not in i and i != \"\":\n",
    "                if \"Strong\" in i:\n",
    "                    strong.append(i.strip())\n",
    "                elif \"Weak\" in i:\n",
    "                    weak.append(i.strip())\n",
    "                else:\n",
    "                    play_style.append(i.strip())\n",
    "\n",
    "\n",
    "        strong = [i.split(\"\\n\")[0] for i in strong]\n",
    "        weak = [i.split(\"\\n\")[0] for i in weak]\n",
    "\n",
    "        res_dict[\"Strengths\"] = strong\n",
    "        res_dict[\"Weaknesses\"] = weak\n",
    "        res_dict[\"Style_of_Play\"] = play_style\n",
    "\n",
    "        f.write(json.dumps(res_dict) +'\\n')\n",
    "            "
   ]
  },
  {
   "cell_type": "markdown",
   "id": "e703a2ef",
   "metadata": {},
   "source": [
    "## Team Crawl"
   ]
  },
  {
   "cell_type": "code",
   "execution_count": 14,
   "id": "a4ee9aff",
   "metadata": {},
   "outputs": [
    {
     "name": "stderr",
     "output_type": "stream",
     "text": [
      "\n",
      "\n",
      "====== WebDriver manager ======\n",
      "Current google-chrome version is 96.0.4664\n",
      "Get LATEST chromedriver version for 96.0.4664 google-chrome\n",
      "Driver [/Users/jaeyoungkim/.wdm/drivers/chromedriver/mac64/96.0.4664.45/chromedriver] found in cache\n"
     ]
    },
    {
     "name": "stdout",
     "output_type": "stream",
     "text": [
      "CPU times: user 3 µs, sys: 1 µs, total: 4 µs\n",
      "Wall time: 8.34 µs\n"
     ]
    }
   ],
   "source": [
    "%time\n",
    "start_url = \"https://www.whoscored.com/Regions/252/Tournaments/2/England-Premier-League\"\n",
    "\n",
    "start_time = time.time()\n",
    "driver = webdriver.Chrome(ChromeDriverManager().install())\n",
    "with open(\"team_whoscored.jl\", 'a') as f:\n",
    "    # time.sleep(1)\n",
    "    driver.get(start_url)\n",
    "    seasons = [str(i) + \"/\" + str(i+1) for i in range(2009, 2021)]\n",
    "    # season = seasons[0]\n",
    "    for season in seasons:\n",
    "            sel = Select(driver.find_element_by_xpath(\"//select[@name='seasons']\"))\n",
    "            sel.select_by_visible_text(season)\n",
    "\n",
    "\n",
    "            WebDriverWait(driver, 10).until(EC.element_to_be_clickable((By.XPATH, \"//*[contains(text(), 'Team Statistics')]\"))).click()\n",
    "            time.sleep(3)\n",
    "            page = Soup(driver.page_source, features='html.parser')\n",
    "            teams = page.find_all(\"table\")[0].find_all(\"tr\")[1:]\n",
    "            for team in teams:\n",
    "                res_dict = dict()\n",
    "                res_dict[\"season\"] = season\n",
    "                tmp = [to0(i) for i in team.get_text(separator = \"\\t\").split(\"\\t\") if i != \"\" and i != \" \"]\n",
    "                team_name, goals, shots_per_game, yellow, red, possessions_per, pass_per, Aerialswon, Rating   = tmp\n",
    "                res_dict[\"name\"] = team_name.split(\". \")[1]\n",
    "                res_dict[\"goals\"] = goals\n",
    "                res_dict[\"team_url\"] = 'https://www.whoscored.com' + team.find(\"a\")[\"href\"]\n",
    "                res_dict[\"shots_per_game\"] = shots_per_game\n",
    "                res_dict[\"yellow\"] = yellow\n",
    "                res_dict[\"red\"] = red\n",
    "                res_dict[\"possessions_per\"] = possessions_per\n",
    "                res_dict[\"pass_per\"] = pass_per\n",
    "                res_dict[\"Aerialswon\"] = Aerialswon\n",
    "                res_dict[\"Rating\"] = Rating\n",
    "                f.write(json.dumps(res_dict) +'\\n')\n"
   ]
  },
  {
   "cell_type": "code",
   "execution_count": 9,
   "id": "6ee07e53",
   "metadata": {},
   "outputs": [
    {
     "data": {
      "text/plain": [
       "'/Teams/15/Show/England-Chelsea'"
      ]
     },
     "execution_count": 9,
     "metadata": {},
     "output_type": "execute_result"
    }
   ],
   "source": [
    "team.find(\"a\")[\"href\"]"
   ]
  },
  {
   "cell_type": "code",
   "execution_count": null,
   "id": "3d0220fe",
   "metadata": {},
   "outputs": [],
   "source": []
  },
  {
   "cell_type": "code",
   "execution_count": null,
   "id": "412e2825",
   "metadata": {},
   "outputs": [],
   "source": []
  },
  {
   "cell_type": "markdown",
   "id": "4de1edaf",
   "metadata": {},
   "source": [
    "## Game crawl"
   ]
  },
  {
   "cell_type": "code",
   "execution_count": 8,
   "id": "3ceaf273",
   "metadata": {},
   "outputs": [
    {
     "data": {
      "text/plain": [
       "['2009/2010',\n",
       " '2010/2011',\n",
       " '2011/2012',\n",
       " '2012/2013',\n",
       " '2013/2014',\n",
       " '2014/2015',\n",
       " '2015/2016',\n",
       " '2016/2017',\n",
       " '2017/2018',\n",
       " '2018/2019',\n",
       " '2019/2020',\n",
       " '2020/2021']"
      ]
     },
     "execution_count": 8,
     "metadata": {},
     "output_type": "execute_result"
    }
   ],
   "source": [
    "season_list = [str(2009+i) + \"/\" + str(2009+i+1) for i in range(13)]\n",
    "season_list"
   ]
  },
  {
   "cell_type": "code",
   "execution_count": 9,
   "id": "4dc7e833",
   "metadata": {},
   "outputs": [
    {
     "name": "stderr",
     "output_type": "stream",
     "text": [
      "\n",
      "\n",
      "====== WebDriver manager ======\n",
      "Current google-chrome version is 96.0.4664\n",
      "Get LATEST chromedriver version for 96.0.4664 google-chrome\n",
      "Driver [/Users/jaeyoungkim/.wdm/drivers/chromedriver/mac64/96.0.4664.45/chromedriver] found in cache\n",
      "100%|███████████████████████████████████████████| 13/13 [16:54<00:00, 78.03s/it]"
     ]
    },
    {
     "name": "stdout",
     "output_type": "stream",
     "text": [
      "Completed!!\n",
      "Time consumed :  1019.7307150363922\n"
     ]
    },
    {
     "name": "stderr",
     "output_type": "stream",
     "text": [
      "\n"
     ]
    }
   ],
   "source": [
    "start_time = time.time()\n",
    "\n",
    "## collect all game urls\n",
    "game_urls = []\n",
    "driver = webdriver.Chrome(ChromeDriverManager().install())\n",
    "driver.get(\"https://www.whoscored.com/Regions/252/Tournaments/2/Seasons/3853/England-Premier-League\")\n",
    "\n",
    "page = Soup(driver.page_source, features='html.parser')\n",
    "game_urls = []\n",
    "season_list = [str(2009+i) + \"/\" + str(2009+i+1) for i in range(13)]\n",
    "\n",
    "## for all season\n",
    "for season in tqdm(season_list):\n",
    "    select = Select(driver.find_element_by_id('seasons'))\n",
    "\n",
    "    select.select_by_visible_text(season)\n",
    "\n",
    "\n",
    "\n",
    "\n",
    "\n",
    "    ### crawl all game url of season\n",
    "    while True:\n",
    "        page = Soup(driver.page_source, features='html.parser')\n",
    "\n",
    "        table = page.find_all(\"a\", 'stacked-match-link result-1')\n",
    "        for i in table:\n",
    "            game_urls.append(i.get(\"href\"))\n",
    "        time.sleep(2)\n",
    "        try:\n",
    "            button = driver.find_element_by_css_selector(\"div[class='option-datepicker'] a[class='previous button ui-state-default rc-l is-default']\")\n",
    "            button.click()\n",
    "\n",
    "\n",
    "        except:\n",
    "            break\n",
    "\n",
    "print(\"Completed!!\")\n",
    "print(\"Time consumed : \", time.time() - start_time)\n"
   ]
  },
  {
   "cell_type": "code",
   "execution_count": 10,
   "id": "8d768225",
   "metadata": {},
   "outputs": [
    {
     "data": {
      "text/plain": [
       "4607"
      ]
     },
     "execution_count": 10,
     "metadata": {},
     "output_type": "execute_result"
    }
   ],
   "source": [
    "len(game_urls)"
   ]
  },
  {
   "cell_type": "code",
   "execution_count": 12,
   "id": "55e56442",
   "metadata": {},
   "outputs": [],
   "source": [
    "game_urls = list(set(game_urls))"
   ]
  },
  {
   "cell_type": "code",
   "execution_count": 13,
   "id": "4fef25ec",
   "metadata": {},
   "outputs": [],
   "source": [
    "textfile = open(\"game_urls.txt\", \"w\")\n",
    "for element in game_urls:\n",
    "    textfile.write(element + \"\\n\")\n",
    "textfile.close()"
   ]
  },
  {
   "cell_type": "code",
   "execution_count": 3,
   "id": "a5743247",
   "metadata": {},
   "outputs": [],
   "source": [
    "with open(\"game_urls.txt\", \"r\") as f:\n",
    "    game_urls = f.read()\n",
    "\n",
    "game_urls = game_urls.split(\"\\n\")\n",
    "\n",
    "game_urls = game_urls[:-1]"
   ]
  },
  {
   "cell_type": "code",
   "execution_count": 4,
   "id": "1f909963",
   "metadata": {},
   "outputs": [
    {
     "data": {
      "text/plain": [
       "4562"
      ]
     },
     "execution_count": 4,
     "metadata": {},
     "output_type": "execute_result"
    }
   ],
   "source": [
    "len(game_urls)"
   ]
  },
  {
   "cell_type": "code",
   "execution_count": 79,
   "id": "46749810",
   "metadata": {
    "scrolled": true
   },
   "outputs": [
    {
     "name": "stderr",
     "output_type": "stream",
     "text": [
      "\n",
      "\n",
      "====== WebDriver manager ======\n",
      "Current google-chrome version is 96.0.4664\n",
      "Get LATEST chromedriver version for 96.0.4664 google-chrome\n",
      "Driver [/Users/jaeyoungkim/.wdm/drivers/chromedriver/mac64/96.0.4664.45/chromedriver] found in cache\n",
      "100%|███████████████████████████████████████████| 53/53 [08:04<00:00,  9.14s/it]\n"
     ]
    }
   ],
   "source": [
    "start_time = time.time()\n",
    "\n",
    "driver = webdriver.Chrome(ChromeDriverManager().install())\n",
    "with open(\"games_whoscored.jl\", \"a\") as f:\n",
    "    for url in tqdm(game_urls[2186+1804+117+10+89+51+9 + 94+57+92:]):\n",
    "        res_dict = dict()\n",
    "        driver.get(\"https://www.whoscored.com\" + url)\n",
    "        time.sleep(1)\n",
    "        WebDriverWait(driver, 20).until(EC.element_to_be_clickable((By.XPATH, '//a[text()=\"Match Centre\"]'))).click()\n",
    "        time.sleep(3)\n",
    "        page = Soup(driver.page_source, features='html.parser')\n",
    "        time.sleep(2)\n",
    "        \n",
    "        res_dict = dict()\n",
    "        res_dict[\"game_url\"] =\"https://www.whoscored.com\" + url\n",
    "        res_dict[\"season\"] = url.split(\"-\")[3] + \"/\" + url.split(\"-\")[4]\n",
    "\n",
    "\n",
    "        team_rating, a1, team_name, man, manager_name, formation = page.find_all(\"div\", \"team-info\")[0].get_text(separator = \"\\t\").split(\"\\t\")\n",
    "        res_dict[\"home_team_formation\"] = formation\n",
    "        res_dict[\"home_team_rating\"] = team_rating\n",
    "        res_dict[\"home_team\"] = team_name\n",
    "        res_dict[\"home_team_url\"] = \"https://www.whoscored.com\" + page.find_all(\"div\", \"team-info\")[0].find(\"a\")[\"href\"]\n",
    "        \n",
    "        \n",
    "        team_rating, a1, team_name, man, manager_name, formation = page.find_all(\"div\", \"team-info\")[1].get_text(separator = \"\\t\").split(\"\\t\")\n",
    "        res_dict[\"away_team_formation\"] = formation\n",
    "        res_dict[\"away_team_rating\"] = team_rating\n",
    "        res_dict[\"away_team\"] = team_name\n",
    "        res_dict[\"away_team_url\"] = \"https://www.whoscored.com\" + page.find_all(\"div\", \"team-info\")[1].find(\"a\")[\"href\"]\n",
    "        \n",
    "        whole_player_dict = dict()\n",
    "        field = page.find_all(\"div\", \"pitch-field\")\n",
    "        home_field_players = field[0].find_all(\"div\",\"player\")\n",
    "        for player in home_field_players:\n",
    "            player_dict = dict()\n",
    "            player_dict[\"rating\"], a1, player_dict[\"shirt_number\"], player_dict[\"name\"] = player.get_text(separator = \"\\t\").split(\"\\t\")[:4]\n",
    "            player_id = player[\"data-player-id\"]\n",
    "            whole_player_dict[player_id] = player_dict\n",
    "\n",
    "        away_field_players = field[1].find_all(\"div\",\"player\")\n",
    "        for player in away_field_players:\n",
    "            player_dict = dict()\n",
    "            player_dict[\"rating\"], a1, player_dict[\"shirt_number\"], player_dict[\"name\"] = player.get_text(separator = \"\\t\").split(\"\\t\")[:4]\n",
    "            player_id = player[\"data-player-id\"]\n",
    "            whole_player_dict[player_id] = player_dict\n",
    "        res_dict[\"player_rating\"] = whole_player_dict\n",
    "        \n",
    "        tmp1 = page.title.text.strip().split(\"-\")\n",
    "        home_team = tmp1[0][:-2]\n",
    "        away_team = tmp1[1][2:]\n",
    "        season = tmp1[2].split(\" \")[3]\n",
    "\n",
    "        \n",
    "        tmp = page.find_all(\"div\", \"info-block cleared\")[-2]\n",
    "        tmp = tmp.find_all(\"dd\")\n",
    "        tmp = [i.text for i in tmp]\n",
    "        score = tmp[1]\n",
    "        \n",
    "        tmp = page.find_all(\"div\", \"info-block cleared\")[-1]\n",
    "        tmp = tmp.find_all(\"dd\")\n",
    "        tmp = [i.text for i in tmp]\n",
    "        kickoff = tmp[0]\n",
    "        date = tmp[1]\n",
    "        res_dict[\"time\"] = kickoff\n",
    "        res_dict[\"date\"] = date\n",
    "\n",
    "        f.write(json.dumps(res_dict) + \"\\n\")\n",
    "\n"
   ]
  },
  {
   "cell_type": "code",
   "execution_count": null,
   "id": "e215c3b6",
   "metadata": {},
   "outputs": [],
   "source": []
  }
 ],
 "metadata": {
  "kernelspec": {
   "display_name": "Python 3",
   "language": "python",
   "name": "python3"
  },
  "language_info": {
   "codemirror_mode": {
    "name": "ipython",
    "version": 3
   },
   "file_extension": ".py",
   "mimetype": "text/x-python",
   "name": "python",
   "nbconvert_exporter": "python",
   "pygments_lexer": "ipython3",
   "version": "3.7.7"
  }
 },
 "nbformat": 4,
 "nbformat_minor": 5
}
