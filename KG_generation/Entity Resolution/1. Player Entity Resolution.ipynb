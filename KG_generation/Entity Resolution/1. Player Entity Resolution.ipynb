{
 "cells": [
  {
   "cell_type": "code",
   "execution_count": 1,
   "id": "0d6f2388",
   "metadata": {},
   "outputs": [
    {
     "name": "stdout",
     "output_type": "stream",
     "text": [
      "Defaulting to user installation because normal site-packages is not writeable\n",
      "Requirement already satisfied: strsimpy in /Users/jaeyoungkim/.local/lib/python3.7/site-packages (0.2.1)\n",
      "\u001b[33mWARNING: You are using pip version 21.1.2; however, version 21.3.1 is available.\n",
      "You should consider upgrading via the '/opt/anaconda3/envs/jaeyoung/bin/python -m pip install --upgrade pip' command.\u001b[0m\n"
     ]
    }
   ],
   "source": [
    "!pip install strsimpy\n",
    "from strsimpy.jaro_winkler import JaroWinkler\n",
    "from strsimpy.normalized_levenshtein import NormalizedLevenshtein\n",
    "import pandas as pd\n",
    "import numpy as np\n",
    "import json\n",
    "import fileinput\n",
    "from tqdm import tqdm\n",
    "import string\n",
    "import re\n",
    "import json\n",
    "\n"
   ]
  },
  {
   "cell_type": "code",
   "execution_count": 2,
   "id": "03afc974",
   "metadata": {},
   "outputs": [
    {
     "data": {
      "text/html": [
       "<div>\n",
       "<style scoped>\n",
       "    .dataframe tbody tr th:only-of-type {\n",
       "        vertical-align: middle;\n",
       "    }\n",
       "\n",
       "    .dataframe tbody tr th {\n",
       "        vertical-align: top;\n",
       "    }\n",
       "\n",
       "    .dataframe thead th {\n",
       "        text-align: right;\n",
       "    }\n",
       "</style>\n",
       "<table border=\"1\" class=\"dataframe\">\n",
       "  <thead>\n",
       "    <tr style=\"text-align: right;\">\n",
       "      <th></th>\n",
       "      <th>player_url</th>\n",
       "      <th>Name</th>\n",
       "      <th>Shirt Number</th>\n",
       "      <th>Age</th>\n",
       "      <th>Height</th>\n",
       "      <th>Nationality</th>\n",
       "      <th>Positions</th>\n",
       "      <th>Strengths</th>\n",
       "      <th>Weaknesses</th>\n",
       "      <th>Style_of_Play</th>\n",
       "      <th>Current Team</th>\n",
       "    </tr>\n",
       "  </thead>\n",
       "  <tbody>\n",
       "    <tr>\n",
       "      <th>0</th>\n",
       "      <td>https://www.whoscored.com/Players/4384/Show/Di...</td>\n",
       "      <td>Didier Drogba</td>\n",
       "      <td>11</td>\n",
       "      <td>43 years old (11-03-1978)</td>\n",
       "      <td>189cm</td>\n",
       "      <td>Ivory Coast</td>\n",
       "      <td>Forward</td>\n",
       "      <td>[Long shots, Direct free-kicks, Finishing, Aer...</td>\n",
       "      <td>[Holding on to the ball, Passing, Discipline]</td>\n",
       "      <td>[Plays the ball off the ground often, Indirect...</td>\n",
       "      <td>NaN</td>\n",
       "    </tr>\n",
       "    <tr>\n",
       "      <th>1</th>\n",
       "      <td>https://www.whoscored.com/Players/8040/Show/Ce...</td>\n",
       "      <td>Cesc Fàbregas</td>\n",
       "      <td>4</td>\n",
       "      <td>34 years old (04-05-1987)</td>\n",
       "      <td>180cm</td>\n",
       "      <td>Spain</td>\n",
       "      <td>Forward</td>\n",
       "      <td>[Through balls, Taking set-pieces, Key passes,...</td>\n",
       "      <td>[Finishing, Tackling, Discipline]</td>\n",
       "      <td>[Plays the ball off the ground often, Does not...</td>\n",
       "      <td>Monaco</td>\n",
       "    </tr>\n",
       "    <tr>\n",
       "      <th>2</th>\n",
       "      <td>https://www.whoscored.com/Players/4564/Show/Ro...</td>\n",
       "      <td>Robin van Persie</td>\n",
       "      <td>10</td>\n",
       "      <td>38 years old (06-08-1983)</td>\n",
       "      <td>183cm</td>\n",
       "      <td>Netherlands</td>\n",
       "      <td>Forward</td>\n",
       "      <td>[Direct free-kicks, Long shots, Key passes, Dr...</td>\n",
       "      <td>[Tackling, Discipline, Defensive contribution]</td>\n",
       "      <td>[Likes to play short passes, Likes to dribble,...</td>\n",
       "      <td>NaN</td>\n",
       "    </tr>\n",
       "    <tr>\n",
       "      <th>3</th>\n",
       "      <td>https://www.whoscored.com/Players/109/Show/Luí...</td>\n",
       "      <td>Luís Boa Morte Pereira</td>\n",
       "      <td>35</td>\n",
       "      <td>44 years old (04-08-1977)</td>\n",
       "      <td>178cm</td>\n",
       "      <td>Portugal</td>\n",
       "      <td>Forward</td>\n",
       "      <td>NaN</td>\n",
       "      <td>NaN</td>\n",
       "      <td>NaN</td>\n",
       "      <td>NaN</td>\n",
       "    </tr>\n",
       "    <tr>\n",
       "      <th>4</th>\n",
       "      <td>https://www.whoscored.com/Players/48/Show/Fran...</td>\n",
       "      <td>Frank Lampard</td>\n",
       "      <td>8</td>\n",
       "      <td>43 years old (20-06-1978)</td>\n",
       "      <td>184cm</td>\n",
       "      <td>England</td>\n",
       "      <td>Midfielder (Centre)</td>\n",
       "      <td>[Finishing]</td>\n",
       "      <td>[Tackling, Passing]</td>\n",
       "      <td>[Likes to do layoffs, Does not dive into tackles]</td>\n",
       "      <td>NaN</td>\n",
       "    </tr>\n",
       "  </tbody>\n",
       "</table>\n",
       "</div>"
      ],
      "text/plain": [
       "                                          player_url                    Name  \\\n",
       "0  https://www.whoscored.com/Players/4384/Show/Di...           Didier Drogba   \n",
       "1  https://www.whoscored.com/Players/8040/Show/Ce...           Cesc Fàbregas   \n",
       "2  https://www.whoscored.com/Players/4564/Show/Ro...        Robin van Persie   \n",
       "3  https://www.whoscored.com/Players/109/Show/Luí...  Luís Boa Morte Pereira   \n",
       "4  https://www.whoscored.com/Players/48/Show/Fran...           Frank Lampard   \n",
       "\n",
       "  Shirt Number                        Age Height  Nationality  \\\n",
       "0           11  43 years old (11-03-1978)  189cm  Ivory Coast   \n",
       "1            4  34 years old (04-05-1987)  180cm        Spain   \n",
       "2           10  38 years old (06-08-1983)  183cm  Netherlands   \n",
       "3           35  44 years old (04-08-1977)  178cm     Portugal   \n",
       "4            8  43 years old (20-06-1978)  184cm      England   \n",
       "\n",
       "             Positions                                          Strengths  \\\n",
       "0              Forward  [Long shots, Direct free-kicks, Finishing, Aer...   \n",
       "1              Forward  [Through balls, Taking set-pieces, Key passes,...   \n",
       "2              Forward  [Direct free-kicks, Long shots, Key passes, Dr...   \n",
       "3              Forward                                                NaN   \n",
       "4  Midfielder (Centre)                                        [Finishing]   \n",
       "\n",
       "                                       Weaknesses  \\\n",
       "0   [Holding on to the ball, Passing, Discipline]   \n",
       "1               [Finishing, Tackling, Discipline]   \n",
       "2  [Tackling, Discipline, Defensive contribution]   \n",
       "3                                             NaN   \n",
       "4                             [Tackling, Passing]   \n",
       "\n",
       "                                       Style_of_Play Current Team  \n",
       "0  [Plays the ball off the ground often, Indirect...          NaN  \n",
       "1  [Plays the ball off the ground often, Does not...       Monaco  \n",
       "2  [Likes to play short passes, Likes to dribble,...          NaN  \n",
       "3                                                NaN          NaN  \n",
       "4  [Likes to do layoffs, Does not dive into tackles]          NaN  "
      ]
     },
     "execution_count": 2,
     "metadata": {},
     "output_type": "execute_result"
    }
   ],
   "source": [
    "who_player = pd.DataFrame()\n",
    "with fileinput.input(files='../' + \"whoscored_crawler/player_info_whoscored.jl\") as file:\n",
    "    for line in file:\n",
    "        conv = json.loads(line)\n",
    "        who_player = who_player.append(conv, ignore_index=True)\n",
    "who_player.head()"
   ]
  },
  {
   "cell_type": "code",
   "execution_count": 3,
   "id": "ff1685af",
   "metadata": {},
   "outputs": [
    {
     "data": {
      "text/html": [
       "<div>\n",
       "<style scoped>\n",
       "    .dataframe tbody tr th:only-of-type {\n",
       "        vertical-align: middle;\n",
       "    }\n",
       "\n",
       "    .dataframe tbody tr th {\n",
       "        vertical-align: top;\n",
       "    }\n",
       "\n",
       "    .dataframe thead th {\n",
       "        text-align: right;\n",
       "    }\n",
       "</style>\n",
       "<table border=\"1\" class=\"dataframe\">\n",
       "  <thead>\n",
       "    <tr style=\"text-align: right;\">\n",
       "      <th></th>\n",
       "      <th>team_history</th>\n",
       "      <th>player_url</th>\n",
       "      <th>name</th>\n",
       "      <th>Born</th>\n",
       "      <th>Placeofbirth</th>\n",
       "      <th>Nationality</th>\n",
       "      <th>Height</th>\n",
       "      <th>Weight</th>\n",
       "      <th>Position(s)</th>\n",
       "      <th>Foot</th>\n",
       "      <th>Current_team_info</th>\n",
       "      <th>Homepage</th>\n",
       "      <th>sizeofshoe</th>\n",
       "    </tr>\n",
       "  </thead>\n",
       "  <tbody>\n",
       "    <tr>\n",
       "      <th>0</th>\n",
       "      <td>{'0': {'period': '07/2011 - 06/2012', 'team': ...</td>\n",
       "      <td>https://www.worldfootball.net/player_summary/m...</td>\n",
       "      <td>Michael Johnson</td>\n",
       "      <td>[24.02.1988]</td>\n",
       "      <td>[Urmston, England]</td>\n",
       "      <td>[England]</td>\n",
       "      <td>[183cm]</td>\n",
       "      <td>[79kg]</td>\n",
       "      <td>[DefensiveMidfielder]</td>\n",
       "      <td>[right]</td>\n",
       "      <td>NaN</td>\n",
       "      <td>NaN</td>\n",
       "      <td>NaN</td>\n",
       "    </tr>\n",
       "    <tr>\n",
       "      <th>1</th>\n",
       "      <td>{'0': {'period': '10/2017 - 06/2019', 'team': ...</td>\n",
       "      <td>https://www.worldfootball.net/player_summary/r...</td>\n",
       "      <td>Roger Johnson</td>\n",
       "      <td>[28.04.1983]</td>\n",
       "      <td>[Ashford, England]</td>\n",
       "      <td>[England]</td>\n",
       "      <td>[191cm]</td>\n",
       "      <td>[78kg]</td>\n",
       "      <td>[CentreBack]</td>\n",
       "      <td>[right]</td>\n",
       "      <td>NaN</td>\n",
       "      <td>NaN</td>\n",
       "      <td>NaN</td>\n",
       "    </tr>\n",
       "    <tr>\n",
       "      <th>2</th>\n",
       "      <td>{'1': {'period': '07/2020 - 08/2020', 'team': ...</td>\n",
       "      <td>https://www.worldfootball.net/player_summary/j...</td>\n",
       "      <td>Jake Jervis</td>\n",
       "      <td>[17.09.1991]</td>\n",
       "      <td>[Wolverhampton, England]</td>\n",
       "      <td>[England]</td>\n",
       "      <td>[191cm]</td>\n",
       "      <td>NaN</td>\n",
       "      <td>[RightWinger, CentreForward]</td>\n",
       "      <td>[right]</td>\n",
       "      <td>{'team_name': 'SJK Seinäjoki', 'country': 'Fin...</td>\n",
       "      <td>NaN</td>\n",
       "      <td>NaN</td>\n",
       "    </tr>\n",
       "    <tr>\n",
       "      <th>3</th>\n",
       "      <td>{'0': {'period': '01/2019 - 06/2019', 'team': ...</td>\n",
       "      <td>https://www.worldfootball.net/player_summary/p...</td>\n",
       "      <td>Paul Scharner</td>\n",
       "      <td>[11.03.1980]</td>\n",
       "      <td>[Scheibbs, Austria]</td>\n",
       "      <td>[Austria]</td>\n",
       "      <td>[191cm]</td>\n",
       "      <td>[81kg]</td>\n",
       "      <td>[CentreBack, DefensiveMidfielder]</td>\n",
       "      <td>[right]</td>\n",
       "      <td>NaN</td>\n",
       "      <td>[www.paulscharner.at]</td>\n",
       "      <td>NaN</td>\n",
       "    </tr>\n",
       "    <tr>\n",
       "      <th>4</th>\n",
       "      <td>{'0': {'period': '05/2013 - 06/2013', 'team': ...</td>\n",
       "      <td>https://www.worldfootball.net/player_summary/d...</td>\n",
       "      <td>David Bentley</td>\n",
       "      <td>[27.08.1984]</td>\n",
       "      <td>[Peterborough, England]</td>\n",
       "      <td>[England]</td>\n",
       "      <td>[175cm]</td>\n",
       "      <td>[68kg]</td>\n",
       "      <td>[RightMidfielder, RightWinger]</td>\n",
       "      <td>[right]</td>\n",
       "      <td>NaN</td>\n",
       "      <td>NaN</td>\n",
       "      <td>NaN</td>\n",
       "    </tr>\n",
       "  </tbody>\n",
       "</table>\n",
       "</div>"
      ],
      "text/plain": [
       "                                        team_history  \\\n",
       "0  {'0': {'period': '07/2011 - 06/2012', 'team': ...   \n",
       "1  {'0': {'period': '10/2017 - 06/2019', 'team': ...   \n",
       "2  {'1': {'period': '07/2020 - 08/2020', 'team': ...   \n",
       "3  {'0': {'period': '01/2019 - 06/2019', 'team': ...   \n",
       "4  {'0': {'period': '05/2013 - 06/2013', 'team': ...   \n",
       "\n",
       "                                          player_url             name  \\\n",
       "0  https://www.worldfootball.net/player_summary/m...  Michael Johnson   \n",
       "1  https://www.worldfootball.net/player_summary/r...    Roger Johnson   \n",
       "2  https://www.worldfootball.net/player_summary/j...      Jake Jervis   \n",
       "3  https://www.worldfootball.net/player_summary/p...    Paul Scharner   \n",
       "4  https://www.worldfootball.net/player_summary/d...    David Bentley   \n",
       "\n",
       "           Born              Placeofbirth Nationality   Height  Weight  \\\n",
       "0  [24.02.1988]        [Urmston, England]   [England]  [183cm]  [79kg]   \n",
       "1  [28.04.1983]        [Ashford, England]   [England]  [191cm]  [78kg]   \n",
       "2  [17.09.1991]  [Wolverhampton, England]   [England]  [191cm]     NaN   \n",
       "3  [11.03.1980]       [Scheibbs, Austria]   [Austria]  [191cm]  [81kg]   \n",
       "4  [27.08.1984]   [Peterborough, England]   [England]  [175cm]  [68kg]   \n",
       "\n",
       "                         Position(s)     Foot  \\\n",
       "0              [DefensiveMidfielder]  [right]   \n",
       "1                       [CentreBack]  [right]   \n",
       "2       [RightWinger, CentreForward]  [right]   \n",
       "3  [CentreBack, DefensiveMidfielder]  [right]   \n",
       "4     [RightMidfielder, RightWinger]  [right]   \n",
       "\n",
       "                                   Current_team_info               Homepage  \\\n",
       "0                                                NaN                    NaN   \n",
       "1                                                NaN                    NaN   \n",
       "2  {'team_name': 'SJK Seinäjoki', 'country': 'Fin...                    NaN   \n",
       "3                                                NaN  [www.paulscharner.at]   \n",
       "4                                                NaN                    NaN   \n",
       "\n",
       "  sizeofshoe  \n",
       "0        NaN  \n",
       "1        NaN  \n",
       "2        NaN  \n",
       "3        NaN  \n",
       "4        NaN  "
      ]
     },
     "execution_count": 3,
     "metadata": {},
     "output_type": "execute_result"
    }
   ],
   "source": [
    "world_player = pd.DataFrame()\n",
    "with fileinput.input(files='../' + \"worldfootball_crawler/player_info_worldfootball.jl\") as file:\n",
    "    for line in file:\n",
    "        conv = json.loads(line)\n",
    "        world_player = world_player.append(conv, ignore_index=True)\n",
    "world_player.head()"
   ]
  },
  {
   "cell_type": "code",
   "execution_count": 4,
   "id": "b3483d23",
   "metadata": {
    "scrolled": true
   },
   "outputs": [
    {
     "data": {
      "text/plain": [
       "2155"
      ]
     },
     "execution_count": 4,
     "metadata": {},
     "output_type": "execute_result"
    }
   ],
   "source": [
    "len(who_player)"
   ]
  },
  {
   "cell_type": "code",
   "execution_count": 5,
   "id": "603d5dda",
   "metadata": {},
   "outputs": [
    {
     "data": {
      "text/plain": [
       "2832"
      ]
     },
     "execution_count": 5,
     "metadata": {},
     "output_type": "execute_result"
    }
   ],
   "source": [
    "len(world_player)"
   ]
  },
  {
   "cell_type": "code",
   "execution_count": 6,
   "id": "0a2eeaac",
   "metadata": {
    "scrolled": true
   },
   "outputs": [
    {
     "data": {
      "text/plain": [
       "2155"
      ]
     },
     "execution_count": 6,
     "metadata": {},
     "output_type": "execute_result"
    }
   ],
   "source": [
    "                       \n",
    "len(who_player[\"player_url\"].drop_duplicates())"
   ]
  },
  {
   "cell_type": "markdown",
   "id": "be3396e3",
   "metadata": {},
   "source": [
    "## ID, Map Generation"
   ]
  },
  {
   "cell_type": "code",
   "execution_count": 7,
   "id": "06e8bad4",
   "metadata": {},
   "outputs": [
    {
     "data": {
      "text/plain": [
       "2832"
      ]
     },
     "execution_count": 7,
     "metadata": {},
     "output_type": "execute_result"
    }
   ],
   "source": [
    "len(world_player[\"player_url\"])"
   ]
  },
  {
   "cell_type": "code",
   "execution_count": 8,
   "id": "3bfc1071",
   "metadata": {
    "scrolled": true
   },
   "outputs": [
    {
     "data": {
      "text/plain": [
       "2832"
      ]
     },
     "execution_count": 8,
     "metadata": {},
     "output_type": "execute_result"
    }
   ],
   "source": [
    "len(world_player[\"player_url\"].drop_duplicates())"
   ]
  },
  {
   "cell_type": "code",
   "execution_count": 9,
   "id": "5ba52429",
   "metadata": {},
   "outputs": [
    {
     "data": {
      "text/plain": [
       "1    2812\n",
       "2      10\n",
       "Name: player_url, dtype: int64"
      ]
     },
     "execution_count": 9,
     "metadata": {},
     "output_type": "execute_result"
    }
   ],
   "source": [
    "world_player.groupby(\"name\").count()[\"player_url\"].value_counts()"
   ]
  },
  {
   "cell_type": "code",
   "execution_count": 10,
   "id": "47bec0a4",
   "metadata": {},
   "outputs": [],
   "source": [
    "id2player = dict()\n",
    "player2id = dict()\n",
    "\n",
    "for idx, player_url in enumerate(list(world_player[\"player_url\"].drop_duplicates())):\n",
    "    id2player[idx + 10**6] = player_url\n",
    "    player2id[player_url] = idx + 10**6\n",
    "\n",
    "for idx, player_url in enumerate(list(who_player[\"player_url\"].drop_duplicates())):\n",
    "    id2player[idx + 2*(10**6)] = player_url\n",
    "    player2id[player_url] = idx + 2 * (10**6)"
   ]
  },
  {
   "cell_type": "code",
   "execution_count": 11,
   "id": "16a1a8ce",
   "metadata": {},
   "outputs": [
    {
     "data": {
      "text/plain": [
       "2155"
      ]
     },
     "execution_count": 11,
     "metadata": {},
     "output_type": "execute_result"
    }
   ],
   "source": [
    "len(who_player[\"player_url\"])"
   ]
  },
  {
   "cell_type": "code",
   "execution_count": 12,
   "id": "084161a8",
   "metadata": {},
   "outputs": [
    {
     "data": {
      "text/plain": [
       "2155"
      ]
     },
     "execution_count": 12,
     "metadata": {},
     "output_type": "execute_result"
    }
   ],
   "source": [
    "len(who_player[\"player_url\"].drop_duplicates())"
   ]
  },
  {
   "cell_type": "code",
   "execution_count": 13,
   "id": "8ca26972",
   "metadata": {},
   "outputs": [
    {
     "data": {
      "text/plain": [
       "4987"
      ]
     },
     "execution_count": 13,
     "metadata": {},
     "output_type": "execute_result"
    }
   ],
   "source": [
    "len(id2player)"
   ]
  },
  {
   "cell_type": "markdown",
   "id": "990075aa",
   "metadata": {},
   "source": [
    "## Blocking"
   ]
  },
  {
   "cell_type": "code",
   "execution_count": 14,
   "id": "cbfc4bda",
   "metadata": {},
   "outputs": [],
   "source": [
    "def f(x):\n",
    "    if type(x) == float:\n",
    "        return 0\n",
    "    elif len(x[0])<15:\n",
    "        tmp = x[0].split(\".\")\n",
    "        return int(str(tmp[2]) + str(tmp[1]) + str(tmp[0]))\n",
    "    else:\n",
    "        tmp = x[0].split(\".\")\n",
    "        return int(str(tmp[2])[:4] + str(tmp[1]) + str(tmp[0]))\n",
    "world_player[\"birth_block\"] = world_player[\"Born\"].apply(f)"
   ]
  },
  {
   "cell_type": "code",
   "execution_count": 15,
   "id": "46fb9a68",
   "metadata": {},
   "outputs": [],
   "source": [
    "who_player[\"DOB\"] = who_player[\"Age\"].apply(lambda x : x.split(\" years old (\")[1][:-1])\n",
    "\n",
    "who_player[\"Age\"] = who_player[\"Age\"].apply(lambda x : x.split(\" years old (\")[0])"
   ]
  },
  {
   "cell_type": "code",
   "execution_count": 16,
   "id": "6a6cda55",
   "metadata": {},
   "outputs": [],
   "source": [
    "def f(x):\n",
    "    tmp = x.split(\"-\")\n",
    "    return int(str(tmp[2]) + str(tmp[1]) + str(tmp[0]))\n",
    "who_player[\"birth_block\"] = who_player[\"DOB\"].apply(f)"
   ]
  },
  {
   "cell_type": "code",
   "execution_count": 17,
   "id": "dc122e3f",
   "metadata": {},
   "outputs": [],
   "source": [
    "who_player['player_id'] = who_player[\"player_url\"].apply(lambda x : player2id[x])\n",
    "world_player['player_id'] = world_player[\"player_url\"].apply(lambda x : player2id[x])"
   ]
  },
  {
   "cell_type": "code",
   "execution_count": 18,
   "id": "4d43e922",
   "metadata": {},
   "outputs": [],
   "source": [
    "who_birth = who_player[[\"player_id\", \"birth_block\"]]\n",
    "world_birth = world_player[[\"player_id\", \"birth_block\"]]\n",
    "birth_df = who_birth.append(world_birth)"
   ]
  },
  {
   "cell_type": "code",
   "execution_count": 19,
   "id": "9f730cd7",
   "metadata": {},
   "outputs": [
    {
     "data": {
      "text/html": [
       "<div>\n",
       "<style scoped>\n",
       "    .dataframe tbody tr th:only-of-type {\n",
       "        vertical-align: middle;\n",
       "    }\n",
       "\n",
       "    .dataframe tbody tr th {\n",
       "        vertical-align: top;\n",
       "    }\n",
       "\n",
       "    .dataframe thead th {\n",
       "        text-align: right;\n",
       "    }\n",
       "</style>\n",
       "<table border=\"1\" class=\"dataframe\">\n",
       "  <thead>\n",
       "    <tr style=\"text-align: right;\">\n",
       "      <th></th>\n",
       "      <th>player_id</th>\n",
       "      <th>birth_block</th>\n",
       "    </tr>\n",
       "  </thead>\n",
       "  <tbody>\n",
       "    <tr>\n",
       "      <th>0</th>\n",
       "      <td>2000000</td>\n",
       "      <td>19780311</td>\n",
       "    </tr>\n",
       "    <tr>\n",
       "      <th>1</th>\n",
       "      <td>2000001</td>\n",
       "      <td>19870504</td>\n",
       "    </tr>\n",
       "    <tr>\n",
       "      <th>2</th>\n",
       "      <td>2000002</td>\n",
       "      <td>19830806</td>\n",
       "    </tr>\n",
       "    <tr>\n",
       "      <th>3</th>\n",
       "      <td>2000003</td>\n",
       "      <td>19770804</td>\n",
       "    </tr>\n",
       "    <tr>\n",
       "      <th>4</th>\n",
       "      <td>2000004</td>\n",
       "      <td>19780620</td>\n",
       "    </tr>\n",
       "    <tr>\n",
       "      <th>...</th>\n",
       "      <td>...</td>\n",
       "      <td>...</td>\n",
       "    </tr>\n",
       "    <tr>\n",
       "      <th>2827</th>\n",
       "      <td>1002827</td>\n",
       "      <td>20010203</td>\n",
       "    </tr>\n",
       "    <tr>\n",
       "      <th>2828</th>\n",
       "      <td>1002828</td>\n",
       "      <td>19911123</td>\n",
       "    </tr>\n",
       "    <tr>\n",
       "      <th>2829</th>\n",
       "      <td>1002829</td>\n",
       "      <td>19910411</td>\n",
       "    </tr>\n",
       "    <tr>\n",
       "      <th>2830</th>\n",
       "      <td>1002830</td>\n",
       "      <td>19840922</td>\n",
       "    </tr>\n",
       "    <tr>\n",
       "      <th>2831</th>\n",
       "      <td>1002831</td>\n",
       "      <td>20040628</td>\n",
       "    </tr>\n",
       "  </tbody>\n",
       "</table>\n",
       "<p>4987 rows × 2 columns</p>\n",
       "</div>"
      ],
      "text/plain": [
       "      player_id  birth_block\n",
       "0       2000000     19780311\n",
       "1       2000001     19870504\n",
       "2       2000002     19830806\n",
       "3       2000003     19770804\n",
       "4       2000004     19780620\n",
       "...         ...          ...\n",
       "2827    1002827     20010203\n",
       "2828    1002828     19911123\n",
       "2829    1002829     19910411\n",
       "2830    1002830     19840922\n",
       "2831    1002831     20040628\n",
       "\n",
       "[4987 rows x 2 columns]"
      ]
     },
     "execution_count": 19,
     "metadata": {},
     "output_type": "execute_result"
    }
   ],
   "source": [
    "# birth_df.groupby(\"birth_block\").count().sort_values(by = \"player_id\", ascending = False)\n",
    "birth_df"
   ]
  },
  {
   "cell_type": "code",
   "execution_count": 20,
   "id": "25020b93",
   "metadata": {},
   "outputs": [],
   "source": [
    "world_name = world_player[[\"player_id\", \"name\"]]\n",
    "who_name = who_player[[\"player_id\", \"Name\"]].rename({\"Name\" : \"name\"}, axis =1 )\n",
    "name_df = world_name.append(who_name)"
   ]
  },
  {
   "cell_type": "markdown",
   "id": "bb3afd35",
   "metadata": {},
   "source": [
    "# Matching"
   ]
  },
  {
   "cell_type": "code",
   "execution_count": 21,
   "id": "1c8beaed",
   "metadata": {
    "scrolled": true
   },
   "outputs": [],
   "source": [
    "tmp = pd.DataFrame(birth_df.groupby(\"birth_block\")[\"player_id\"].apply(list))\n",
    "match_dict =dict()\n",
    "match_dict2 = dict()\n",
    "id2name = name_df.set_index('player_id').to_dict()[\"name\"]\n",
    "Lev = NormalizedLevenshtein().similarity\n",
    "\n",
    "for idx, row in tmp.iterrows():\n",
    "    if idx != 0 and len(row.player_id)>1:\n",
    "        name_list_1 = []\n",
    "        name_list_2 = []\n",
    "        for idx in row.player_id:\n",
    "            if str(idx)[0] == \"1\":\n",
    "                name_list_1.append((idx,id2name[idx].lower()))\n",
    "            if str(idx)[0] == \"2\":\n",
    "                name_list_2.append((idx,id2name[idx].lower()))\n",
    "        if len(name_list_1) == 0 or len(name_list_2) == 0:\n",
    "            continue\n",
    "        else:\n",
    "            for (idx1, name1) in name_list_1:\n",
    "                for (idx2, name2) in name_list_2:\n",
    "                    if Lev(name1, name2) > 0.4:\n",
    "#                         if Lev(name1, name2) < 0.5:\n",
    "#                             print(name1 +\"\\t\" + name2 + \"\\t\" + str(Lev(name1, name2)))\n",
    "                        try:\n",
    "                            a = match_dict[idx1]\n",
    "                            if Lev(name1, name2) > Lev(name1, a[0][1]):\n",
    "                                match_dict[idx1] = [(idx2, name2)]\n",
    "                                match_dict2[idx2] = [(idx1, name1)]\n",
    "                        except:\n",
    "                            match_dict[idx1] = match_dict.get(idx1, []) + [(idx2, name2)]\n",
    "                            match_dict2[idx2] = match_dict2.get(idx2, []) + [(idx1, name1)]\n",
    "        \n",
    "            \n",
    "                        \n",
    "#                         match_dict[idx1] = match_dict.get(idx1, []) + [(idx2, name2)]\n",
    "#                         match_dict2[idx2] = match_dict2.get(idx2, []) + [(idx1, name1)]\n",
    "        \n",
    "        \n",
    "                        "
   ]
  },
  {
   "cell_type": "code",
   "execution_count": 22,
   "id": "a48e4cbd",
   "metadata": {},
   "outputs": [],
   "source": [
    "id_list1 = [i for i in list(id2player.keys()) if str(i)[0] == \"1\" and i in match_dict.keys()]"
   ]
  },
  {
   "cell_type": "code",
   "execution_count": 23,
   "id": "ad5e53e4",
   "metadata": {},
   "outputs": [],
   "source": [
    "id_list2 = [i for i in list(id2player.keys()) if str(i)[0] == \"2\" and i in match_dict2.keys()]"
   ]
  },
  {
   "cell_type": "code",
   "execution_count": 24,
   "id": "43daa49a",
   "metadata": {},
   "outputs": [],
   "source": [
    "from collections import Counter"
   ]
  },
  {
   "cell_type": "code",
   "execution_count": 25,
   "id": "da6b73bd",
   "metadata": {},
   "outputs": [],
   "source": [
    "tmp = []\n",
    "for i in list(match_dict.values()):\n",
    "    tmp+=i"
   ]
  },
  {
   "cell_type": "code",
   "execution_count": 26,
   "id": "72090a12",
   "metadata": {},
   "outputs": [],
   "source": [
    "tmp = []\n",
    "for i in list(match_dict2.values()):\n",
    "    tmp+=i"
   ]
  },
  {
   "cell_type": "code",
   "execution_count": 27,
   "id": "725a3dcd",
   "metadata": {
    "scrolled": true
   },
   "outputs": [
    {
     "data": {
      "text/plain": [
       "1945"
      ]
     },
     "execution_count": 27,
     "metadata": {},
     "output_type": "execute_result"
    }
   ],
   "source": [
    "len(id_list1)"
   ]
  },
  {
   "cell_type": "code",
   "execution_count": 28,
   "id": "6a5005ae",
   "metadata": {},
   "outputs": [
    {
     "data": {
      "text/plain": [
       "1941"
      ]
     },
     "execution_count": 28,
     "metadata": {},
     "output_type": "execute_result"
    }
   ],
   "source": [
    "len(id_list2)"
   ]
  },
  {
   "cell_type": "code",
   "execution_count": 29,
   "id": "92c388b3",
   "metadata": {},
   "outputs": [
    {
     "data": {
      "text/plain": [
       "1945"
      ]
     },
     "execution_count": 29,
     "metadata": {},
     "output_type": "execute_result"
    }
   ],
   "source": [
    "len(match_dict)"
   ]
  },
  {
   "cell_type": "code",
   "execution_count": 30,
   "id": "59150c20",
   "metadata": {
    "scrolled": false
   },
   "outputs": [
    {
     "data": {
      "text/plain": [
       "[(2000222, [(1000344, 'tyrone mears'), (1000504, 'jermaine jenas')]),\n",
       " (2000207, [(1000473, 'martin olsson'), (1000994, 'marcus olsson')]),\n",
       " (2000018, [(1000036, 'ciaran clark'), (1000569, 'kieran gibbs')]),\n",
       " (2001079, [(1001342, 'muniesa'), (1002597, 'mark gillespie')]),\n",
       " (2000872, [(1000971, 'will keane'), (1000972, 'michael keane')]),\n",
       " (2001668, [(1001100, 'charles banya'), (1002217, 'charlie taylor')]),\n",
       " (2001187, [(1001343, 'josh murphy'), (1002212, 'jacob murphy')]),\n",
       " (2001329, [(1001527, 'josé pozo'), (1001741, 'josh doherty')]),\n",
       " (2001835, [(1002401, 'steven sessegnon'), (1002404, 'ryan sessegnon')])]"
      ]
     },
     "execution_count": 30,
     "metadata": {},
     "output_type": "execute_result"
    }
   ],
   "source": [
    "[i for i in match_dict2.items() if len(i[1])!=1]"
   ]
  },
  {
   "cell_type": "code",
   "execution_count": 31,
   "id": "b34d012a",
   "metadata": {
    "scrolled": true
   },
   "outputs": [
    {
     "data": {
      "text/plain": [
       "[]"
      ]
     },
     "execution_count": 31,
     "metadata": {},
     "output_type": "execute_result"
    }
   ],
   "source": [
    "k = [i for i in match_dict.items() if len(i[1])!=1]\n",
    "k"
   ]
  },
  {
   "cell_type": "code",
   "execution_count": 32,
   "id": "ad8ffda0",
   "metadata": {
    "scrolled": true
   },
   "outputs": [],
   "source": [
    "def f(x):\n",
    "    try:\n",
    "        return match_dict[x][0][0]\n",
    "    except:\n",
    "        return \"No match\"\n",
    "world_player[\"match_player_id\"] = world_player[\"player_id\"].apply(f)"
   ]
  },
  {
   "cell_type": "code",
   "execution_count": null,
   "id": "6a155b7b",
   "metadata": {},
   "outputs": [],
   "source": []
  },
  {
   "cell_type": "code",
   "execution_count": 33,
   "id": "9c81deaf",
   "metadata": {},
   "outputs": [
    {
     "data": {
      "text/html": [
       "<div>\n",
       "<style scoped>\n",
       "    .dataframe tbody tr th:only-of-type {\n",
       "        vertical-align: middle;\n",
       "    }\n",
       "\n",
       "    .dataframe tbody tr th {\n",
       "        vertical-align: top;\n",
       "    }\n",
       "\n",
       "    .dataframe thead th {\n",
       "        text-align: right;\n",
       "    }\n",
       "</style>\n",
       "<table border=\"1\" class=\"dataframe\">\n",
       "  <thead>\n",
       "    <tr style=\"text-align: right;\">\n",
       "      <th></th>\n",
       "      <th>team_history</th>\n",
       "      <th>player_url_x</th>\n",
       "      <th>name</th>\n",
       "      <th>Born</th>\n",
       "      <th>Placeofbirth</th>\n",
       "      <th>Nationality_x</th>\n",
       "      <th>Height_x</th>\n",
       "      <th>Weight</th>\n",
       "      <th>Position(s)</th>\n",
       "      <th>Foot</th>\n",
       "      <th>...</th>\n",
       "      <th>Height_y</th>\n",
       "      <th>Nationality_y</th>\n",
       "      <th>Positions</th>\n",
       "      <th>Strengths</th>\n",
       "      <th>Weaknesses</th>\n",
       "      <th>Style_of_Play</th>\n",
       "      <th>Current Team</th>\n",
       "      <th>DOB</th>\n",
       "      <th>birth_block_y</th>\n",
       "      <th>player_id_y</th>\n",
       "    </tr>\n",
       "  </thead>\n",
       "  <tbody>\n",
       "    <tr>\n",
       "      <th>0</th>\n",
       "      <td>{'0': {'period': '07/2011 - 06/2012', 'team': ...</td>\n",
       "      <td>https://www.worldfootball.net/player_summary/m...</td>\n",
       "      <td>Michael Johnson</td>\n",
       "      <td>[24.02.1988]</td>\n",
       "      <td>[Urmston, England]</td>\n",
       "      <td>[England]</td>\n",
       "      <td>[183cm]</td>\n",
       "      <td>[79kg]</td>\n",
       "      <td>[DefensiveMidfielder]</td>\n",
       "      <td>[right]</td>\n",
       "      <td>...</td>\n",
       "      <td>183cm</td>\n",
       "      <td>England</td>\n",
       "      <td>Midfielder</td>\n",
       "      <td>NaN</td>\n",
       "      <td>NaN</td>\n",
       "      <td>NaN</td>\n",
       "      <td>NaN</td>\n",
       "      <td>24-02-1988</td>\n",
       "      <td>19880224.0</td>\n",
       "      <td>2000534.0</td>\n",
       "    </tr>\n",
       "    <tr>\n",
       "      <th>1</th>\n",
       "      <td>{'0': {'period': '10/2017 - 06/2019', 'team': ...</td>\n",
       "      <td>https://www.worldfootball.net/player_summary/r...</td>\n",
       "      <td>Roger Johnson</td>\n",
       "      <td>[28.04.1983]</td>\n",
       "      <td>[Ashford, England]</td>\n",
       "      <td>[England]</td>\n",
       "      <td>[191cm]</td>\n",
       "      <td>[78kg]</td>\n",
       "      <td>[CentreBack]</td>\n",
       "      <td>[right]</td>\n",
       "      <td>...</td>\n",
       "      <td>191cm</td>\n",
       "      <td>England</td>\n",
       "      <td>Defender (Centre)</td>\n",
       "      <td>[Blocking the ball]</td>\n",
       "      <td>[Passing]</td>\n",
       "      <td>[Indirect set-piece threat, Likes to play long...</td>\n",
       "      <td>NaN</td>\n",
       "      <td>28-04-1983</td>\n",
       "      <td>19830428.0</td>\n",
       "      <td>2000086.0</td>\n",
       "    </tr>\n",
       "    <tr>\n",
       "      <th>2</th>\n",
       "      <td>{'1': {'period': '07/2020 - 08/2020', 'team': ...</td>\n",
       "      <td>https://www.worldfootball.net/player_summary/j...</td>\n",
       "      <td>Jake Jervis</td>\n",
       "      <td>[17.09.1991]</td>\n",
       "      <td>[Wolverhampton, England]</td>\n",
       "      <td>[England]</td>\n",
       "      <td>[191cm]</td>\n",
       "      <td>NaN</td>\n",
       "      <td>[RightWinger, CentreForward]</td>\n",
       "      <td>[right]</td>\n",
       "      <td>...</td>\n",
       "      <td>NaN</td>\n",
       "      <td>NaN</td>\n",
       "      <td>NaN</td>\n",
       "      <td>NaN</td>\n",
       "      <td>NaN</td>\n",
       "      <td>NaN</td>\n",
       "      <td>NaN</td>\n",
       "      <td>NaN</td>\n",
       "      <td>NaN</td>\n",
       "      <td>NaN</td>\n",
       "    </tr>\n",
       "    <tr>\n",
       "      <th>3</th>\n",
       "      <td>{'1': {'period': '07/2016 - 06/2019', 'team': ...</td>\n",
       "      <td>https://www.worldfootball.net/player_summary/j...</td>\n",
       "      <td>Jake Bidwell</td>\n",
       "      <td>[21.03.1993]</td>\n",
       "      <td>[Southport, England]</td>\n",
       "      <td>[England]</td>\n",
       "      <td>[183cm]</td>\n",
       "      <td>[80kg]</td>\n",
       "      <td>[LeftBack, LeftMidfielder]</td>\n",
       "      <td>[left]</td>\n",
       "      <td>...</td>\n",
       "      <td>NaN</td>\n",
       "      <td>NaN</td>\n",
       "      <td>NaN</td>\n",
       "      <td>NaN</td>\n",
       "      <td>NaN</td>\n",
       "      <td>NaN</td>\n",
       "      <td>NaN</td>\n",
       "      <td>NaN</td>\n",
       "      <td>NaN</td>\n",
       "      <td>NaN</td>\n",
       "    </tr>\n",
       "    <tr>\n",
       "      <th>4</th>\n",
       "      <td>{'0': {'period': '07/2013 - 06/2016', 'team': ...</td>\n",
       "      <td>https://www.worldfootball.net/player_summary/b...</td>\n",
       "      <td>Bosingwa</td>\n",
       "      <td>[24.08.1982]</td>\n",
       "      <td>[Mbandaka, CongoDR]</td>\n",
       "      <td>[Portugal, CongoDR]</td>\n",
       "      <td>[183cm]</td>\n",
       "      <td>[75kg]</td>\n",
       "      <td>[RightBack, RightMidfielder]</td>\n",
       "      <td>[right]</td>\n",
       "      <td>...</td>\n",
       "      <td>NaN</td>\n",
       "      <td>NaN</td>\n",
       "      <td>NaN</td>\n",
       "      <td>NaN</td>\n",
       "      <td>NaN</td>\n",
       "      <td>NaN</td>\n",
       "      <td>NaN</td>\n",
       "      <td>NaN</td>\n",
       "      <td>NaN</td>\n",
       "      <td>NaN</td>\n",
       "    </tr>\n",
       "    <tr>\n",
       "      <th>...</th>\n",
       "      <td>...</td>\n",
       "      <td>...</td>\n",
       "      <td>...</td>\n",
       "      <td>...</td>\n",
       "      <td>...</td>\n",
       "      <td>...</td>\n",
       "      <td>...</td>\n",
       "      <td>...</td>\n",
       "      <td>...</td>\n",
       "      <td>...</td>\n",
       "      <td>...</td>\n",
       "      <td>...</td>\n",
       "      <td>...</td>\n",
       "      <td>...</td>\n",
       "      <td>...</td>\n",
       "      <td>...</td>\n",
       "      <td>...</td>\n",
       "      <td>...</td>\n",
       "      <td>...</td>\n",
       "      <td>...</td>\n",
       "      <td>...</td>\n",
       "    </tr>\n",
       "    <tr>\n",
       "      <th>3041</th>\n",
       "      <td>NaN</td>\n",
       "      <td>NaN</td>\n",
       "      <td>NaN</td>\n",
       "      <td>NaN</td>\n",
       "      <td>NaN</td>\n",
       "      <td>NaN</td>\n",
       "      <td>NaN</td>\n",
       "      <td>NaN</td>\n",
       "      <td>NaN</td>\n",
       "      <td>NaN</td>\n",
       "      <td>...</td>\n",
       "      <td>190cm</td>\n",
       "      <td>Brazil</td>\n",
       "      <td>Defender (Centre)</td>\n",
       "      <td>[Passing]</td>\n",
       "      <td>[]</td>\n",
       "      <td>[Likes to play short passes, Commits fouls often]</td>\n",
       "      <td>Arsenal</td>\n",
       "      <td>19-12-1997</td>\n",
       "      <td>19971219.0</td>\n",
       "      <td>2002066.0</td>\n",
       "    </tr>\n",
       "    <tr>\n",
       "      <th>3042</th>\n",
       "      <td>NaN</td>\n",
       "      <td>NaN</td>\n",
       "      <td>NaN</td>\n",
       "      <td>NaN</td>\n",
       "      <td>NaN</td>\n",
       "      <td>NaN</td>\n",
       "      <td>NaN</td>\n",
       "      <td>NaN</td>\n",
       "      <td>NaN</td>\n",
       "      <td>NaN</td>\n",
       "      <td>...</td>\n",
       "      <td>178cm</td>\n",
       "      <td>Brazil</td>\n",
       "      <td>Midfielder (Left)</td>\n",
       "      <td>[Holding on to the ball, Tackling, Concentration]</td>\n",
       "      <td>[]</td>\n",
       "      <td>[Commits fouls often]</td>\n",
       "      <td>Wolverhampton Wanderers</td>\n",
       "      <td>19-02-1989</td>\n",
       "      <td>19890219.0</td>\n",
       "      <td>2002098.0</td>\n",
       "    </tr>\n",
       "    <tr>\n",
       "      <th>3043</th>\n",
       "      <td>NaN</td>\n",
       "      <td>NaN</td>\n",
       "      <td>NaN</td>\n",
       "      <td>NaN</td>\n",
       "      <td>NaN</td>\n",
       "      <td>NaN</td>\n",
       "      <td>NaN</td>\n",
       "      <td>NaN</td>\n",
       "      <td>NaN</td>\n",
       "      <td>NaN</td>\n",
       "      <td>...</td>\n",
       "      <td>190cm</td>\n",
       "      <td>NaN</td>\n",
       "      <td>Forward</td>\n",
       "      <td>[Long shots, Defensive contribution]</td>\n",
       "      <td>[Finishing, Aerial Duels, Holding on to the ball]</td>\n",
       "      <td>[Likes to dribble]</td>\n",
       "      <td>Burton</td>\n",
       "      <td>13-08-2003</td>\n",
       "      <td>20030813.0</td>\n",
       "      <td>2002099.0</td>\n",
       "    </tr>\n",
       "    <tr>\n",
       "      <th>3044</th>\n",
       "      <td>NaN</td>\n",
       "      <td>NaN</td>\n",
       "      <td>NaN</td>\n",
       "      <td>NaN</td>\n",
       "      <td>NaN</td>\n",
       "      <td>NaN</td>\n",
       "      <td>NaN</td>\n",
       "      <td>NaN</td>\n",
       "      <td>NaN</td>\n",
       "      <td>NaN</td>\n",
       "      <td>...</td>\n",
       "      <td>175cm</td>\n",
       "      <td>Croatia</td>\n",
       "      <td>Midfielder (Centre, Left)</td>\n",
       "      <td>[Tackling]</td>\n",
       "      <td>[]</td>\n",
       "      <td>[Gets fouled often, Likes to do layoffs, Likes...</td>\n",
       "      <td>Hajduk Split</td>\n",
       "      <td>29-08-1995</td>\n",
       "      <td>19950829.0</td>\n",
       "      <td>2002105.0</td>\n",
       "    </tr>\n",
       "    <tr>\n",
       "      <th>3045</th>\n",
       "      <td>NaN</td>\n",
       "      <td>NaN</td>\n",
       "      <td>NaN</td>\n",
       "      <td>NaN</td>\n",
       "      <td>NaN</td>\n",
       "      <td>NaN</td>\n",
       "      <td>NaN</td>\n",
       "      <td>NaN</td>\n",
       "      <td>NaN</td>\n",
       "      <td>NaN</td>\n",
       "      <td>...</td>\n",
       "      <td>172cm</td>\n",
       "      <td>Portugal</td>\n",
       "      <td>Attacking Midfielder (Centre)</td>\n",
       "      <td>[Long shots, Through balls, Passing, Taking se...</td>\n",
       "      <td>[Finishing]</td>\n",
       "      <td>[Likes to play short passes, Likes to shoot fr...</td>\n",
       "      <td>FC Porto</td>\n",
       "      <td>13-02-2000</td>\n",
       "      <td>20000213.0</td>\n",
       "      <td>2002113.0</td>\n",
       "    </tr>\n",
       "  </tbody>\n",
       "</table>\n",
       "<p>3046 rows × 30 columns</p>\n",
       "</div>"
      ],
      "text/plain": [
       "                                           team_history  \\\n",
       "0     {'0': {'period': '07/2011 - 06/2012', 'team': ...   \n",
       "1     {'0': {'period': '10/2017 - 06/2019', 'team': ...   \n",
       "2     {'1': {'period': '07/2020 - 08/2020', 'team': ...   \n",
       "3     {'1': {'period': '07/2016 - 06/2019', 'team': ...   \n",
       "4     {'0': {'period': '07/2013 - 06/2016', 'team': ...   \n",
       "...                                                 ...   \n",
       "3041                                                NaN   \n",
       "3042                                                NaN   \n",
       "3043                                                NaN   \n",
       "3044                                                NaN   \n",
       "3045                                                NaN   \n",
       "\n",
       "                                           player_url_x             name  \\\n",
       "0     https://www.worldfootball.net/player_summary/m...  Michael Johnson   \n",
       "1     https://www.worldfootball.net/player_summary/r...    Roger Johnson   \n",
       "2     https://www.worldfootball.net/player_summary/j...      Jake Jervis   \n",
       "3     https://www.worldfootball.net/player_summary/j...     Jake Bidwell   \n",
       "4     https://www.worldfootball.net/player_summary/b...         Bosingwa   \n",
       "...                                                 ...              ...   \n",
       "3041                                                NaN              NaN   \n",
       "3042                                                NaN              NaN   \n",
       "3043                                                NaN              NaN   \n",
       "3044                                                NaN              NaN   \n",
       "3045                                                NaN              NaN   \n",
       "\n",
       "              Born              Placeofbirth        Nationality_x Height_x  \\\n",
       "0     [24.02.1988]        [Urmston, England]            [England]  [183cm]   \n",
       "1     [28.04.1983]        [Ashford, England]            [England]  [191cm]   \n",
       "2     [17.09.1991]  [Wolverhampton, England]            [England]  [191cm]   \n",
       "3     [21.03.1993]      [Southport, England]            [England]  [183cm]   \n",
       "4     [24.08.1982]       [Mbandaka, CongoDR]  [Portugal, CongoDR]  [183cm]   \n",
       "...            ...                       ...                  ...      ...   \n",
       "3041           NaN                       NaN                  NaN      NaN   \n",
       "3042           NaN                       NaN                  NaN      NaN   \n",
       "3043           NaN                       NaN                  NaN      NaN   \n",
       "3044           NaN                       NaN                  NaN      NaN   \n",
       "3045           NaN                       NaN                  NaN      NaN   \n",
       "\n",
       "      Weight                   Position(s)     Foot  ... Height_y  \\\n",
       "0     [79kg]         [DefensiveMidfielder]  [right]  ...    183cm   \n",
       "1     [78kg]                  [CentreBack]  [right]  ...    191cm   \n",
       "2        NaN  [RightWinger, CentreForward]  [right]  ...      NaN   \n",
       "3     [80kg]    [LeftBack, LeftMidfielder]   [left]  ...      NaN   \n",
       "4     [75kg]  [RightBack, RightMidfielder]  [right]  ...      NaN   \n",
       "...      ...                           ...      ...  ...      ...   \n",
       "3041     NaN                           NaN      NaN  ...    190cm   \n",
       "3042     NaN                           NaN      NaN  ...    178cm   \n",
       "3043     NaN                           NaN      NaN  ...    190cm   \n",
       "3044     NaN                           NaN      NaN  ...    175cm   \n",
       "3045     NaN                           NaN      NaN  ...    172cm   \n",
       "\n",
       "     Nationality_y                      Positions  \\\n",
       "0          England                     Midfielder   \n",
       "1          England              Defender (Centre)   \n",
       "2              NaN                            NaN   \n",
       "3              NaN                            NaN   \n",
       "4              NaN                            NaN   \n",
       "...            ...                            ...   \n",
       "3041        Brazil              Defender (Centre)   \n",
       "3042        Brazil              Midfielder (Left)   \n",
       "3043           NaN                        Forward   \n",
       "3044       Croatia      Midfielder (Centre, Left)   \n",
       "3045      Portugal  Attacking Midfielder (Centre)   \n",
       "\n",
       "                                              Strengths  \\\n",
       "0                                                   NaN   \n",
       "1                                   [Blocking the ball]   \n",
       "2                                                   NaN   \n",
       "3                                                   NaN   \n",
       "4                                                   NaN   \n",
       "...                                                 ...   \n",
       "3041                                          [Passing]   \n",
       "3042  [Holding on to the ball, Tackling, Concentration]   \n",
       "3043               [Long shots, Defensive contribution]   \n",
       "3044                                         [Tackling]   \n",
       "3045  [Long shots, Through balls, Passing, Taking se...   \n",
       "\n",
       "                                             Weaknesses  \\\n",
       "0                                                   NaN   \n",
       "1                                             [Passing]   \n",
       "2                                                   NaN   \n",
       "3                                                   NaN   \n",
       "4                                                   NaN   \n",
       "...                                                 ...   \n",
       "3041                                                 []   \n",
       "3042                                                 []   \n",
       "3043  [Finishing, Aerial Duels, Holding on to the ball]   \n",
       "3044                                                 []   \n",
       "3045                                        [Finishing]   \n",
       "\n",
       "                                          Style_of_Play  \\\n",
       "0                                                   NaN   \n",
       "1     [Indirect set-piece threat, Likes to play long...   \n",
       "2                                                   NaN   \n",
       "3                                                   NaN   \n",
       "4                                                   NaN   \n",
       "...                                                 ...   \n",
       "3041  [Likes to play short passes, Commits fouls often]   \n",
       "3042                              [Commits fouls often]   \n",
       "3043                                 [Likes to dribble]   \n",
       "3044  [Gets fouled often, Likes to do layoffs, Likes...   \n",
       "3045  [Likes to play short passes, Likes to shoot fr...   \n",
       "\n",
       "                 Current Team         DOB birth_block_y player_id_y  \n",
       "0                         NaN  24-02-1988    19880224.0   2000534.0  \n",
       "1                         NaN  28-04-1983    19830428.0   2000086.0  \n",
       "2                         NaN         NaN           NaN         NaN  \n",
       "3                         NaN         NaN           NaN         NaN  \n",
       "4                         NaN         NaN           NaN         NaN  \n",
       "...                       ...         ...           ...         ...  \n",
       "3041                  Arsenal  19-12-1997    19971219.0   2002066.0  \n",
       "3042  Wolverhampton Wanderers  19-02-1989    19890219.0   2002098.0  \n",
       "3043                   Burton  13-08-2003    20030813.0   2002099.0  \n",
       "3044             Hajduk Split  29-08-1995    19950829.0   2002105.0  \n",
       "3045                 FC Porto  13-02-2000    20000213.0   2002113.0  \n",
       "\n",
       "[3046 rows x 30 columns]"
      ]
     },
     "execution_count": 33,
     "metadata": {},
     "output_type": "execute_result"
    }
   ],
   "source": [
    "# outer join in python pandas\n",
    "outer_join_df=pd.merge(world_player, who_player, left_on = \"match_player_id\", right_on = \"player_id\", how='outer')\n",
    "outer_join_df\n"
   ]
  },
  {
   "cell_type": "code",
   "execution_count": 34,
   "id": "fb4bdbde",
   "metadata": {},
   "outputs": [],
   "source": [
    "outer_join_df.to_csv(\"../data_\" + \"player_join.csv\")"
   ]
  },
  {
   "cell_type": "markdown",
   "id": "68f0fb02",
   "metadata": {},
   "source": [
    "# PSL DATA Generation\n"
   ]
  },
  {
   "cell_type": "code",
   "execution_count": 35,
   "id": "4d5fa0b5",
   "metadata": {},
   "outputs": [],
   "source": [
    "data_dir = 'PSL_data/'"
   ]
  },
  {
   "cell_type": "code",
   "execution_count": 36,
   "id": "f1f62ddf",
   "metadata": {
    "scrolled": true
   },
   "outputs": [],
   "source": [
    "# count = []\n",
    "# for i in birth_df.groupby(\"birth_block\")[\"player_id\"].apply(list):\n",
    "#     list1 = []\n",
    "#     list2 = []\n",
    "#     if len(i)>1:\n",
    "#         for ele in i:\n",
    "#             if str(ele)[0] == '1':\n",
    "#                 list1.append(ele)\n",
    "#             else:\n",
    "#                 list2.append(ele)\n",
    "\n",
    "#             count.append(len(list1) * len(list2))"
   ]
  },
  {
   "cell_type": "code",
   "execution_count": 37,
   "id": "e2d77eaf",
   "metadata": {},
   "outputs": [],
   "source": [
    "# max(count)"
   ]
  },
  {
   "cell_type": "code",
   "execution_count": 38,
   "id": "1eab78bc",
   "metadata": {},
   "outputs": [],
   "source": [
    "# count1 = 0\n",
    "# count2 = 0\n",
    "# for i in list(id2player.keys()):\n",
    "#     if str(i)[0] == '1':\n",
    "#         count1 += 1\n",
    "#     else:\n",
    "#         count2 += 1"
   ]
  },
  {
   "cell_type": "code",
   "execution_count": 39,
   "id": "769f898d",
   "metadata": {},
   "outputs": [],
   "source": [
    "## Birth Block\n",
    "with open(data_dir + \"birthBlock_obs.txt\", \"w\") as f:\n",
    "    for idx, row in birth_df.iterrows():\n",
    "        f.write(str(row.player_id) + \"\\t\" + str(row.birth_block) + \"\\n\")"
   ]
  },
  {
   "cell_type": "code",
   "execution_count": 40,
   "id": "7f7e6fd9",
   "metadata": {},
   "outputs": [],
   "source": [
    "# count1*count2"
   ]
  },
  {
   "cell_type": "code",
   "execution_count": 41,
   "id": "103d015d",
   "metadata": {},
   "outputs": [],
   "source": [
    "## Name sim\n",
    "Lev = NormalizedLevenshtein().similarity\n",
    "with open(data_dir + \"simName_obs.txt\", \"w\") as f:\n",
    "    tmp = pd.DataFrame(birth_df.groupby(\"birth_block\")[\"player_id\"].apply(list))\n",
    "    for id_list in tmp[\"player_id\"]:\n",
    "        for idx1 in id_list:\n",
    "            for idx2 in id_list:\n",
    "                name1 = str(list(name_df[name_df[\"player_id\"] == int(idx1)][\"name\"])[0])\n",
    "                name2 = str(list(name_df[name_df[\"player_id\"] == int(idx2)][\"name\"])[0])\n",
    "                f.write(str(idx1) + \"\\t\" + str(idx2) + \"\\t\" + str(Lev(name1.lower(), name2.lower() )) + \"\\n\")\n",
    "\n",
    "with open(data_dir + \"simName_obs.txt\", \"r\") as f:\n",
    "    simName = f.read()\n",
    "\n",
    "with open(data_dir + \"simName_obs.txt\", \"w\") as f:\n",
    "    for i in set(simName.split(\"\\n\")):\n",
    "        if i != \"\":\n",
    "            f.write(i + \"\\n\")"
   ]
  },
  {
   "cell_type": "code",
   "execution_count": 42,
   "id": "9d903cf9",
   "metadata": {
    "scrolled": false
   },
   "outputs": [],
   "source": [
    "# 1-(count/(count1*count2))"
   ]
  },
  {
   "cell_type": "code",
   "execution_count": 43,
   "id": "9f4db388",
   "metadata": {},
   "outputs": [],
   "source": [
    "## target\n",
    "with open(data_dir + \"same_player_target.txt\", \"w\") as f:\n",
    "    tmp = pd.DataFrame(birth_df.groupby(\"birth_block\")[\"player_id\"].apply(list))\n",
    "    for id_list in tmp[\"player_id\"]:\n",
    "        for idx1 in id_list:\n",
    "            for idx2 in id_list:\n",
    "                f.write(str(int(idx1)) + \"\\t\" + str(int(idx2)) + \"\\n\")\n",
    "                \n",
    "with open(data_dir + \"same_player_target.txt\", \"r\") as f:\n",
    "    data = f.read()\n",
    "\n",
    "with open(data_dir + \"same_player_target.txt\", \"w\") as f:\n",
    "    for i in set(data.split(\"\\n\")):\n",
    "        if i != \"\":\n",
    "            f.write(i + \"\\n\")\n",
    "\n"
   ]
  },
  {
   "cell_type": "code",
   "execution_count": 44,
   "id": "ee53247b",
   "metadata": {},
   "outputs": [],
   "source": [
    "# tmp = world_player[[\"name\",\"player_url\"]]\n",
    "world_player[\"player_id\"] = world_player[\"player_url\"].apply(lambda x : player2id[x])\n",
    "who_player[\"player_id\"] = who_player[\"player_url\"].apply(lambda x : player2id[x])\n"
   ]
  },
  {
   "cell_type": "code",
   "execution_count": 45,
   "id": "b7bb2b0f",
   "metadata": {},
   "outputs": [],
   "source": [
    "## playerName_obs.txt\n",
    "with open(\"PSL_data/playerName_obs.txt\", \"w\") as f:\n",
    "    for idx, player in id2player.items():\n",
    "        f.write(str(idx) + \"\\t\" + player + \"\\n\")"
   ]
  },
  {
   "cell_type": "code",
   "execution_count": null,
   "id": "7a04c20b",
   "metadata": {},
   "outputs": [],
   "source": []
  },
  {
   "cell_type": "code",
   "execution_count": null,
   "id": "9f58f3d9",
   "metadata": {},
   "outputs": [],
   "source": []
  },
  {
   "cell_type": "code",
   "execution_count": null,
   "id": "50ba738d",
   "metadata": {},
   "outputs": [],
   "source": []
  },
  {
   "cell_type": "code",
   "execution_count": null,
   "id": "44315100",
   "metadata": {},
   "outputs": [],
   "source": []
  }
 ],
 "metadata": {
  "kernelspec": {
   "display_name": "Python 3",
   "language": "python",
   "name": "python3"
  },
  "language_info": {
   "codemirror_mode": {
    "name": "ipython",
    "version": 3
   },
   "file_extension": ".py",
   "mimetype": "text/x-python",
   "name": "python",
   "nbconvert_exporter": "python",
   "pygments_lexer": "ipython3",
   "version": "3.7.7"
  }
 },
 "nbformat": 4,
 "nbformat_minor": 5
}
