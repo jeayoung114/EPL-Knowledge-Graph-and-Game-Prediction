{
 "cells": [
  {
   "cell_type": "code",
   "execution_count": 6,
   "id": "f89c620c",
   "metadata": {},
   "outputs": [],
   "source": [
    "import pandas as pd\n",
    "import fileinput\n",
    "import json"
   ]
  },
  {
   "cell_type": "code",
   "execution_count": 7,
   "id": "bd75deea",
   "metadata": {},
   "outputs": [
    {
     "data": {
      "text/html": [
       "<div>\n",
       "<style scoped>\n",
       "    .dataframe tbody tr th:only-of-type {\n",
       "        vertical-align: middle;\n",
       "    }\n",
       "\n",
       "    .dataframe tbody tr th {\n",
       "        vertical-align: top;\n",
       "    }\n",
       "\n",
       "    .dataframe thead th {\n",
       "        text-align: right;\n",
       "    }\n",
       "</style>\n",
       "<table border=\"1\" class=\"dataframe\">\n",
       "  <thead>\n",
       "    <tr style=\"text-align: right;\">\n",
       "      <th></th>\n",
       "      <th>name</th>\n",
       "      <th>season</th>\n",
       "      <th>team</th>\n",
       "      <th>DateOfBirth</th>\n",
       "      <th>height</th>\n",
       "      <th>Position</th>\n",
       "    </tr>\n",
       "  </thead>\n",
       "  <tbody>\n",
       "    <tr>\n",
       "      <th>0</th>\n",
       "      <td>David Carney</td>\n",
       "      <td>2000/2001</td>\n",
       "      <td>Everton FC</td>\n",
       "      <td>30/11/1983</td>\n",
       "      <td>181 cm</td>\n",
       "      <td>MF</td>\n",
       "    </tr>\n",
       "    <tr>\n",
       "      <th>1</th>\n",
       "      <td>Stephen Carr</td>\n",
       "      <td>2000/2001</td>\n",
       "      <td>Tottenham Hotspur</td>\n",
       "      <td>29/08/1976</td>\n",
       "      <td>175 cm</td>\n",
       "      <td>DF</td>\n",
       "    </tr>\n",
       "    <tr>\n",
       "      <th>2</th>\n",
       "      <td>Jamie Carragher</td>\n",
       "      <td>2000/2001</td>\n",
       "      <td>Liverpool FC</td>\n",
       "      <td>28/01/1978</td>\n",
       "      <td>185 cm</td>\n",
       "      <td>DF</td>\n",
       "    </tr>\n",
       "    <tr>\n",
       "      <th>3</th>\n",
       "      <td>Michael Carrick</td>\n",
       "      <td>2000/2001</td>\n",
       "      <td>West Ham United</td>\n",
       "      <td>28/07/1981</td>\n",
       "      <td>186 cm</td>\n",
       "      <td>MF</td>\n",
       "    </tr>\n",
       "    <tr>\n",
       "      <th>4</th>\n",
       "      <td>Lee Carsley</td>\n",
       "      <td>2000/2001</td>\n",
       "      <td>Coventry City</td>\n",
       "      <td>28/02/1974</td>\n",
       "      <td>178 cm</td>\n",
       "      <td>MF</td>\n",
       "    </tr>\n",
       "  </tbody>\n",
       "</table>\n",
       "</div>"
      ],
      "text/plain": [
       "              name     season               team DateOfBirth  height Position\n",
       "0     David Carney  2000/2001         Everton FC  30/11/1983  181 cm       MF\n",
       "1     Stephen Carr  2000/2001  Tottenham Hotspur  29/08/1976  175 cm       DF\n",
       "2  Jamie Carragher  2000/2001       Liverpool FC  28/01/1978  185 cm       DF\n",
       "3  Michael Carrick  2000/2001    West Ham United  28/07/1981  186 cm       MF\n",
       "4      Lee Carsley  2000/2001      Coventry City  28/02/1974  178 cm       MF"
      ]
     },
     "execution_count": 7,
     "metadata": {},
     "output_type": "execute_result"
    }
   ],
   "source": [
    "df = pd.DataFrame()\n",
    "with fileinput.input(files='/Users/jaeyoungkim/Desktop/usc/DSCI - 558/project/github/Untitled/name_crawler/player.jl') as file:\n",
    "    for line in file:\n",
    "        conv = json.loads(line)\n",
    "        df = df.append(conv, ignore_index=True)\n",
    "df.head()"
   ]
  },
  {
   "cell_type": "code",
   "execution_count": 8,
   "id": "1aedf7ce",
   "metadata": {},
   "outputs": [
    {
     "data": {
      "text/plain": [
       "13006"
      ]
     },
     "execution_count": 8,
     "metadata": {},
     "output_type": "execute_result"
    }
   ],
   "source": [
    "len(df)"
   ]
  },
  {
   "cell_type": "code",
   "execution_count": 14,
   "id": "9e987eb9",
   "metadata": {},
   "outputs": [],
   "source": [
    "unique_players = df[[\"name\"]].drop_duplicates()\n",
    "unique_teams = df[[\"team\"]].drop_duplicates()"
   ]
  },
  {
   "cell_type": "code",
   "execution_count": 18,
   "id": "46ee602f",
   "metadata": {},
   "outputs": [
    {
     "name": "stdout",
     "output_type": "stream",
     "text": [
      "# of unique players :  4337\n",
      "# of unique teams :  43\n"
     ]
    }
   ],
   "source": [
    "print(\"# of unique players : \",len(unique_players))\n",
    "print(\"# of unique teams : \",len(unique_teams))"
   ]
  },
  {
   "cell_type": "code",
   "execution_count": 35,
   "id": "628e27ea",
   "metadata": {},
   "outputs": [],
   "source": [
    "df2 = df"
   ]
  },
  {
   "cell_type": "code",
   "execution_count": 36,
   "id": "4626f342",
   "metadata": {},
   "outputs": [],
   "source": [
    "def f(x):\n",
    "    return x[\"season\"] + \"-\" + x[\"team\"]\n",
    "\n",
    "df2[\"season_team\"] = df2[[\"season\", \"team\"]].apply(lambda x : f(x), axis = 1)"
   ]
  },
  {
   "cell_type": "code",
   "execution_count": 37,
   "id": "f262f27b",
   "metadata": {},
   "outputs": [],
   "source": [
    "df2 = df2.groupby(\"name\")[\"season_team\"].apply(list).reset_index(name='season_team')"
   ]
  },
  {
   "cell_type": "code",
   "execution_count": 39,
   "id": "cb717e36",
   "metadata": {},
   "outputs": [],
   "source": [
    "df2['length'] = df2[\"season_team\"].apply(len)"
   ]
  },
  {
   "cell_type": "code",
   "execution_count": 42,
   "id": "712c93b2",
   "metadata": {},
   "outputs": [
    {
     "data": {
      "text/html": [
       "<div>\n",
       "<style scoped>\n",
       "    .dataframe tbody tr th:only-of-type {\n",
       "        vertical-align: middle;\n",
       "    }\n",
       "\n",
       "    .dataframe tbody tr th {\n",
       "        vertical-align: top;\n",
       "    }\n",
       "\n",
       "    .dataframe thead th {\n",
       "        text-align: right;\n",
       "    }\n",
       "</style>\n",
       "<table border=\"1\" class=\"dataframe\">\n",
       "  <thead>\n",
       "    <tr style=\"text-align: right;\">\n",
       "      <th></th>\n",
       "      <th>name</th>\n",
       "      <th>season_team</th>\n",
       "      <th>length</th>\n",
       "    </tr>\n",
       "  </thead>\n",
       "  <tbody>\n",
       "    <tr>\n",
       "      <th>0</th>\n",
       "      <td>Aaron Brown</td>\n",
       "      <td>[2007/2008-Reading FC]</td>\n",
       "      <td>1</td>\n",
       "    </tr>\n",
       "    <tr>\n",
       "      <th>1</th>\n",
       "      <td>Aaron Connolly</td>\n",
       "      <td>[2017/2018-Brighton &amp; Hove Albion, 2019/2020-B...</td>\n",
       "      <td>3</td>\n",
       "    </tr>\n",
       "    <tr>\n",
       "      <th>2</th>\n",
       "      <td>Aaron Cresswell</td>\n",
       "      <td>[2014/2015-West Ham United, 2015/2016-West Ham...</td>\n",
       "      <td>7</td>\n",
       "    </tr>\n",
       "    <tr>\n",
       "      <th>3</th>\n",
       "      <td>Aaron Doran</td>\n",
       "      <td>[2008/2009-Blackburn Rovers, 2009/2010-Blackbu...</td>\n",
       "      <td>2</td>\n",
       "    </tr>\n",
       "    <tr>\n",
       "      <th>4</th>\n",
       "      <td>Aaron Hughes</td>\n",
       "      <td>[2000/2001-Newcastle United, 2001/2002-Newcast...</td>\n",
       "      <td>13</td>\n",
       "    </tr>\n",
       "    <tr>\n",
       "      <th>...</th>\n",
       "      <td>...</td>\n",
       "      <td>...</td>\n",
       "      <td>...</td>\n",
       "    </tr>\n",
       "    <tr>\n",
       "      <th>4332</th>\n",
       "      <td>İlkay Gündoğan</td>\n",
       "      <td>[2016/2017-Manchester City, 2017/2018-Manchest...</td>\n",
       "      <td>5</td>\n",
       "    </tr>\n",
       "    <tr>\n",
       "      <th>4333</th>\n",
       "      <td>Ľubomir Michalík</td>\n",
       "      <td>[2006/2007-Bolton Wanderers]</td>\n",
       "      <td>1</td>\n",
       "    </tr>\n",
       "    <tr>\n",
       "      <th>4334</th>\n",
       "      <td>Ľubomír Šatka</td>\n",
       "      <td>[2013/2014-Newcastle United, 2014/2015-Newcast...</td>\n",
       "      <td>2</td>\n",
       "    </tr>\n",
       "    <tr>\n",
       "      <th>4335</th>\n",
       "      <td>Łukasz Fabiański</td>\n",
       "      <td>[2007/2008-Arsenal FC, 2008/2009-Arsenal FC, 2...</td>\n",
       "      <td>14</td>\n",
       "    </tr>\n",
       "    <tr>\n",
       "      <th>4336</th>\n",
       "      <td>Žan Luk Leban</td>\n",
       "      <td>[2020/2021-Everton FC]</td>\n",
       "      <td>1</td>\n",
       "    </tr>\n",
       "  </tbody>\n",
       "</table>\n",
       "<p>4337 rows × 3 columns</p>\n",
       "</div>"
      ],
      "text/plain": [
       "                  name                                        season_team  \\\n",
       "0          Aaron Brown                             [2007/2008-Reading FC]   \n",
       "1       Aaron Connolly  [2017/2018-Brighton & Hove Albion, 2019/2020-B...   \n",
       "2      Aaron Cresswell  [2014/2015-West Ham United, 2015/2016-West Ham...   \n",
       "3          Aaron Doran  [2008/2009-Blackburn Rovers, 2009/2010-Blackbu...   \n",
       "4         Aaron Hughes  [2000/2001-Newcastle United, 2001/2002-Newcast...   \n",
       "...                ...                                                ...   \n",
       "4332    İlkay Gündoğan  [2016/2017-Manchester City, 2017/2018-Manchest...   \n",
       "4333  Ľubomir Michalík                       [2006/2007-Bolton Wanderers]   \n",
       "4334     Ľubomír Šatka  [2013/2014-Newcastle United, 2014/2015-Newcast...   \n",
       "4335  Łukasz Fabiański  [2007/2008-Arsenal FC, 2008/2009-Arsenal FC, 2...   \n",
       "4336     Žan Luk Leban                             [2020/2021-Everton FC]   \n",
       "\n",
       "      length  \n",
       "0          1  \n",
       "1          3  \n",
       "2          7  \n",
       "3          2  \n",
       "4         13  \n",
       "...      ...  \n",
       "4332       5  \n",
       "4333       1  \n",
       "4334       2  \n",
       "4335      14  \n",
       "4336       1  \n",
       "\n",
       "[4337 rows x 3 columns]"
      ]
     },
     "execution_count": 42,
     "metadata": {},
     "output_type": "execute_result"
    }
   ],
   "source": [
    "df2"
   ]
  },
  {
   "cell_type": "code",
   "execution_count": 41,
   "id": "0e52c9ae",
   "metadata": {},
   "outputs": [
    {
     "data": {
      "text/plain": [
       "2.998847129352087"
      ]
     },
     "execution_count": 41,
     "metadata": {},
     "output_type": "execute_result"
    }
   ],
   "source": [
    "## avg # of seaons per player\n",
    "sum(df2['length'])/len(df2)"
   ]
  },
  {
   "cell_type": "code",
   "execution_count": null,
   "id": "6b01eace",
   "metadata": {},
   "outputs": [],
   "source": []
  }
 ],
 "metadata": {
  "kernelspec": {
   "display_name": "Python 3",
   "language": "python",
   "name": "python3"
  },
  "language_info": {
   "codemirror_mode": {
    "name": "ipython",
    "version": 3
   },
   "file_extension": ".py",
   "mimetype": "text/x-python",
   "name": "python",
   "nbconvert_exporter": "python",
   "pygments_lexer": "ipython3",
   "version": "3.7.7"
  }
 },
 "nbformat": 4,
 "nbformat_minor": 5
}
