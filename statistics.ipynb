{
 "cells": [
  {
   "cell_type": "code",
   "execution_count": 6,
   "id": "e38a0873",
   "metadata": {},
   "outputs": [],
   "source": [
    "import pandas as pd\n",
    "import fileinput\n",
    "import json"
   ]
  },
  {
   "cell_type": "code",
   "execution_count": 7,
   "id": "098ff37f",
   "metadata": {},
   "outputs": [
    {
     "data": {
      "text/html": [
       "<div>\n",
       "<style scoped>\n",
       "    .dataframe tbody tr th:only-of-type {\n",
       "        vertical-align: middle;\n",
       "    }\n",
       "\n",
       "    .dataframe tbody tr th {\n",
       "        vertical-align: top;\n",
       "    }\n",
       "\n",
       "    .dataframe thead th {\n",
       "        text-align: right;\n",
       "    }\n",
       "</style>\n",
       "<table border=\"1\" class=\"dataframe\">\n",
       "  <thead>\n",
       "    <tr style=\"text-align: right;\">\n",
       "      <th></th>\n",
       "      <th>name</th>\n",
       "      <th>season</th>\n",
       "      <th>team</th>\n",
       "      <th>DateOfBirth</th>\n",
       "      <th>height</th>\n",
       "      <th>Position</th>\n",
       "    </tr>\n",
       "  </thead>\n",
       "  <tbody>\n",
       "    <tr>\n",
       "      <th>0</th>\n",
       "      <td>David Carney</td>\n",
       "      <td>2000/2001</td>\n",
       "      <td>Everton FC</td>\n",
       "      <td>30/11/1983</td>\n",
       "      <td>181 cm</td>\n",
       "      <td>MF</td>\n",
       "    </tr>\n",
       "    <tr>\n",
       "      <th>1</th>\n",
       "      <td>Stephen Carr</td>\n",
       "      <td>2000/2001</td>\n",
       "      <td>Tottenham Hotspur</td>\n",
       "      <td>29/08/1976</td>\n",
       "      <td>175 cm</td>\n",
       "      <td>DF</td>\n",
       "    </tr>\n",
       "    <tr>\n",
       "      <th>2</th>\n",
       "      <td>Jamie Carragher</td>\n",
       "      <td>2000/2001</td>\n",
       "      <td>Liverpool FC</td>\n",
       "      <td>28/01/1978</td>\n",
       "      <td>185 cm</td>\n",
       "      <td>DF</td>\n",
       "    </tr>\n",
       "    <tr>\n",
       "      <th>3</th>\n",
       "      <td>Michael Carrick</td>\n",
       "      <td>2000/2001</td>\n",
       "      <td>West Ham United</td>\n",
       "      <td>28/07/1981</td>\n",
       "      <td>186 cm</td>\n",
       "      <td>MF</td>\n",
       "    </tr>\n",
       "    <tr>\n",
       "      <th>4</th>\n",
       "      <td>Lee Carsley</td>\n",
       "      <td>2000/2001</td>\n",
       "      <td>Coventry City</td>\n",
       "      <td>28/02/1974</td>\n",
       "      <td>178 cm</td>\n",
       "      <td>MF</td>\n",
       "    </tr>\n",
       "  </tbody>\n",
       "</table>\n",
       "</div>"
      ],
      "text/plain": [
       "              name     season               team DateOfBirth  height Position\n",
       "0     David Carney  2000/2001         Everton FC  30/11/1983  181 cm       MF\n",
       "1     Stephen Carr  2000/2001  Tottenham Hotspur  29/08/1976  175 cm       DF\n",
       "2  Jamie Carragher  2000/2001       Liverpool FC  28/01/1978  185 cm       DF\n",
       "3  Michael Carrick  2000/2001    West Ham United  28/07/1981  186 cm       MF\n",
       "4      Lee Carsley  2000/2001      Coventry City  28/02/1974  178 cm       MF"
      ]
     },
     "execution_count": 7,
     "metadata": {},
     "output_type": "execute_result"
    }
   ],
   "source": [
    "df = pd.DataFrame()\n",
    "with fileinput.input(files='/Users/jaeyoungkim/Desktop/usc/DSCI - 558/project/github/Untitled/name_crawler/player.jl') as file:\n",
    "    for line in file:\n",
    "        conv = json.loads(line)\n",
    "        df = df.append(conv, ignore_index=True)\n",
    "df.head()"
   ]
  },
  {
   "cell_type": "code",
   "execution_count": 8,
   "id": "3e9e9838",
   "metadata": {},
   "outputs": [
    {
     "data": {
      "text/plain": [
       "13006"
      ]
     },
     "execution_count": 8,
     "metadata": {},
     "output_type": "execute_result"
    }
   ],
   "source": [
    "len(df)"
   ]
  },
  {
   "cell_type": "code",
   "execution_count": 14,
   "id": "ce9d634c",
   "metadata": {},
   "outputs": [],
   "source": [
    "unique_players = df[[\"name\"]].drop_duplicates()\n",
    "unique_teams = df[[\"team\"]].drop_duplicates()"
   ]
  },
  {
   "cell_type": "code",
   "execution_count": 18,
   "id": "c6e6d3cd",
   "metadata": {},
   "outputs": [
    {
     "name": "stdout",
     "output_type": "stream",
     "text": [
      "# of unique players :  4337\n",
      "# of unique teams :  43\n"
     ]
    }
   ],
   "source": [
    "print(\"# of unique players : \",len(unique_players))\n",
    "print(\"# of unique teams : \",len(unique_teams))"
   ]
  },
  {
   "cell_type": "code",
   "execution_count": 35,
   "id": "2ff14535",
   "metadata": {},
   "outputs": [],
   "source": [
    "df2 = df"
   ]
  },
  {
   "cell_type": "code",
   "execution_count": 36,
   "id": "4cf0ecc3",
   "metadata": {},
   "outputs": [],
   "source": [
    "def f(x):\n",
    "    return x[\"season\"] + \"-\" + x[\"team\"]\n",
    "\n",
    "df2[\"season_team\"] = df2[[\"season\", \"team\"]].apply(lambda x : f(x), axis = 1)"
   ]
  },
  {
   "cell_type": "code",
   "execution_count": 37,
   "id": "08fb9a24",
   "metadata": {},
   "outputs": [],
   "source": [
    "df2 = df2.groupby(\"name\")[\"season_team\"].apply(list).reset_index(name='season_team')"
   ]
  },
  {
   "cell_type": "code",
   "execution_count": 39,
   "id": "7b4030a4",
   "metadata": {},
   "outputs": [],
   "source": [
    "df2['length'] = df2[\"season_team\"].apply(len)"
   ]
  },
  {
   "cell_type": "code",
   "execution_count": 41,
   "id": "23b3ad15",
   "metadata": {},
   "outputs": [
    {
     "data": {
      "text/plain": [
       "2.998847129352087"
      ]
     },
     "execution_count": 41,
     "metadata": {},
     "output_type": "execute_result"
    }
   ],
   "source": [
    "## avg # of seaons per player\n",
    "sum(df2['length'])/len(df2)"
   ]
  },
  {
   "cell_type": "code",
   "execution_count": null,
   "id": "34e78e5c",
   "metadata": {},
   "outputs": [],
   "source": []
  }
 ],
 "metadata": {
  "kernelspec": {
   "display_name": "Python 3",
   "language": "python",
   "name": "python3"
  },
  "language_info": {
   "codemirror_mode": {
    "name": "ipython",
    "version": 3
   },
   "file_extension": ".py",
   "mimetype": "text/x-python",
   "name": "python",
   "nbconvert_exporter": "python",
   "pygments_lexer": "ipython3",
   "version": "3.7.7"
  }
 },
 "nbformat": 4,
 "nbformat_minor": 5
}
